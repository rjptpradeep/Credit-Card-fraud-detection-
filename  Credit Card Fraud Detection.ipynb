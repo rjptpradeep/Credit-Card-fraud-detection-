{
 "cells": [
  {
   "cell_type": "code",
   "execution_count": 1,
   "id": "a30ee75a",
   "metadata": {},
   "outputs": [],
   "source": [
    "# Importing libraries\n",
    "import pandas as pd\n",
    "import numpy as np \n",
    "import matplotlib.pyplot as plt\n",
    "import seaborn as sns"
   ]
  },
  {
   "cell_type": "code",
   "execution_count": 2,
   "id": "7ec6dce3",
   "metadata": {},
   "outputs": [],
   "source": [
    "df=pd.read_csv(\"creditcard.csv\")"
   ]
  },
  {
   "cell_type": "code",
   "execution_count": 3,
   "id": "bc4409c9",
   "metadata": {},
   "outputs": [
    {
     "data": {
      "text/plain": [
       "(284807, 31)"
      ]
     },
     "execution_count": 3,
     "metadata": {},
     "output_type": "execute_result"
    }
   ],
   "source": [
    "df.shape"
   ]
  },
  {
   "cell_type": "code",
   "execution_count": 4,
   "id": "0b083679",
   "metadata": {},
   "outputs": [
    {
     "name": "stdout",
     "output_type": "stream",
     "text": [
      "<class 'pandas.core.frame.DataFrame'>\n",
      "RangeIndex: 284807 entries, 0 to 284806\n",
      "Data columns (total 31 columns):\n",
      " #   Column  Non-Null Count   Dtype  \n",
      "---  ------  --------------   -----  \n",
      " 0   Time    284807 non-null  float64\n",
      " 1   V1      284807 non-null  float64\n",
      " 2   V2      284807 non-null  float64\n",
      " 3   V3      284807 non-null  float64\n",
      " 4   V4      284807 non-null  float64\n",
      " 5   V5      284807 non-null  float64\n",
      " 6   V6      284807 non-null  float64\n",
      " 7   V7      284807 non-null  float64\n",
      " 8   V8      284807 non-null  float64\n",
      " 9   V9      284807 non-null  float64\n",
      " 10  V10     284807 non-null  float64\n",
      " 11  V11     284807 non-null  float64\n",
      " 12  V12     284807 non-null  float64\n",
      " 13  V13     284807 non-null  float64\n",
      " 14  V14     284807 non-null  float64\n",
      " 15  V15     284807 non-null  float64\n",
      " 16  V16     284807 non-null  float64\n",
      " 17  V17     284807 non-null  float64\n",
      " 18  V18     284807 non-null  float64\n",
      " 19  V19     284807 non-null  float64\n",
      " 20  V20     284807 non-null  float64\n",
      " 21  V21     284807 non-null  float64\n",
      " 22  V22     284807 non-null  float64\n",
      " 23  V23     284807 non-null  float64\n",
      " 24  V24     284807 non-null  float64\n",
      " 25  V25     284807 non-null  float64\n",
      " 26  V26     284807 non-null  float64\n",
      " 27  V27     284807 non-null  float64\n",
      " 28  V28     284807 non-null  float64\n",
      " 29  Amount  284807 non-null  float64\n",
      " 30  Class   284807 non-null  int64  \n",
      "dtypes: float64(30), int64(1)\n",
      "memory usage: 67.4 MB\n"
     ]
    }
   ],
   "source": [
    "df.info()"
   ]
  },
  {
   "cell_type": "code",
   "execution_count": 5,
   "id": "5679c817",
   "metadata": {},
   "outputs": [
    {
     "data": {
      "text/html": [
       "<div>\n",
       "<style scoped>\n",
       "    .dataframe tbody tr th:only-of-type {\n",
       "        vertical-align: middle;\n",
       "    }\n",
       "\n",
       "    .dataframe tbody tr th {\n",
       "        vertical-align: top;\n",
       "    }\n",
       "\n",
       "    .dataframe thead th {\n",
       "        text-align: right;\n",
       "    }\n",
       "</style>\n",
       "<table border=\"1\" class=\"dataframe\">\n",
       "  <thead>\n",
       "    <tr style=\"text-align: right;\">\n",
       "      <th></th>\n",
       "      <th>Time</th>\n",
       "      <th>V1</th>\n",
       "      <th>V2</th>\n",
       "      <th>V3</th>\n",
       "      <th>V4</th>\n",
       "      <th>V5</th>\n",
       "      <th>V6</th>\n",
       "      <th>V7</th>\n",
       "      <th>V8</th>\n",
       "      <th>V9</th>\n",
       "      <th>...</th>\n",
       "      <th>V21</th>\n",
       "      <th>V22</th>\n",
       "      <th>V23</th>\n",
       "      <th>V24</th>\n",
       "      <th>V25</th>\n",
       "      <th>V26</th>\n",
       "      <th>V27</th>\n",
       "      <th>V28</th>\n",
       "      <th>Amount</th>\n",
       "      <th>Class</th>\n",
       "    </tr>\n",
       "  </thead>\n",
       "  <tbody>\n",
       "    <tr>\n",
       "      <th>count</th>\n",
       "      <td>284807.000000</td>\n",
       "      <td>2.848070e+05</td>\n",
       "      <td>2.848070e+05</td>\n",
       "      <td>2.848070e+05</td>\n",
       "      <td>2.848070e+05</td>\n",
       "      <td>2.848070e+05</td>\n",
       "      <td>2.848070e+05</td>\n",
       "      <td>2.848070e+05</td>\n",
       "      <td>2.848070e+05</td>\n",
       "      <td>2.848070e+05</td>\n",
       "      <td>...</td>\n",
       "      <td>2.848070e+05</td>\n",
       "      <td>2.848070e+05</td>\n",
       "      <td>2.848070e+05</td>\n",
       "      <td>2.848070e+05</td>\n",
       "      <td>2.848070e+05</td>\n",
       "      <td>2.848070e+05</td>\n",
       "      <td>2.848070e+05</td>\n",
       "      <td>2.848070e+05</td>\n",
       "      <td>284807.000000</td>\n",
       "      <td>284807.000000</td>\n",
       "    </tr>\n",
       "    <tr>\n",
       "      <th>mean</th>\n",
       "      <td>94813.859575</td>\n",
       "      <td>3.918649e-15</td>\n",
       "      <td>5.682686e-16</td>\n",
       "      <td>-8.761736e-15</td>\n",
       "      <td>2.811118e-15</td>\n",
       "      <td>-1.552103e-15</td>\n",
       "      <td>2.040130e-15</td>\n",
       "      <td>-1.698953e-15</td>\n",
       "      <td>-1.893285e-16</td>\n",
       "      <td>-3.147640e-15</td>\n",
       "      <td>...</td>\n",
       "      <td>1.473120e-16</td>\n",
       "      <td>8.042109e-16</td>\n",
       "      <td>5.282512e-16</td>\n",
       "      <td>4.456271e-15</td>\n",
       "      <td>1.426896e-15</td>\n",
       "      <td>1.701640e-15</td>\n",
       "      <td>-3.662252e-16</td>\n",
       "      <td>-1.217809e-16</td>\n",
       "      <td>88.349619</td>\n",
       "      <td>0.001727</td>\n",
       "    </tr>\n",
       "    <tr>\n",
       "      <th>std</th>\n",
       "      <td>47488.145955</td>\n",
       "      <td>1.958696e+00</td>\n",
       "      <td>1.651309e+00</td>\n",
       "      <td>1.516255e+00</td>\n",
       "      <td>1.415869e+00</td>\n",
       "      <td>1.380247e+00</td>\n",
       "      <td>1.332271e+00</td>\n",
       "      <td>1.237094e+00</td>\n",
       "      <td>1.194353e+00</td>\n",
       "      <td>1.098632e+00</td>\n",
       "      <td>...</td>\n",
       "      <td>7.345240e-01</td>\n",
       "      <td>7.257016e-01</td>\n",
       "      <td>6.244603e-01</td>\n",
       "      <td>6.056471e-01</td>\n",
       "      <td>5.212781e-01</td>\n",
       "      <td>4.822270e-01</td>\n",
       "      <td>4.036325e-01</td>\n",
       "      <td>3.300833e-01</td>\n",
       "      <td>250.120109</td>\n",
       "      <td>0.041527</td>\n",
       "    </tr>\n",
       "    <tr>\n",
       "      <th>min</th>\n",
       "      <td>0.000000</td>\n",
       "      <td>-5.640751e+01</td>\n",
       "      <td>-7.271573e+01</td>\n",
       "      <td>-4.832559e+01</td>\n",
       "      <td>-5.683171e+00</td>\n",
       "      <td>-1.137433e+02</td>\n",
       "      <td>-2.616051e+01</td>\n",
       "      <td>-4.355724e+01</td>\n",
       "      <td>-7.321672e+01</td>\n",
       "      <td>-1.343407e+01</td>\n",
       "      <td>...</td>\n",
       "      <td>-3.483038e+01</td>\n",
       "      <td>-1.093314e+01</td>\n",
       "      <td>-4.480774e+01</td>\n",
       "      <td>-2.836627e+00</td>\n",
       "      <td>-1.029540e+01</td>\n",
       "      <td>-2.604551e+00</td>\n",
       "      <td>-2.256568e+01</td>\n",
       "      <td>-1.543008e+01</td>\n",
       "      <td>0.000000</td>\n",
       "      <td>0.000000</td>\n",
       "    </tr>\n",
       "    <tr>\n",
       "      <th>25%</th>\n",
       "      <td>54201.500000</td>\n",
       "      <td>-9.203734e-01</td>\n",
       "      <td>-5.985499e-01</td>\n",
       "      <td>-8.903648e-01</td>\n",
       "      <td>-8.486401e-01</td>\n",
       "      <td>-6.915971e-01</td>\n",
       "      <td>-7.682956e-01</td>\n",
       "      <td>-5.540759e-01</td>\n",
       "      <td>-2.086297e-01</td>\n",
       "      <td>-6.430976e-01</td>\n",
       "      <td>...</td>\n",
       "      <td>-2.283949e-01</td>\n",
       "      <td>-5.423504e-01</td>\n",
       "      <td>-1.618463e-01</td>\n",
       "      <td>-3.545861e-01</td>\n",
       "      <td>-3.171451e-01</td>\n",
       "      <td>-3.269839e-01</td>\n",
       "      <td>-7.083953e-02</td>\n",
       "      <td>-5.295979e-02</td>\n",
       "      <td>5.600000</td>\n",
       "      <td>0.000000</td>\n",
       "    </tr>\n",
       "    <tr>\n",
       "      <th>50%</th>\n",
       "      <td>84692.000000</td>\n",
       "      <td>1.810880e-02</td>\n",
       "      <td>6.548556e-02</td>\n",
       "      <td>1.798463e-01</td>\n",
       "      <td>-1.984653e-02</td>\n",
       "      <td>-5.433583e-02</td>\n",
       "      <td>-2.741871e-01</td>\n",
       "      <td>4.010308e-02</td>\n",
       "      <td>2.235804e-02</td>\n",
       "      <td>-5.142873e-02</td>\n",
       "      <td>...</td>\n",
       "      <td>-2.945017e-02</td>\n",
       "      <td>6.781943e-03</td>\n",
       "      <td>-1.119293e-02</td>\n",
       "      <td>4.097606e-02</td>\n",
       "      <td>1.659350e-02</td>\n",
       "      <td>-5.213911e-02</td>\n",
       "      <td>1.342146e-03</td>\n",
       "      <td>1.124383e-02</td>\n",
       "      <td>22.000000</td>\n",
       "      <td>0.000000</td>\n",
       "    </tr>\n",
       "    <tr>\n",
       "      <th>75%</th>\n",
       "      <td>139320.500000</td>\n",
       "      <td>1.315642e+00</td>\n",
       "      <td>8.037239e-01</td>\n",
       "      <td>1.027196e+00</td>\n",
       "      <td>7.433413e-01</td>\n",
       "      <td>6.119264e-01</td>\n",
       "      <td>3.985649e-01</td>\n",
       "      <td>5.704361e-01</td>\n",
       "      <td>3.273459e-01</td>\n",
       "      <td>5.971390e-01</td>\n",
       "      <td>...</td>\n",
       "      <td>1.863772e-01</td>\n",
       "      <td>5.285536e-01</td>\n",
       "      <td>1.476421e-01</td>\n",
       "      <td>4.395266e-01</td>\n",
       "      <td>3.507156e-01</td>\n",
       "      <td>2.409522e-01</td>\n",
       "      <td>9.104512e-02</td>\n",
       "      <td>7.827995e-02</td>\n",
       "      <td>77.165000</td>\n",
       "      <td>0.000000</td>\n",
       "    </tr>\n",
       "    <tr>\n",
       "      <th>max</th>\n",
       "      <td>172792.000000</td>\n",
       "      <td>2.454930e+00</td>\n",
       "      <td>2.205773e+01</td>\n",
       "      <td>9.382558e+00</td>\n",
       "      <td>1.687534e+01</td>\n",
       "      <td>3.480167e+01</td>\n",
       "      <td>7.330163e+01</td>\n",
       "      <td>1.205895e+02</td>\n",
       "      <td>2.000721e+01</td>\n",
       "      <td>1.559499e+01</td>\n",
       "      <td>...</td>\n",
       "      <td>2.720284e+01</td>\n",
       "      <td>1.050309e+01</td>\n",
       "      <td>2.252841e+01</td>\n",
       "      <td>4.584549e+00</td>\n",
       "      <td>7.519589e+00</td>\n",
       "      <td>3.517346e+00</td>\n",
       "      <td>3.161220e+01</td>\n",
       "      <td>3.384781e+01</td>\n",
       "      <td>25691.160000</td>\n",
       "      <td>1.000000</td>\n",
       "    </tr>\n",
       "  </tbody>\n",
       "</table>\n",
       "<p>8 rows × 31 columns</p>\n",
       "</div>"
      ],
      "text/plain": [
       "                Time            V1            V2            V3            V4  \\\n",
       "count  284807.000000  2.848070e+05  2.848070e+05  2.848070e+05  2.848070e+05   \n",
       "mean    94813.859575  3.918649e-15  5.682686e-16 -8.761736e-15  2.811118e-15   \n",
       "std     47488.145955  1.958696e+00  1.651309e+00  1.516255e+00  1.415869e+00   \n",
       "min         0.000000 -5.640751e+01 -7.271573e+01 -4.832559e+01 -5.683171e+00   \n",
       "25%     54201.500000 -9.203734e-01 -5.985499e-01 -8.903648e-01 -8.486401e-01   \n",
       "50%     84692.000000  1.810880e-02  6.548556e-02  1.798463e-01 -1.984653e-02   \n",
       "75%    139320.500000  1.315642e+00  8.037239e-01  1.027196e+00  7.433413e-01   \n",
       "max    172792.000000  2.454930e+00  2.205773e+01  9.382558e+00  1.687534e+01   \n",
       "\n",
       "                 V5            V6            V7            V8            V9  \\\n",
       "count  2.848070e+05  2.848070e+05  2.848070e+05  2.848070e+05  2.848070e+05   \n",
       "mean  -1.552103e-15  2.040130e-15 -1.698953e-15 -1.893285e-16 -3.147640e-15   \n",
       "std    1.380247e+00  1.332271e+00  1.237094e+00  1.194353e+00  1.098632e+00   \n",
       "min   -1.137433e+02 -2.616051e+01 -4.355724e+01 -7.321672e+01 -1.343407e+01   \n",
       "25%   -6.915971e-01 -7.682956e-01 -5.540759e-01 -2.086297e-01 -6.430976e-01   \n",
       "50%   -5.433583e-02 -2.741871e-01  4.010308e-02  2.235804e-02 -5.142873e-02   \n",
       "75%    6.119264e-01  3.985649e-01  5.704361e-01  3.273459e-01  5.971390e-01   \n",
       "max    3.480167e+01  7.330163e+01  1.205895e+02  2.000721e+01  1.559499e+01   \n",
       "\n",
       "       ...           V21           V22           V23           V24  \\\n",
       "count  ...  2.848070e+05  2.848070e+05  2.848070e+05  2.848070e+05   \n",
       "mean   ...  1.473120e-16  8.042109e-16  5.282512e-16  4.456271e-15   \n",
       "std    ...  7.345240e-01  7.257016e-01  6.244603e-01  6.056471e-01   \n",
       "min    ... -3.483038e+01 -1.093314e+01 -4.480774e+01 -2.836627e+00   \n",
       "25%    ... -2.283949e-01 -5.423504e-01 -1.618463e-01 -3.545861e-01   \n",
       "50%    ... -2.945017e-02  6.781943e-03 -1.119293e-02  4.097606e-02   \n",
       "75%    ...  1.863772e-01  5.285536e-01  1.476421e-01  4.395266e-01   \n",
       "max    ...  2.720284e+01  1.050309e+01  2.252841e+01  4.584549e+00   \n",
       "\n",
       "                V25           V26           V27           V28         Amount  \\\n",
       "count  2.848070e+05  2.848070e+05  2.848070e+05  2.848070e+05  284807.000000   \n",
       "mean   1.426896e-15  1.701640e-15 -3.662252e-16 -1.217809e-16      88.349619   \n",
       "std    5.212781e-01  4.822270e-01  4.036325e-01  3.300833e-01     250.120109   \n",
       "min   -1.029540e+01 -2.604551e+00 -2.256568e+01 -1.543008e+01       0.000000   \n",
       "25%   -3.171451e-01 -3.269839e-01 -7.083953e-02 -5.295979e-02       5.600000   \n",
       "50%    1.659350e-02 -5.213911e-02  1.342146e-03  1.124383e-02      22.000000   \n",
       "75%    3.507156e-01  2.409522e-01  9.104512e-02  7.827995e-02      77.165000   \n",
       "max    7.519589e+00  3.517346e+00  3.161220e+01  3.384781e+01   25691.160000   \n",
       "\n",
       "               Class  \n",
       "count  284807.000000  \n",
       "mean        0.001727  \n",
       "std         0.041527  \n",
       "min         0.000000  \n",
       "25%         0.000000  \n",
       "50%         0.000000  \n",
       "75%         0.000000  \n",
       "max         1.000000  \n",
       "\n",
       "[8 rows x 31 columns]"
      ]
     },
     "execution_count": 5,
     "metadata": {},
     "output_type": "execute_result"
    }
   ],
   "source": [
    "\n",
    "df.describe()"
   ]
  },
  {
   "cell_type": "code",
   "execution_count": 6,
   "id": "69a11b46",
   "metadata": {},
   "outputs": [
    {
     "name": "stdout",
     "output_type": "stream",
     "text": [
      "Time      0\n",
      "V1        0\n",
      "V2        0\n",
      "V3        0\n",
      "V4        0\n",
      "V5        0\n",
      "V6        0\n",
      "V7        0\n",
      "V8        0\n",
      "V9        0\n",
      "V10       0\n",
      "V11       0\n",
      "V12       0\n",
      "V13       0\n",
      "V14       0\n",
      "V15       0\n",
      "V16       0\n",
      "V17       0\n",
      "V18       0\n",
      "V19       0\n",
      "V20       0\n",
      "V21       0\n",
      "V22       0\n",
      "V23       0\n",
      "V24       0\n",
      "V25       0\n",
      "V26       0\n",
      "V27       0\n",
      "V28       0\n",
      "Amount    0\n",
      "Class     0\n",
      "dtype: int64\n"
     ]
    }
   ],
   "source": [
    "# Checking for missing value\n",
    "missing_value=df.isnull().sum()\n",
    "print(missing_value)"
   ]
  },
  {
   "cell_type": "code",
   "execution_count": 7,
   "id": "84084909",
   "metadata": {},
   "outputs": [
    {
     "name": "stdout",
     "output_type": "stream",
     "text": [
      "0    284315\n",
      "1       492\n",
      "Name: Class, dtype: int64\n"
     ]
    }
   ],
   "source": [
    "# Distribution of ligit transaction and fraudulent transactions\n",
    "Classes=df[\"Class\"].value_counts(\"\")\n",
    "print(Classes)"
   ]
  },
  {
   "cell_type": "code",
   "execution_count": 8,
   "id": "c9660c96",
   "metadata": {},
   "outputs": [
    {
     "data": {
      "text/plain": [
       "99.83"
      ]
     },
     "execution_count": 8,
     "metadata": {},
     "output_type": "execute_result"
    }
   ],
   "source": [
    "legit_share=round((Classes[0]/df['Class'].count()*100),2) #*100 for integer value and ,2 for round up to decimal\n",
    "legit_share"
   ]
  },
  {
   "cell_type": "code",
   "execution_count": 9,
   "id": "a4598fb1",
   "metadata": {},
   "outputs": [
    {
     "data": {
      "text/plain": [
       "0.17"
      ]
     },
     "execution_count": 9,
     "metadata": {},
     "output_type": "execute_result"
    }
   ],
   "source": [
    "fraud_share=round((Classes[1]/df[\"Class\"].count()*100),2)\n",
    "fraud_share"
   ]
  },
  {
   "cell_type": "markdown",
   "id": "5db9f3c0",
   "metadata": {},
   "source": [
    "We can see, there are only 0.17 percents fraud case. we will take care of the class imblance later."
   ]
  },
  {
   "cell_type": "code",
   "execution_count": 10,
   "id": "b7607fa8",
   "metadata": {},
   "outputs": [
    {
     "data": {
      "text/html": [
       "<div>\n",
       "<style scoped>\n",
       "    .dataframe tbody tr th:only-of-type {\n",
       "        vertical-align: middle;\n",
       "    }\n",
       "\n",
       "    .dataframe tbody tr th {\n",
       "        vertical-align: top;\n",
       "    }\n",
       "\n",
       "    .dataframe thead th {\n",
       "        text-align: right;\n",
       "    }\n",
       "</style>\n",
       "<table border=\"1\" class=\"dataframe\">\n",
       "  <thead>\n",
       "    <tr style=\"text-align: right;\">\n",
       "      <th></th>\n",
       "      <th>Class</th>\n",
       "      <th>Percentage</th>\n",
       "    </tr>\n",
       "  </thead>\n",
       "  <tbody>\n",
       "    <tr>\n",
       "      <th>0</th>\n",
       "      <td>Non-Fraudulent</td>\n",
       "      <td>99.83</td>\n",
       "    </tr>\n",
       "    <tr>\n",
       "      <th>1</th>\n",
       "      <td>Fraudulent</td>\n",
       "      <td>0.17</td>\n",
       "    </tr>\n",
       "  </tbody>\n",
       "</table>\n",
       "</div>"
      ],
      "text/plain": [
       "            Class  Percentage\n",
       "0  Non-Fraudulent       99.83\n",
       "1      Fraudulent        0.17"
      ]
     },
     "execution_count": 10,
     "metadata": {},
     "output_type": "execute_result"
    }
   ],
   "source": [
    "# Bar plot for no. of fraud and non fraud transcations\n",
    "fraud_percentage={\"Class\":[\"Non-Fraudulent\",\"Fraudulent\"],\"Percentage\":[legit_share,fraud_share]}\n",
    "df_fraud_percentage=pd.DataFrame(fraud_percentage)\n",
    "df_fraud_percentage\n",
    "\n",
    "\n"
   ]
  },
  {
   "cell_type": "code",
   "execution_count": 11,
   "id": "17965aae",
   "metadata": {},
   "outputs": [
    {
     "data": {
      "image/png": "[encoded data removed]",
      "text/plain": [
       "<Figure size 432x288 with 1 Axes>"
      ]
     },
     "metadata": {
      "needs_background": "light"
     },
     "output_type": "display_data"
    }
   ],
   "source": [
    "sns.barplot(x=\"Class\",y=\"Percentage\",data=df_fraud_percentage)\n",
    "plt.title(\"percentage of fraudulent and non-fraudulent transaction\")\n",
    "plt.show()\n",
    "\n",
    "\n"
   ]
  },
  {
   "cell_type": "markdown",
   "id": "1f8752b0",
   "metadata": {},
   "source": [
    "# OBSERVING THE DISTRIBUTION OF CLASSES WITH TIME."
   ]
  },
  {
   "cell_type": "code",
   "execution_count": 12,
   "id": "de970eda",
   "metadata": {},
   "outputs": [],
   "source": [
    "# OBSERVE THE DISTRIBUTION OF CLASSES WITH TIME.\n",
    "#Creating fradulent dataframe\n",
    "data_fraud=df[df[\"Class\"]==1]\n",
    "# Creating ligit dataframe\n",
    "data_ligit=df[df[\"Class\"]==0]\n"
   ]
  },
  {
   "cell_type": "code",
   "execution_count": 14,
   "id": "45015037",
   "metadata": {},
   "outputs": [
    {
     "name": "stderr",
     "output_type": "stream",
     "text": [
      "C:\\Users\\91979\\anaconda3\\lib\\site-packages\\seaborn\\distributions.py:2557: FutureWarning: `distplot` is a deprecated function and will be removed in a future version. Please adapt your code to use either `displot` (a figure-level function with similar flexibility) or `histplot` (an axes-level function for histograms).\n",
      "  warnings.warn(msg, FutureWarning)\n",
      "C:\\Users\\91979\\anaconda3\\lib\\site-packages\\seaborn\\distributions.py:2557: FutureWarning: `distplot` is a deprecated function and will be removed in a future version. Please adapt your code to use either `displot` (a figure-level function with similar flexibility) or `histplot` (an axes-level function for histograms).\n",
      "  warnings.warn(msg, FutureWarning)\n"
     ]
    },
    {
     "data": {
      "image/png": "[encoded data removed]",
      "text/plain": [
       "<Figure size 576x360 with 1 Axes>"
      ]
     },
     "metadata": {
      "needs_background": "light"
     },
     "output_type": "display_data"
    }
   ],
   "source": [
    "# Distribution plot\n",
    "plt.figure(figsize=(8,5))\n",
    "ax = sns.distplot(data_fraud['Time'],label='fraudulent')\n",
    "ax = sns.distplot(data_ligit['Time'],label='ligit')\n",
    "ax.set(xlabel='Seconds elapsed between the transaction and the first transction')\n",
    "plt.legend()\n",
    "plt.show()"
   ]
  },
  {
   "cell_type": "markdown",
   "id": "4730a34e",
   "metadata": {},
   "source": [
    "Analysis,\n",
    "We do not see any specific pattern for the fraudulent and non-fraudulent transctions with respect to Time. Hence, we can drop the Time column"
   ]
  },
  {
   "cell_type": "code",
   "execution_count": 15,
   "id": "04d925c0",
   "metadata": {},
   "outputs": [],
   "source": [
    "# Dropping the \"Time\" column\n",
    "df.drop('Time', axis=1, inplace=True)"
   ]
  },
  {
   "cell_type": "markdown",
   "id": "53ce7fe3",
   "metadata": {},
   "source": [
    "# Observing the distribution of classes with amount"
   ]
  },
  {
   "cell_type": "code",
   "execution_count": 16,
   "id": "78cc5b6a",
   "metadata": {},
   "outputs": [
    {
     "name": "stderr",
     "output_type": "stream",
     "text": [
      "C:\\Users\\91979\\anaconda3\\lib\\site-packages\\seaborn\\distributions.py:2557: FutureWarning: `distplot` is a deprecated function and will be removed in a future version. Please adapt your code to use either `displot` (a figure-level function with similar flexibility) or `kdeplot` (an axes-level function for kernel density plots).\n",
      "  warnings.warn(msg, FutureWarning)\n",
      "C:\\Users\\91979\\anaconda3\\lib\\site-packages\\seaborn\\distributions.py:2557: FutureWarning: `distplot` is a deprecated function and will be removed in a future version. Please adapt your code to use either `displot` (a figure-level function with similar flexibility) or `kdeplot` (an axes-level function for kernel density plots).\n",
      "  warnings.warn(msg, FutureWarning)\n"
     ]
    },
    {
     "data": {
      "image/png": "[encoded data removed]",
      "text/plain": [
       "<Figure size 576x360 with 1 Axes>"
      ]
     },
     "metadata": {
      "needs_background": "light"
     },
     "output_type": "display_data"
    }
   ],
   "source": [
    "plt.figure(figsize=(8,5))\n",
    "ax=sns.distplot(data_fraud[\"Amount\"],label=\"fraudulent\",hist=False)\n",
    "ax=sns.distplot(data_ligit[\"Amount\"],label=\"non fraudulent\",hist=False)\n",
    "ax.set(xlabel=\"Transaction amount\")\n",
    "plt.legend()\n",
    "plt.show()\n"
   ]
  },
  {
   "cell_type": "markdown",
   "id": "4a07b038",
   "metadata": {},
   "source": [
    "Analysis,\n",
    "We can see that the fraudulent transctions are mostly densed in the lower range of amount, whereas the non-fraudulent transctions are spreaded throughout low to high range of amount."
   ]
  },
  {
   "cell_type": "code",
   "execution_count": 17,
   "id": "798ecbe1",
   "metadata": {},
   "outputs": [],
   "source": [
    "# Importing library\n",
    "from sklearn.model_selection import train_test_split"
   ]
  },
  {
   "cell_type": "code",
   "execution_count": 18,
   "id": "63bb0060",
   "metadata": {},
   "outputs": [],
   "source": [
    "# Storing feature variable into x\n",
    "x=df.drop([\"Class\"],axis=1)\n",
    "# Storing target variable to y\n",
    "y=df[\"Class\"]\n",
    "# Splitting data into train and test set 80:20\n",
    "x_train, x_test, y_train, y_test=train_test_split(x, y, train_size=0.8,test_size=0.2,random_state=100)"
   ]
  },
  {
   "cell_type": "markdown",
   "id": "1612a282",
   "metadata": {},
   "source": [
    "# Feature scaling\n",
    "Here we need to scale only the amount coulmn as all other coulmns are already scaled by the PCA transformation."
   ]
  },
  {
   "cell_type": "code",
   "execution_count": 19,
   "id": "86e2fd07",
   "metadata": {},
   "outputs": [
    {
     "name": "stderr",
     "output_type": "stream",
     "text": [
      "<ipython-input-19-538eddea87e9>:5: SettingWithCopyWarning: \n",
      "A value is trying to be set on a copy of a slice from a DataFrame.\n",
      "Try using .loc[row_indexer,col_indexer] = value instead\n",
      "\n",
      "See the caveats in the documentation: https://pandas.pydata.org/pandas-docs/stable/user_guide/indexing.html#returning-a-view-versus-a-copy\n",
      "  x_train[\"Amount\"]=scaler.fit_transform(x_train[[\"Amount\"]])\n",
      "<ipython-input-19-538eddea87e9>:6: SettingWithCopyWarning: \n",
      "A value is trying to be set on a copy of a slice from a DataFrame.\n",
      "Try using .loc[row_indexer,col_indexer] = value instead\n",
      "\n",
      "See the caveats in the documentation: https://pandas.pydata.org/pandas-docs/stable/user_guide/indexing.html#returning-a-view-versus-a-copy\n",
      "  x_test[\"Amount\"]=scaler.fit_transform(x_test[[\"Amount\"]])\n"
     ]
    }
   ],
   "source": [
    "# Standardization method\n",
    "from sklearn.preprocessing import StandardScaler\n",
    "scaler=StandardScaler()\n",
    "# Fit the data into scaler and transform\n",
    "x_train[\"Amount\"]=scaler.fit_transform(x_train[[\"Amount\"]])\n",
    "x_test[\"Amount\"]=scaler.fit_transform(x_test[[\"Amount\"]])\n"
   ]
  },
  {
   "cell_type": "code",
   "execution_count": 20,
   "id": "8dd04e1a",
   "metadata": {},
   "outputs": [
    {
     "data": {
      "text/html": [
       "<div>\n",
       "<style scoped>\n",
       "    .dataframe tbody tr th:only-of-type {\n",
       "        vertical-align: middle;\n",
       "    }\n",
       "\n",
       "    .dataframe tbody tr th {\n",
       "        vertical-align: top;\n",
       "    }\n",
       "\n",
       "    .dataframe thead th {\n",
       "        text-align: right;\n",
       "    }\n",
       "</style>\n",
       "<table border=\"1\" class=\"dataframe\">\n",
       "  <thead>\n",
       "    <tr style=\"text-align: right;\">\n",
       "      <th></th>\n",
       "      <th>V1</th>\n",
       "      <th>V2</th>\n",
       "      <th>V3</th>\n",
       "      <th>V4</th>\n",
       "      <th>V5</th>\n",
       "      <th>V6</th>\n",
       "      <th>V7</th>\n",
       "      <th>V8</th>\n",
       "      <th>V9</th>\n",
       "      <th>V10</th>\n",
       "      <th>...</th>\n",
       "      <th>V20</th>\n",
       "      <th>V21</th>\n",
       "      <th>V22</th>\n",
       "      <th>V23</th>\n",
       "      <th>V24</th>\n",
       "      <th>V25</th>\n",
       "      <th>V26</th>\n",
       "      <th>V27</th>\n",
       "      <th>V28</th>\n",
       "      <th>Amount</th>\n",
       "    </tr>\n",
       "  </thead>\n",
       "  <tbody>\n",
       "    <tr>\n",
       "      <th>201788</th>\n",
       "      <td>2.023734</td>\n",
       "      <td>-0.429219</td>\n",
       "      <td>-0.691061</td>\n",
       "      <td>-0.201461</td>\n",
       "      <td>-0.162486</td>\n",
       "      <td>0.283718</td>\n",
       "      <td>-0.674694</td>\n",
       "      <td>0.192230</td>\n",
       "      <td>1.124319</td>\n",
       "      <td>-0.037763</td>\n",
       "      <td>...</td>\n",
       "      <td>-0.171390</td>\n",
       "      <td>-0.195207</td>\n",
       "      <td>-0.477813</td>\n",
       "      <td>0.340513</td>\n",
       "      <td>0.059174</td>\n",
       "      <td>-0.431015</td>\n",
       "      <td>-0.297028</td>\n",
       "      <td>-0.000063</td>\n",
       "      <td>-0.046947</td>\n",
       "      <td>-0.345273</td>\n",
       "    </tr>\n",
       "    <tr>\n",
       "      <th>179369</th>\n",
       "      <td>-0.145286</td>\n",
       "      <td>0.736735</td>\n",
       "      <td>0.543226</td>\n",
       "      <td>0.892662</td>\n",
       "      <td>0.350846</td>\n",
       "      <td>0.089253</td>\n",
       "      <td>0.626708</td>\n",
       "      <td>-0.049137</td>\n",
       "      <td>-0.732566</td>\n",
       "      <td>0.297692</td>\n",
       "      <td>...</td>\n",
       "      <td>0.206709</td>\n",
       "      <td>-0.124288</td>\n",
       "      <td>-0.263560</td>\n",
       "      <td>-0.110568</td>\n",
       "      <td>-0.434224</td>\n",
       "      <td>-0.509076</td>\n",
       "      <td>0.719784</td>\n",
       "      <td>-0.006357</td>\n",
       "      <td>0.146053</td>\n",
       "      <td>-0.206439</td>\n",
       "    </tr>\n",
       "    <tr>\n",
       "      <th>73138</th>\n",
       "      <td>-3.015846</td>\n",
       "      <td>-1.920606</td>\n",
       "      <td>1.229574</td>\n",
       "      <td>0.721577</td>\n",
       "      <td>1.089918</td>\n",
       "      <td>-0.195727</td>\n",
       "      <td>-0.462586</td>\n",
       "      <td>0.919341</td>\n",
       "      <td>-0.612193</td>\n",
       "      <td>-0.966197</td>\n",
       "      <td>...</td>\n",
       "      <td>0.842838</td>\n",
       "      <td>0.274911</td>\n",
       "      <td>-0.319550</td>\n",
       "      <td>0.212891</td>\n",
       "      <td>-0.268792</td>\n",
       "      <td>0.241190</td>\n",
       "      <td>0.318445</td>\n",
       "      <td>-0.100726</td>\n",
       "      <td>-0.365257</td>\n",
       "      <td>0.358043</td>\n",
       "    </tr>\n",
       "    <tr>\n",
       "      <th>208679</th>\n",
       "      <td>1.851980</td>\n",
       "      <td>-1.007445</td>\n",
       "      <td>-1.499762</td>\n",
       "      <td>-0.220770</td>\n",
       "      <td>-0.568376</td>\n",
       "      <td>-1.232633</td>\n",
       "      <td>0.248573</td>\n",
       "      <td>-0.539483</td>\n",
       "      <td>-0.813368</td>\n",
       "      <td>0.785431</td>\n",
       "      <td>...</td>\n",
       "      <td>-0.196551</td>\n",
       "      <td>-0.406722</td>\n",
       "      <td>-0.899081</td>\n",
       "      <td>0.137370</td>\n",
       "      <td>0.075894</td>\n",
       "      <td>-0.244027</td>\n",
       "      <td>0.455618</td>\n",
       "      <td>-0.094066</td>\n",
       "      <td>-0.031488</td>\n",
       "      <td>0.362400</td>\n",
       "    </tr>\n",
       "    <tr>\n",
       "      <th>206534</th>\n",
       "      <td>2.237844</td>\n",
       "      <td>-0.551513</td>\n",
       "      <td>-1.426515</td>\n",
       "      <td>-0.924369</td>\n",
       "      <td>-0.401734</td>\n",
       "      <td>-1.438232</td>\n",
       "      <td>-0.119942</td>\n",
       "      <td>-0.449263</td>\n",
       "      <td>-0.717258</td>\n",
       "      <td>0.851668</td>\n",
       "      <td>...</td>\n",
       "      <td>-0.045417</td>\n",
       "      <td>0.050447</td>\n",
       "      <td>0.125601</td>\n",
       "      <td>0.215531</td>\n",
       "      <td>-0.080485</td>\n",
       "      <td>-0.063975</td>\n",
       "      <td>-0.307176</td>\n",
       "      <td>-0.042838</td>\n",
       "      <td>-0.063872</td>\n",
       "      <td>-0.316109</td>\n",
       "    </tr>\n",
       "  </tbody>\n",
       "</table>\n",
       "<p>5 rows × 29 columns</p>\n",
       "</div>"
      ],
      "text/plain": [
       "              V1        V2        V3        V4        V5        V6        V7  \\\n",
       "201788  2.023734 -0.429219 -0.691061 -0.201461 -0.162486  0.283718 -0.674694   \n",
       "179369 -0.145286  0.736735  0.543226  0.892662  0.350846  0.089253  0.626708   \n",
       "73138  -3.015846 -1.920606  1.229574  0.721577  1.089918 -0.195727 -0.462586   \n",
       "208679  1.851980 -1.007445 -1.499762 -0.220770 -0.568376 -1.232633  0.248573   \n",
       "206534  2.237844 -0.551513 -1.426515 -0.924369 -0.401734 -1.438232 -0.119942   \n",
       "\n",
       "              V8        V9       V10  ...       V20       V21       V22  \\\n",
       "201788  0.192230  1.124319 -0.037763  ... -0.171390 -0.195207 -0.477813   \n",
       "179369 -0.049137 -0.732566  0.297692  ...  0.206709 -0.124288 -0.263560   \n",
       "73138   0.919341 -0.612193 -0.966197  ...  0.842838  0.274911 -0.319550   \n",
       "208679 -0.539483 -0.813368  0.785431  ... -0.196551 -0.406722 -0.899081   \n",
       "206534 -0.449263 -0.717258  0.851668  ... -0.045417  0.050447  0.125601   \n",
       "\n",
       "             V23       V24       V25       V26       V27       V28    Amount  \n",
       "201788  0.340513  0.059174 -0.431015 -0.297028 -0.000063 -0.046947 -0.345273  \n",
       "179369 -0.110568 -0.434224 -0.509076  0.719784 -0.006357  0.146053 -0.206439  \n",
       "73138   0.212891 -0.268792  0.241190  0.318445 -0.100726 -0.365257  0.358043  \n",
       "208679  0.137370  0.075894 -0.244027  0.455618 -0.094066 -0.031488  0.362400  \n",
       "206534  0.215531 -0.080485 -0.063975 -0.307176 -0.042838 -0.063872 -0.316109  \n",
       "\n",
       "[5 rows x 29 columns]"
      ]
     },
     "execution_count": 20,
     "metadata": {},
     "output_type": "execute_result"
    }
   ],
   "source": [
    "x_train.head()"
   ]
  },
  {
   "cell_type": "code",
   "execution_count": 21,
   "id": "84b874ad",
   "metadata": {},
   "outputs": [
    {
     "data": {
      "text/html": [
       "<div>\n",
       "<style scoped>\n",
       "    .dataframe tbody tr th:only-of-type {\n",
       "        vertical-align: middle;\n",
       "    }\n",
       "\n",
       "    .dataframe tbody tr th {\n",
       "        vertical-align: top;\n",
       "    }\n",
       "\n",
       "    .dataframe thead th {\n",
       "        text-align: right;\n",
       "    }\n",
       "</style>\n",
       "<table border=\"1\" class=\"dataframe\">\n",
       "  <thead>\n",
       "    <tr style=\"text-align: right;\">\n",
       "      <th></th>\n",
       "      <th>V1</th>\n",
       "      <th>V2</th>\n",
       "      <th>V3</th>\n",
       "      <th>V4</th>\n",
       "      <th>V5</th>\n",
       "      <th>V6</th>\n",
       "      <th>V7</th>\n",
       "      <th>V8</th>\n",
       "      <th>V9</th>\n",
       "      <th>V10</th>\n",
       "      <th>...</th>\n",
       "      <th>V20</th>\n",
       "      <th>V21</th>\n",
       "      <th>V22</th>\n",
       "      <th>V23</th>\n",
       "      <th>V24</th>\n",
       "      <th>V25</th>\n",
       "      <th>V26</th>\n",
       "      <th>V27</th>\n",
       "      <th>V28</th>\n",
       "      <th>Amount</th>\n",
       "    </tr>\n",
       "  </thead>\n",
       "  <tbody>\n",
       "    <tr>\n",
       "      <th>49089</th>\n",
       "      <td>1.229452</td>\n",
       "      <td>-0.235478</td>\n",
       "      <td>-0.627166</td>\n",
       "      <td>0.419877</td>\n",
       "      <td>1.797014</td>\n",
       "      <td>4.069574</td>\n",
       "      <td>-0.896223</td>\n",
       "      <td>1.036103</td>\n",
       "      <td>0.745991</td>\n",
       "      <td>-0.147304</td>\n",
       "      <td>...</td>\n",
       "      <td>-0.057922</td>\n",
       "      <td>-0.170060</td>\n",
       "      <td>-0.288750</td>\n",
       "      <td>-0.130270</td>\n",
       "      <td>1.025935</td>\n",
       "      <td>0.847990</td>\n",
       "      <td>-0.271476</td>\n",
       "      <td>0.060052</td>\n",
       "      <td>0.018104</td>\n",
       "      <td>-0.367842</td>\n",
       "    </tr>\n",
       "    <tr>\n",
       "      <th>154704</th>\n",
       "      <td>2.016893</td>\n",
       "      <td>-0.088751</td>\n",
       "      <td>-2.989257</td>\n",
       "      <td>-0.142575</td>\n",
       "      <td>2.675427</td>\n",
       "      <td>3.332289</td>\n",
       "      <td>-0.652336</td>\n",
       "      <td>0.752811</td>\n",
       "      <td>1.962566</td>\n",
       "      <td>-1.025024</td>\n",
       "      <td>...</td>\n",
       "      <td>-0.147619</td>\n",
       "      <td>-0.184153</td>\n",
       "      <td>-0.089661</td>\n",
       "      <td>0.087188</td>\n",
       "      <td>0.570679</td>\n",
       "      <td>0.101899</td>\n",
       "      <td>0.620842</td>\n",
       "      <td>-0.048958</td>\n",
       "      <td>-0.042831</td>\n",
       "      <td>-0.346160</td>\n",
       "    </tr>\n",
       "    <tr>\n",
       "      <th>67247</th>\n",
       "      <td>0.535093</td>\n",
       "      <td>-1.469185</td>\n",
       "      <td>0.868279</td>\n",
       "      <td>0.385462</td>\n",
       "      <td>-1.439135</td>\n",
       "      <td>0.368118</td>\n",
       "      <td>-0.499370</td>\n",
       "      <td>0.303698</td>\n",
       "      <td>1.042073</td>\n",
       "      <td>-0.437209</td>\n",
       "      <td>...</td>\n",
       "      <td>0.437685</td>\n",
       "      <td>0.028010</td>\n",
       "      <td>-0.384708</td>\n",
       "      <td>-0.128376</td>\n",
       "      <td>0.286638</td>\n",
       "      <td>-0.136700</td>\n",
       "      <td>0.913904</td>\n",
       "      <td>-0.083364</td>\n",
       "      <td>0.052485</td>\n",
       "      <td>0.951188</td>\n",
       "    </tr>\n",
       "    <tr>\n",
       "      <th>251657</th>\n",
       "      <td>2.128486</td>\n",
       "      <td>-0.117215</td>\n",
       "      <td>-1.513910</td>\n",
       "      <td>0.166456</td>\n",
       "      <td>0.359070</td>\n",
       "      <td>-0.540072</td>\n",
       "      <td>0.116023</td>\n",
       "      <td>-0.216140</td>\n",
       "      <td>0.680314</td>\n",
       "      <td>0.079977</td>\n",
       "      <td>...</td>\n",
       "      <td>-0.227278</td>\n",
       "      <td>-0.357993</td>\n",
       "      <td>-0.905085</td>\n",
       "      <td>0.223474</td>\n",
       "      <td>-1.075605</td>\n",
       "      <td>-0.188519</td>\n",
       "      <td>0.267672</td>\n",
       "      <td>-0.071733</td>\n",
       "      <td>-0.072238</td>\n",
       "      <td>-0.372179</td>\n",
       "    </tr>\n",
       "    <tr>\n",
       "      <th>201903</th>\n",
       "      <td>0.558593</td>\n",
       "      <td>1.587908</td>\n",
       "      <td>-2.368767</td>\n",
       "      <td>5.124413</td>\n",
       "      <td>2.171788</td>\n",
       "      <td>-0.500419</td>\n",
       "      <td>1.059829</td>\n",
       "      <td>-0.254233</td>\n",
       "      <td>-1.959060</td>\n",
       "      <td>0.948915</td>\n",
       "      <td>...</td>\n",
       "      <td>0.249457</td>\n",
       "      <td>-0.035049</td>\n",
       "      <td>0.271455</td>\n",
       "      <td>0.381606</td>\n",
       "      <td>0.332001</td>\n",
       "      <td>-0.334757</td>\n",
       "      <td>0.448890</td>\n",
       "      <td>0.168585</td>\n",
       "      <td>0.004955</td>\n",
       "      <td>-0.245206</td>\n",
       "    </tr>\n",
       "  </tbody>\n",
       "</table>\n",
       "<p>5 rows × 29 columns</p>\n",
       "</div>"
      ],
      "text/plain": [
       "              V1        V2        V3        V4        V5        V6        V7  \\\n",
       "49089   1.229452 -0.235478 -0.627166  0.419877  1.797014  4.069574 -0.896223   \n",
       "154704  2.016893 -0.088751 -2.989257 -0.142575  2.675427  3.332289 -0.652336   \n",
       "67247   0.535093 -1.469185  0.868279  0.385462 -1.439135  0.368118 -0.499370   \n",
       "251657  2.128486 -0.117215 -1.513910  0.166456  0.359070 -0.540072  0.116023   \n",
       "201903  0.558593  1.587908 -2.368767  5.124413  2.171788 -0.500419  1.059829   \n",
       "\n",
       "              V8        V9       V10  ...       V20       V21       V22  \\\n",
       "49089   1.036103  0.745991 -0.147304  ... -0.057922 -0.170060 -0.288750   \n",
       "154704  0.752811  1.962566 -1.025024  ... -0.147619 -0.184153 -0.089661   \n",
       "67247   0.303698  1.042073 -0.437209  ...  0.437685  0.028010 -0.384708   \n",
       "251657 -0.216140  0.680314  0.079977  ... -0.227278 -0.357993 -0.905085   \n",
       "201903 -0.254233 -1.959060  0.948915  ...  0.249457 -0.035049  0.271455   \n",
       "\n",
       "             V23       V24       V25       V26       V27       V28    Amount  \n",
       "49089  -0.130270  1.025935  0.847990 -0.271476  0.060052  0.018104 -0.367842  \n",
       "154704  0.087188  0.570679  0.101899  0.620842 -0.048958 -0.042831 -0.346160  \n",
       "67247  -0.128376  0.286638 -0.136700  0.913904 -0.083364  0.052485  0.951188  \n",
       "251657  0.223474 -1.075605 -0.188519  0.267672 -0.071733 -0.072238 -0.372179  \n",
       "201903  0.381606  0.332001 -0.334757  0.448890  0.168585  0.004955 -0.245206  \n",
       "\n",
       "[5 rows x 29 columns]"
      ]
     },
     "execution_count": 21,
     "metadata": {},
     "output_type": "execute_result"
    }
   ],
   "source": [
    "x_test.head()"
   ]
  },
  {
   "cell_type": "code",
   "execution_count": 22,
   "id": "a25ca43e",
   "metadata": {},
   "outputs": [],
   "source": [
    "# Importing scikit logistic regression module\n",
    "from sklearn.linear_model import LogisticRegression"
   ]
  },
  {
   "cell_type": "code",
   "execution_count": 23,
   "id": "031deded",
   "metadata": {},
   "outputs": [],
   "source": [
    "# Impoting metrics\n",
    "from sklearn import metrics\n",
    "from sklearn.metrics import confusion_matrix\n",
    "from sklearn.metrics import accuracy_score\n",
    "from sklearn.metrics import f1_score"
   ]
  },
  {
   "cell_type": "code",
   "execution_count": 24,
   "id": "a9bd136a",
   "metadata": {},
   "outputs": [],
   "source": [
    "# Initializing the module\n",
    "logistic_model = LogisticRegression()"
   ]
  },
  {
   "cell_type": "markdown",
   "id": "24826de6",
   "metadata": {},
   "source": [
    "# ##  Logistic Regression for imbalance data set"
   ]
  },
  {
   "cell_type": "code",
   "execution_count": 25,
   "id": "6f9adc64",
   "metadata": {},
   "outputs": [
    {
     "data": {
      "text/plain": [
       "LogisticRegression()"
      ]
     },
     "execution_count": 25,
     "metadata": {},
     "output_type": "execute_result"
    }
   ],
   "source": [
    "# Fitting the model on the train set\n",
    "logistic_model.fit(x_train, y_train)"
   ]
  },
  {
   "cell_type": "markdown",
   "id": "36ca0d63",
   "metadata": {},
   "source": [
    " Prediction on the train set"
   ]
  },
  {
   "cell_type": "code",
   "execution_count": 26,
   "id": "d6add2bb",
   "metadata": {},
   "outputs": [],
   "source": [
    "# Prediction on the train set\n",
    "y_train_pred = logistic_model.predict(x_train)"
   ]
  },
  {
   "cell_type": "code",
   "execution_count": 27,
   "id": "0699ac29",
   "metadata": {},
   "outputs": [
    {
     "name": "stdout",
     "output_type": "stream",
     "text": [
      "[[227422     27]\n",
      " [   126    270]]\n"
     ]
    }
   ],
   "source": [
    "# Confusion matrix\n",
    "confusion = metrics.confusion_matrix(y_train, y_train_pred)\n",
    "print(confusion)"
   ]
  },
  {
   "cell_type": "code",
   "execution_count": 28,
   "id": "ae5065ed",
   "metadata": {},
   "outputs": [],
   "source": [
    "TP = confusion[1,1] # True positive \n",
    "TN = confusion[0,0] # True negatives\n",
    "FP = confusion[0,1] # False positives\n",
    "FN = confusion[1,0] # False negatives"
   ]
  },
  {
   "cell_type": "code",
   "execution_count": 29,
   "id": "6a3dcdd7",
   "metadata": {},
   "outputs": [
    {
     "name": "stdout",
     "output_type": "stream",
     "text": [
      "Accuracy:- 0.9993284908600145\n",
      "Sensitivity:- 0.6818181818181818\n",
      "Specificity:- 0.9998812920698706\n",
      "F1-Score:- 0.7792207792207791\n"
     ]
    }
   ],
   "source": [
    "# Accuracy\n",
    "print(\"Accuracy:-\",metrics.accuracy_score(y_train, y_train_pred))\n",
    "\n",
    "# Sensitivity\n",
    "print(\"Sensitivity:-\",TP / float(TP+FN))\n",
    "\n",
    "# Specificity\n",
    "print(\"Specificity:-\", TN / float(TN+FP))\n",
    "\n",
    "# F1 score\n",
    "print(\"F1-Score:-\", f1_score(y_train, y_train_pred))"
   ]
  },
  {
   "cell_type": "code",
   "execution_count": 30,
   "id": "3f1a312e",
   "metadata": {},
   "outputs": [],
   "source": [
    "# Prediction on the test set\n",
    "y_test_pred = logistic_model.predict(x_test)"
   ]
  },
  {
   "cell_type": "code",
   "execution_count": 31,
   "id": "c2ad6cde",
   "metadata": {},
   "outputs": [
    {
     "name": "stdout",
     "output_type": "stream",
     "text": [
      "[[56848    18]\n",
      " [   38    58]]\n"
     ]
    }
   ],
   "source": [
    "# Confusion matrix\n",
    "confusion = metrics.confusion_matrix(y_test, y_test_pred)\n",
    "print(confusion)"
   ]
  },
  {
   "cell_type": "code",
   "execution_count": 32,
   "id": "f3d30bd6",
   "metadata": {},
   "outputs": [],
   "source": [
    "TP = confusion[1,1] # True positive \n",
    "TN = confusion[0,0] # True negatives\n",
    "FP = confusion[0,1] # False positives\n",
    "FN = confusion[1,0] # False negatives"
   ]
  },
  {
   "cell_type": "code",
   "execution_count": 33,
   "id": "70702b16",
   "metadata": {},
   "outputs": [
    {
     "name": "stdout",
     "output_type": "stream",
     "text": [
      "Accuracy:- 0.9990168884519505\n",
      "Sensitivity:- 0.6041666666666666\n",
      "Specificity:- 0.9996834663946822\n",
      "F1-Score:- 0.6744186046511628\n"
     ]
    }
   ],
   "source": [
    "# Accuracy\n",
    "print(\"Accuracy:-\",metrics.accuracy_score(y_test, y_test_pred))\n",
    "\n",
    "# Sensitivity\n",
    "print(\"Sensitivity:-\",TP / float(TP+FN))\n",
    "\n",
    "# Specificity\n",
    "print(\"Specificity:-\", TN / float(TN+FP))\n",
    "\n",
    "# F1 score\n",
    "print(\"F1-Score:-\", f1_score(y_test, y_test_pred))"
   ]
  },
  {
   "cell_type": "markdown",
   "id": "80cc27dd",
   "metadata": {},
   "source": [
    "## Model summary "
   ]
  },
  {
   "cell_type": "markdown",
   "id": "469dc674",
   "metadata": {},
   "source": [
    "\n",
    "Train set\n",
    "Accuracy = 0.99, Sensitivity = 0.80, Specificity=0.99, F1-Score = 0.78\n",
    "\n",
    "\n",
    "Test set\n",
    "Accuracy = 0.99, Sensitivity = 0.60, Specificity=0.99, F1-Score = 0.67\n",
    "\n",
    "Overall, the model is performing well in the test set, what it had learnt from the train set."
   ]
  },
  {
   "cell_type": "markdown",
   "id": "28bd218f",
   "metadata": {},
   "source": [
    "###  Decision_Tree for imbalanced data set"
   ]
  },
  {
   "cell_type": "code",
   "execution_count": 34,
   "id": "ae782203",
   "metadata": {},
   "outputs": [],
   "source": [
    "# Importing decision tree classifier\n",
    "from sklearn.tree import DecisionTreeClassifier"
   ]
  },
  {
   "cell_type": "code",
   "execution_count": 35,
   "id": "1a3e67f1",
   "metadata": {},
   "outputs": [
    {
     "data": {
      "text/plain": [
       "DecisionTreeClassifier(max_depth=5, min_samples_leaf=5, min_samples_split=10,\n",
       "                       random_state=100)"
      ]
     },
     "execution_count": 35,
     "metadata": {},
     "output_type": "execute_result"
    }
   ],
   "source": [
    "# Model with optimal hyperparameters\n",
    "Tree_model = DecisionTreeClassifier(criterion = \"gini\", \n",
    "                                  random_state = 100,\n",
    "                                  max_depth=5, \n",
    "                                  min_samples_leaf=5,\n",
    "                                  min_samples_split=10)\n",
    "\n",
    "Tree_model.fit(x_train, y_train)"
   ]
  },
  {
   "cell_type": "code",
   "execution_count": 36,
   "id": "2a6269e1",
   "metadata": {},
   "outputs": [],
   "source": [
    "# Predictions on the train set\n",
    "y_train_pred = Tree_model.predict(x_train)"
   ]
  },
  {
   "cell_type": "code",
   "execution_count": 37,
   "id": "38da4e09",
   "metadata": {},
   "outputs": [
    {
     "name": "stdout",
     "output_type": "stream",
     "text": [
      "[[227434     15]\n",
      " [    77    319]]\n"
     ]
    }
   ],
   "source": [
    "# Confusion matrix\n",
    "confusion = metrics.confusion_matrix(y_train, y_train_pred)\n",
    "print(confusion)"
   ]
  },
  {
   "cell_type": "code",
   "execution_count": 38,
   "id": "8d0298d1",
   "metadata": {},
   "outputs": [],
   "source": [
    "TP = confusion[1,1] # True positive \n",
    "TN = confusion[0,0] # True negatives\n",
    "FP = confusion[0,1] # False positives\n",
    "FN = confusion[1,0] # False negatives"
   ]
  },
  {
   "cell_type": "code",
   "execution_count": 39,
   "id": "5fe0434f",
   "metadata": {},
   "outputs": [
    {
     "name": "stdout",
     "output_type": "stream",
     "text": [
      "Accuracy:- 0.9995962167262832\n",
      "Sensitivity:- 0.8055555555555556\n",
      "Specificity:- 0.9999340511499281\n",
      "F1-Score:- 0.873972602739726\n"
     ]
    }
   ],
   "source": [
    "# Accuracy\n",
    "print(\"Accuracy:-\",metrics.accuracy_score(y_train, y_train_pred))\n",
    "\n",
    "# Sensitivity\n",
    "print(\"Sensitivity:-\",TP / float(TP+FN))\n",
    "\n",
    "# Specificity\n",
    "print(\"Specificity:-\", TN / float(TN+FP))\n",
    "\n",
    "# F1 score\n",
    "print(\"F1-Score:-\", f1_score(y_train, y_train_pred))\n",
    "# Predictions on the test set"
   ]
  },
  {
   "cell_type": "code",
   "execution_count": 40,
   "id": "e6749c66",
   "metadata": {},
   "outputs": [],
   "source": [
    "# Predictions on the test set\n",
    "y_test_pred = Tree_model.predict(x_test)"
   ]
  },
  {
   "cell_type": "code",
   "execution_count": 41,
   "id": "b74b161a",
   "metadata": {},
   "outputs": [
    {
     "name": "stdout",
     "output_type": "stream",
     "text": [
      "[[56849    17]\n",
      " [   32    64]]\n"
     ]
    }
   ],
   "source": [
    "# Confusion matrix\n",
    "confusion = metrics.confusion_matrix(y_test, y_test_pred)\n",
    "print(confusion)"
   ]
  },
  {
   "cell_type": "code",
   "execution_count": 42,
   "id": "b05e9fea",
   "metadata": {},
   "outputs": [],
   "source": [
    "TP = confusion[1,1] # True positive \n",
    "TN = confusion[0,0] # True negatives\n",
    "FP = confusion[0,1] # False positives\n",
    "FN = confusion[1,0] # False negatives"
   ]
  },
  {
   "cell_type": "code",
   "execution_count": 43,
   "id": "87e0f037",
   "metadata": {},
   "outputs": [
    {
     "name": "stdout",
     "output_type": "stream",
     "text": [
      "Accuracy:- 0.9991397773954567\n",
      "Sensitivity:- 0.6666666666666666\n",
      "Specificity:- 0.9997010515949777\n",
      "F1-Score:- 0.873972602739726\n"
     ]
    }
   ],
   "source": [
    "# Accuracy\n",
    "print(\"Accuracy:-\",metrics.accuracy_score(y_test, y_test_pred))\n",
    "\n",
    "# Sensitivity\n",
    "print(\"Sensitivity:-\",TP / float(TP+FN))\n",
    "\n",
    "# Specificity\n",
    "print(\"Specificity:-\", TN / float(TN+FP))\n",
    "\n",
    "# F1 score\n",
    "print(\"F1-Score:-\", f1_score(y_train, y_train_pred))"
   ]
  },
  {
   "cell_type": "markdown",
   "id": "50c5281d",
   "metadata": {},
   "source": [
    "## Model summary"
   ]
  },
  {
   "cell_type": "markdown",
   "id": "d39aca47",
   "metadata": {},
   "source": [
    "\n",
    "Train set\n",
    "Accuracy = 0.999, Sensitivity = 0.80, Specificity=0.99, F1-Score = 0.87\n",
    "\n",
    "\n",
    "Test set\n",
    "Accuracy = 0.99, Sensitivity = 0.66, Specificity=0.99, F1-Score = 0.87\n",
    "\n",
    "Overall, the model is performing well in the test set, what it had learnt from the train set."
   ]
  },
  {
   "cell_type": "markdown",
   "id": "499a5fb4",
   "metadata": {},
   "source": [
    "### Choosing best model on the imbalanced data\n",
    "\n",
    "We can see that the models we tried (Logistic, Decision Tree), both have performed well.\n"
   ]
  },
  {
   "cell_type": "markdown",
   "id": "113742fc",
   "metadata": {},
   "source": [
    "# Handling data imbalance\n",
    "As we see that the data is heavily imbalanced, We will try several approaches for handling data imbalance.\n",
    "\n",
    "Undersampling :- Here for balancing the class distribution, the non-fraudulent transctions count will be reduced to 492 (similar count of fraudulent transactions)"
   ]
  },
  {
   "cell_type": "code",
   "execution_count": 44,
   "id": "9f4021fb",
   "metadata": {},
   "outputs": [
    {
     "name": "stdout",
     "output_type": "stream",
     "text": [
      "(284315, 30)\n",
      "(492, 30)\n"
     ]
    }
   ],
   "source": [
    "# Seperating the data for analysis\n",
    "legit=df[df.Class==0]\n",
    "fraud=df[df.Class==1]\n",
    "print(legit.shape)\n",
    "print(fraud.shape)"
   ]
  },
  {
   "cell_type": "code",
   "execution_count": 45,
   "id": "e609f85b",
   "metadata": {},
   "outputs": [
    {
     "data": {
      "text/html": [
       "<div>\n",
       "<style scoped>\n",
       "    .dataframe tbody tr th:only-of-type {\n",
       "        vertical-align: middle;\n",
       "    }\n",
       "\n",
       "    .dataframe tbody tr th {\n",
       "        vertical-align: top;\n",
       "    }\n",
       "\n",
       "    .dataframe thead th {\n",
       "        text-align: right;\n",
       "    }\n",
       "</style>\n",
       "<table border=\"1\" class=\"dataframe\">\n",
       "  <thead>\n",
       "    <tr style=\"text-align: right;\">\n",
       "      <th></th>\n",
       "      <th>V1</th>\n",
       "      <th>V2</th>\n",
       "      <th>V3</th>\n",
       "      <th>V4</th>\n",
       "      <th>V5</th>\n",
       "      <th>V6</th>\n",
       "      <th>V7</th>\n",
       "      <th>V8</th>\n",
       "      <th>V9</th>\n",
       "      <th>V10</th>\n",
       "      <th>...</th>\n",
       "      <th>V21</th>\n",
       "      <th>V22</th>\n",
       "      <th>V23</th>\n",
       "      <th>V24</th>\n",
       "      <th>V25</th>\n",
       "      <th>V26</th>\n",
       "      <th>V27</th>\n",
       "      <th>V28</th>\n",
       "      <th>Amount</th>\n",
       "      <th>Class</th>\n",
       "    </tr>\n",
       "  </thead>\n",
       "  <tbody>\n",
       "    <tr>\n",
       "      <th>count</th>\n",
       "      <td>492.000000</td>\n",
       "      <td>492.000000</td>\n",
       "      <td>492.000000</td>\n",
       "      <td>492.000000</td>\n",
       "      <td>492.000000</td>\n",
       "      <td>492.000000</td>\n",
       "      <td>492.000000</td>\n",
       "      <td>492.000000</td>\n",
       "      <td>492.000000</td>\n",
       "      <td>492.000000</td>\n",
       "      <td>...</td>\n",
       "      <td>492.000000</td>\n",
       "      <td>492.000000</td>\n",
       "      <td>492.000000</td>\n",
       "      <td>492.000000</td>\n",
       "      <td>492.000000</td>\n",
       "      <td>492.000000</td>\n",
       "      <td>492.000000</td>\n",
       "      <td>492.000000</td>\n",
       "      <td>492.000000</td>\n",
       "      <td>492.0</td>\n",
       "    </tr>\n",
       "    <tr>\n",
       "      <th>mean</th>\n",
       "      <td>-0.021179</td>\n",
       "      <td>-0.072374</td>\n",
       "      <td>0.053567</td>\n",
       "      <td>-0.064486</td>\n",
       "      <td>0.011476</td>\n",
       "      <td>0.043521</td>\n",
       "      <td>-0.091168</td>\n",
       "      <td>0.048919</td>\n",
       "      <td>0.039136</td>\n",
       "      <td>0.085265</td>\n",
       "      <td>...</td>\n",
       "      <td>0.041041</td>\n",
       "      <td>0.023518</td>\n",
       "      <td>-0.054292</td>\n",
       "      <td>-0.020567</td>\n",
       "      <td>0.045453</td>\n",
       "      <td>0.020346</td>\n",
       "      <td>-0.002198</td>\n",
       "      <td>-0.024847</td>\n",
       "      <td>83.757317</td>\n",
       "      <td>0.0</td>\n",
       "    </tr>\n",
       "    <tr>\n",
       "      <th>std</th>\n",
       "      <td>1.973480</td>\n",
       "      <td>1.632758</td>\n",
       "      <td>1.398060</td>\n",
       "      <td>1.430350</td>\n",
       "      <td>1.379477</td>\n",
       "      <td>1.362642</td>\n",
       "      <td>1.034911</td>\n",
       "      <td>0.914758</td>\n",
       "      <td>1.145789</td>\n",
       "      <td>1.063678</td>\n",
       "      <td>...</td>\n",
       "      <td>0.651680</td>\n",
       "      <td>0.697848</td>\n",
       "      <td>0.555912</td>\n",
       "      <td>0.601178</td>\n",
       "      <td>0.492298</td>\n",
       "      <td>0.482085</td>\n",
       "      <td>0.317096</td>\n",
       "      <td>0.310477</td>\n",
       "      <td>197.862824</td>\n",
       "      <td>0.0</td>\n",
       "    </tr>\n",
       "    <tr>\n",
       "      <th>min</th>\n",
       "      <td>-13.578165</td>\n",
       "      <td>-17.285348</td>\n",
       "      <td>-5.529084</td>\n",
       "      <td>-4.188968</td>\n",
       "      <td>-7.221336</td>\n",
       "      <td>-7.101352</td>\n",
       "      <td>-8.991511</td>\n",
       "      <td>-8.398261</td>\n",
       "      <td>-2.915366</td>\n",
       "      <td>-2.605611</td>\n",
       "      <td>...</td>\n",
       "      <td>-2.985300</td>\n",
       "      <td>-2.454534</td>\n",
       "      <td>-5.218392</td>\n",
       "      <td>-1.708622</td>\n",
       "      <td>-1.479545</td>\n",
       "      <td>-1.362379</td>\n",
       "      <td>-2.686654</td>\n",
       "      <td>-2.665501</td>\n",
       "      <td>0.000000</td>\n",
       "      <td>0.0</td>\n",
       "    </tr>\n",
       "    <tr>\n",
       "      <th>25%</th>\n",
       "      <td>-0.973283</td>\n",
       "      <td>-0.695226</td>\n",
       "      <td>-0.954215</td>\n",
       "      <td>-0.949028</td>\n",
       "      <td>-0.761029</td>\n",
       "      <td>-0.757031</td>\n",
       "      <td>-0.678925</td>\n",
       "      <td>-0.211500</td>\n",
       "      <td>-0.660662</td>\n",
       "      <td>-0.527729</td>\n",
       "      <td>...</td>\n",
       "      <td>-0.217179</td>\n",
       "      <td>-0.527632</td>\n",
       "      <td>-0.185276</td>\n",
       "      <td>-0.383591</td>\n",
       "      <td>-0.283006</td>\n",
       "      <td>-0.302526</td>\n",
       "      <td>-0.074056</td>\n",
       "      <td>-0.061337</td>\n",
       "      <td>5.937500</td>\n",
       "      <td>0.0</td>\n",
       "    </tr>\n",
       "    <tr>\n",
       "      <th>50%</th>\n",
       "      <td>0.013207</td>\n",
       "      <td>0.015876</td>\n",
       "      <td>0.218146</td>\n",
       "      <td>-0.138523</td>\n",
       "      <td>-0.157925</td>\n",
       "      <td>-0.277300</td>\n",
       "      <td>-0.037233</td>\n",
       "      <td>0.018438</td>\n",
       "      <td>-0.079370</td>\n",
       "      <td>-0.050965</td>\n",
       "      <td>...</td>\n",
       "      <td>-0.015793</td>\n",
       "      <td>0.037637</td>\n",
       "      <td>-0.015550</td>\n",
       "      <td>0.009482</td>\n",
       "      <td>0.045682</td>\n",
       "      <td>-0.060738</td>\n",
       "      <td>0.004078</td>\n",
       "      <td>0.005300</td>\n",
       "      <td>21.220000</td>\n",
       "      <td>0.0</td>\n",
       "    </tr>\n",
       "    <tr>\n",
       "      <th>75%</th>\n",
       "      <td>1.378850</td>\n",
       "      <td>0.811135</td>\n",
       "      <td>1.043502</td>\n",
       "      <td>0.626142</td>\n",
       "      <td>0.521222</td>\n",
       "      <td>0.451959</td>\n",
       "      <td>0.434553</td>\n",
       "      <td>0.366073</td>\n",
       "      <td>0.608019</td>\n",
       "      <td>0.542765</td>\n",
       "      <td>...</td>\n",
       "      <td>0.193052</td>\n",
       "      <td>0.584181</td>\n",
       "      <td>0.139567</td>\n",
       "      <td>0.410398</td>\n",
       "      <td>0.361104</td>\n",
       "      <td>0.252105</td>\n",
       "      <td>0.077412</td>\n",
       "      <td>0.060579</td>\n",
       "      <td>72.752500</td>\n",
       "      <td>0.0</td>\n",
       "    </tr>\n",
       "    <tr>\n",
       "      <th>max</th>\n",
       "      <td>2.366096</td>\n",
       "      <td>5.251633</td>\n",
       "      <td>3.425750</td>\n",
       "      <td>4.923695</td>\n",
       "      <td>11.538833</td>\n",
       "      <td>5.578700</td>\n",
       "      <td>3.858149</td>\n",
       "      <td>5.078315</td>\n",
       "      <td>6.060883</td>\n",
       "      <td>10.824223</td>\n",
       "      <td>...</td>\n",
       "      <td>8.502877</td>\n",
       "      <td>1.949540</td>\n",
       "      <td>4.782474</td>\n",
       "      <td>1.222760</td>\n",
       "      <td>1.612327</td>\n",
       "      <td>1.721115</td>\n",
       "      <td>1.692827</td>\n",
       "      <td>2.600268</td>\n",
       "      <td>1979.100000</td>\n",
       "      <td>0.0</td>\n",
       "    </tr>\n",
       "  </tbody>\n",
       "</table>\n",
       "<p>8 rows × 30 columns</p>\n",
       "</div>"
      ],
      "text/plain": [
       "               V1          V2          V3          V4          V5          V6  \\\n",
       "count  492.000000  492.000000  492.000000  492.000000  492.000000  492.000000   \n",
       "mean    -0.021179   -0.072374    0.053567   -0.064486    0.011476    0.043521   \n",
       "std      1.973480    1.632758    1.398060    1.430350    1.379477    1.362642   \n",
       "min    -13.578165  -17.285348   -5.529084   -4.188968   -7.221336   -7.101352   \n",
       "25%     -0.973283   -0.695226   -0.954215   -0.949028   -0.761029   -0.757031   \n",
       "50%      0.013207    0.015876    0.218146   -0.138523   -0.157925   -0.277300   \n",
       "75%      1.378850    0.811135    1.043502    0.626142    0.521222    0.451959   \n",
       "max      2.366096    5.251633    3.425750    4.923695   11.538833    5.578700   \n",
       "\n",
       "               V7          V8          V9         V10  ...         V21  \\\n",
       "count  492.000000  492.000000  492.000000  492.000000  ...  492.000000   \n",
       "mean    -0.091168    0.048919    0.039136    0.085265  ...    0.041041   \n",
       "std      1.034911    0.914758    1.145789    1.063678  ...    0.651680   \n",
       "min     -8.991511   -8.398261   -2.915366   -2.605611  ...   -2.985300   \n",
       "25%     -0.678925   -0.211500   -0.660662   -0.527729  ...   -0.217179   \n",
       "50%     -0.037233    0.018438   -0.079370   -0.050965  ...   -0.015793   \n",
       "75%      0.434553    0.366073    0.608019    0.542765  ...    0.193052   \n",
       "max      3.858149    5.078315    6.060883   10.824223  ...    8.502877   \n",
       "\n",
       "              V22         V23         V24         V25         V26         V27  \\\n",
       "count  492.000000  492.000000  492.000000  492.000000  492.000000  492.000000   \n",
       "mean     0.023518   -0.054292   -0.020567    0.045453    0.020346   -0.002198   \n",
       "std      0.697848    0.555912    0.601178    0.492298    0.482085    0.317096   \n",
       "min     -2.454534   -5.218392   -1.708622   -1.479545   -1.362379   -2.686654   \n",
       "25%     -0.527632   -0.185276   -0.383591   -0.283006   -0.302526   -0.074056   \n",
       "50%      0.037637   -0.015550    0.009482    0.045682   -0.060738    0.004078   \n",
       "75%      0.584181    0.139567    0.410398    0.361104    0.252105    0.077412   \n",
       "max      1.949540    4.782474    1.222760    1.612327    1.721115    1.692827   \n",
       "\n",
       "              V28       Amount  Class  \n",
       "count  492.000000   492.000000  492.0  \n",
       "mean    -0.024847    83.757317    0.0  \n",
       "std      0.310477   197.862824    0.0  \n",
       "min     -2.665501     0.000000    0.0  \n",
       "25%     -0.061337     5.937500    0.0  \n",
       "50%      0.005300    21.220000    0.0  \n",
       "75%      0.060579    72.752500    0.0  \n",
       "max      2.600268  1979.100000    0.0  \n",
       "\n",
       "[8 rows x 30 columns]"
      ]
     },
     "execution_count": 45,
     "metadata": {},
     "output_type": "execute_result"
    }
   ],
   "source": [
    "legit_sample=legit.sample(n=492)\n",
    "legit_sample.describe()"
   ]
  },
  {
   "cell_type": "code",
   "execution_count": 46,
   "id": "83861829",
   "metadata": {},
   "outputs": [],
   "source": [
    "# Concatenating new data frame\n",
    "under_samp_df=pd.concat([legit_sample,fraud],axis=0)"
   ]
  },
  {
   "cell_type": "code",
   "execution_count": 47,
   "id": "bf8c31ea",
   "metadata": {},
   "outputs": [
    {
     "data": {
      "text/plain": [
       "0    492\n",
       "1    492\n",
       "Name: Class, dtype: int64"
      ]
     },
     "execution_count": 47,
     "metadata": {},
     "output_type": "execute_result"
    }
   ],
   "source": [
    "under_samp_df[\"Class\"].value_counts()"
   ]
  },
  {
   "cell_type": "code",
   "execution_count": 48,
   "id": "9cbf81f8",
   "metadata": {},
   "outputs": [
    {
     "data": {
      "text/html": [
       "<div>\n",
       "<style scoped>\n",
       "    .dataframe tbody tr th:only-of-type {\n",
       "        vertical-align: middle;\n",
       "    }\n",
       "\n",
       "    .dataframe tbody tr th {\n",
       "        vertical-align: top;\n",
       "    }\n",
       "\n",
       "    .dataframe thead th {\n",
       "        text-align: right;\n",
       "    }\n",
       "</style>\n",
       "<table border=\"1\" class=\"dataframe\">\n",
       "  <thead>\n",
       "    <tr style=\"text-align: right;\">\n",
       "      <th></th>\n",
       "      <th>V1</th>\n",
       "      <th>V2</th>\n",
       "      <th>V3</th>\n",
       "      <th>V4</th>\n",
       "      <th>V5</th>\n",
       "      <th>V6</th>\n",
       "      <th>V7</th>\n",
       "      <th>V8</th>\n",
       "      <th>V9</th>\n",
       "      <th>V10</th>\n",
       "      <th>...</th>\n",
       "      <th>V21</th>\n",
       "      <th>V22</th>\n",
       "      <th>V23</th>\n",
       "      <th>V24</th>\n",
       "      <th>V25</th>\n",
       "      <th>V26</th>\n",
       "      <th>V27</th>\n",
       "      <th>V28</th>\n",
       "      <th>Amount</th>\n",
       "      <th>Class</th>\n",
       "    </tr>\n",
       "  </thead>\n",
       "  <tbody>\n",
       "    <tr>\n",
       "      <th>63520</th>\n",
       "      <td>1.251983</td>\n",
       "      <td>-0.586493</td>\n",
       "      <td>0.637782</td>\n",
       "      <td>0.667550</td>\n",
       "      <td>-1.058747</td>\n",
       "      <td>-0.008756</td>\n",
       "      <td>-0.729169</td>\n",
       "      <td>0.174442</td>\n",
       "      <td>-0.125282</td>\n",
       "      <td>0.647504</td>\n",
       "      <td>...</td>\n",
       "      <td>-0.436792</td>\n",
       "      <td>-0.614244</td>\n",
       "      <td>0.029927</td>\n",
       "      <td>0.002100</td>\n",
       "      <td>0.451733</td>\n",
       "      <td>-0.276636</td>\n",
       "      <td>0.069172</td>\n",
       "      <td>0.020623</td>\n",
       "      <td>11.50</td>\n",
       "      <td>0</td>\n",
       "    </tr>\n",
       "    <tr>\n",
       "      <th>116212</th>\n",
       "      <td>1.244992</td>\n",
       "      <td>-0.698052</td>\n",
       "      <td>1.194993</td>\n",
       "      <td>-0.475814</td>\n",
       "      <td>-1.703377</td>\n",
       "      <td>-0.993271</td>\n",
       "      <td>-0.857894</td>\n",
       "      <td>-0.188833</td>\n",
       "      <td>-0.643178</td>\n",
       "      <td>0.545810</td>\n",
       "      <td>...</td>\n",
       "      <td>0.461135</td>\n",
       "      <td>1.240868</td>\n",
       "      <td>-0.095273</td>\n",
       "      <td>1.000333</td>\n",
       "      <td>0.383603</td>\n",
       "      <td>-0.091752</td>\n",
       "      <td>0.038012</td>\n",
       "      <td>0.042470</td>\n",
       "      <td>59.98</td>\n",
       "      <td>0</td>\n",
       "    </tr>\n",
       "    <tr>\n",
       "      <th>121159</th>\n",
       "      <td>1.084933</td>\n",
       "      <td>-0.339186</td>\n",
       "      <td>0.403159</td>\n",
       "      <td>1.271999</td>\n",
       "      <td>-0.262544</td>\n",
       "      <td>0.802568</td>\n",
       "      <td>-0.428433</td>\n",
       "      <td>0.302503</td>\n",
       "      <td>0.852645</td>\n",
       "      <td>-0.036463</td>\n",
       "      <td>...</td>\n",
       "      <td>-0.114183</td>\n",
       "      <td>-0.209209</td>\n",
       "      <td>-0.296564</td>\n",
       "      <td>-0.828684</td>\n",
       "      <td>0.753921</td>\n",
       "      <td>-0.235628</td>\n",
       "      <td>0.032851</td>\n",
       "      <td>0.012141</td>\n",
       "      <td>68.05</td>\n",
       "      <td>0</td>\n",
       "    </tr>\n",
       "    <tr>\n",
       "      <th>256457</th>\n",
       "      <td>0.001151</td>\n",
       "      <td>0.818831</td>\n",
       "      <td>-0.519976</td>\n",
       "      <td>-0.699752</td>\n",
       "      <td>1.471752</td>\n",
       "      <td>0.677274</td>\n",
       "      <td>0.670653</td>\n",
       "      <td>0.380221</td>\n",
       "      <td>0.049113</td>\n",
       "      <td>-0.956095</td>\n",
       "      <td>...</td>\n",
       "      <td>-0.260969</td>\n",
       "      <td>-0.527005</td>\n",
       "      <td>0.199132</td>\n",
       "      <td>-0.469563</td>\n",
       "      <td>-0.676830</td>\n",
       "      <td>0.212350</td>\n",
       "      <td>0.270672</td>\n",
       "      <td>0.071752</td>\n",
       "      <td>3.58</td>\n",
       "      <td>0</td>\n",
       "    </tr>\n",
       "    <tr>\n",
       "      <th>141602</th>\n",
       "      <td>1.260973</td>\n",
       "      <td>-0.036976</td>\n",
       "      <td>0.498327</td>\n",
       "      <td>-0.261259</td>\n",
       "      <td>-0.509748</td>\n",
       "      <td>-0.494266</td>\n",
       "      <td>-0.267744</td>\n",
       "      <td>-0.038162</td>\n",
       "      <td>0.050219</td>\n",
       "      <td>-0.065020</td>\n",
       "      <td>...</td>\n",
       "      <td>-0.094735</td>\n",
       "      <td>-0.263678</td>\n",
       "      <td>0.034344</td>\n",
       "      <td>0.085437</td>\n",
       "      <td>0.154754</td>\n",
       "      <td>0.904707</td>\n",
       "      <td>-0.070642</td>\n",
       "      <td>-0.002247</td>\n",
       "      <td>3.78</td>\n",
       "      <td>0</td>\n",
       "    </tr>\n",
       "  </tbody>\n",
       "</table>\n",
       "<p>5 rows × 30 columns</p>\n",
       "</div>"
      ],
      "text/plain": [
       "              V1        V2        V3        V4        V5        V6        V7  \\\n",
       "63520   1.251983 -0.586493  0.637782  0.667550 -1.058747 -0.008756 -0.729169   \n",
       "116212  1.244992 -0.698052  1.194993 -0.475814 -1.703377 -0.993271 -0.857894   \n",
       "121159  1.084933 -0.339186  0.403159  1.271999 -0.262544  0.802568 -0.428433   \n",
       "256457  0.001151  0.818831 -0.519976 -0.699752  1.471752  0.677274  0.670653   \n",
       "141602  1.260973 -0.036976  0.498327 -0.261259 -0.509748 -0.494266 -0.267744   \n",
       "\n",
       "              V8        V9       V10  ...       V21       V22       V23  \\\n",
       "63520   0.174442 -0.125282  0.647504  ... -0.436792 -0.614244  0.029927   \n",
       "116212 -0.188833 -0.643178  0.545810  ...  0.461135  1.240868 -0.095273   \n",
       "121159  0.302503  0.852645 -0.036463  ... -0.114183 -0.209209 -0.296564   \n",
       "256457  0.380221  0.049113 -0.956095  ... -0.260969 -0.527005  0.199132   \n",
       "141602 -0.038162  0.050219 -0.065020  ... -0.094735 -0.263678  0.034344   \n",
       "\n",
       "             V24       V25       V26       V27       V28  Amount  Class  \n",
       "63520   0.002100  0.451733 -0.276636  0.069172  0.020623   11.50      0  \n",
       "116212  1.000333  0.383603 -0.091752  0.038012  0.042470   59.98      0  \n",
       "121159 -0.828684  0.753921 -0.235628  0.032851  0.012141   68.05      0  \n",
       "256457 -0.469563 -0.676830  0.212350  0.270672  0.071752    3.58      0  \n",
       "141602  0.085437  0.154754  0.904707 -0.070642 -0.002247    3.78      0  \n",
       "\n",
       "[5 rows x 30 columns]"
      ]
     },
     "execution_count": 48,
     "metadata": {},
     "output_type": "execute_result"
    }
   ],
   "source": [
    "# To check top dataframe values\n",
    "under_samp_df.head()"
   ]
  },
  {
   "cell_type": "code",
   "execution_count": 49,
   "id": "b1c375b3",
   "metadata": {},
   "outputs": [
    {
     "data": {
      "text/html": [
       "<div>\n",
       "<style scoped>\n",
       "    .dataframe tbody tr th:only-of-type {\n",
       "        vertical-align: middle;\n",
       "    }\n",
       "\n",
       "    .dataframe tbody tr th {\n",
       "        vertical-align: top;\n",
       "    }\n",
       "\n",
       "    .dataframe thead th {\n",
       "        text-align: right;\n",
       "    }\n",
       "</style>\n",
       "<table border=\"1\" class=\"dataframe\">\n",
       "  <thead>\n",
       "    <tr style=\"text-align: right;\">\n",
       "      <th></th>\n",
       "      <th>V1</th>\n",
       "      <th>V2</th>\n",
       "      <th>V3</th>\n",
       "      <th>V4</th>\n",
       "      <th>V5</th>\n",
       "      <th>V6</th>\n",
       "      <th>V7</th>\n",
       "      <th>V8</th>\n",
       "      <th>V9</th>\n",
       "      <th>V10</th>\n",
       "      <th>...</th>\n",
       "      <th>V21</th>\n",
       "      <th>V22</th>\n",
       "      <th>V23</th>\n",
       "      <th>V24</th>\n",
       "      <th>V25</th>\n",
       "      <th>V26</th>\n",
       "      <th>V27</th>\n",
       "      <th>V28</th>\n",
       "      <th>Amount</th>\n",
       "      <th>Class</th>\n",
       "    </tr>\n",
       "  </thead>\n",
       "  <tbody>\n",
       "    <tr>\n",
       "      <th>279863</th>\n",
       "      <td>-1.927883</td>\n",
       "      <td>1.125653</td>\n",
       "      <td>-4.518331</td>\n",
       "      <td>1.749293</td>\n",
       "      <td>-1.566487</td>\n",
       "      <td>-2.010494</td>\n",
       "      <td>-0.882850</td>\n",
       "      <td>0.697211</td>\n",
       "      <td>-2.064945</td>\n",
       "      <td>-5.587794</td>\n",
       "      <td>...</td>\n",
       "      <td>0.778584</td>\n",
       "      <td>-0.319189</td>\n",
       "      <td>0.639419</td>\n",
       "      <td>-0.294885</td>\n",
       "      <td>0.537503</td>\n",
       "      <td>0.788395</td>\n",
       "      <td>0.292680</td>\n",
       "      <td>0.147968</td>\n",
       "      <td>390.00</td>\n",
       "      <td>1</td>\n",
       "    </tr>\n",
       "    <tr>\n",
       "      <th>280143</th>\n",
       "      <td>1.378559</td>\n",
       "      <td>1.289381</td>\n",
       "      <td>-5.004247</td>\n",
       "      <td>1.411850</td>\n",
       "      <td>0.442581</td>\n",
       "      <td>-1.326536</td>\n",
       "      <td>-1.413170</td>\n",
       "      <td>0.248525</td>\n",
       "      <td>-1.127396</td>\n",
       "      <td>-3.232153</td>\n",
       "      <td>...</td>\n",
       "      <td>0.370612</td>\n",
       "      <td>0.028234</td>\n",
       "      <td>-0.145640</td>\n",
       "      <td>-0.081049</td>\n",
       "      <td>0.521875</td>\n",
       "      <td>0.739467</td>\n",
       "      <td>0.389152</td>\n",
       "      <td>0.186637</td>\n",
       "      <td>0.76</td>\n",
       "      <td>1</td>\n",
       "    </tr>\n",
       "    <tr>\n",
       "      <th>280149</th>\n",
       "      <td>-0.676143</td>\n",
       "      <td>1.126366</td>\n",
       "      <td>-2.213700</td>\n",
       "      <td>0.468308</td>\n",
       "      <td>-1.120541</td>\n",
       "      <td>-0.003346</td>\n",
       "      <td>-2.234739</td>\n",
       "      <td>1.210158</td>\n",
       "      <td>-0.652250</td>\n",
       "      <td>-3.463891</td>\n",
       "      <td>...</td>\n",
       "      <td>0.751826</td>\n",
       "      <td>0.834108</td>\n",
       "      <td>0.190944</td>\n",
       "      <td>0.032070</td>\n",
       "      <td>-0.739695</td>\n",
       "      <td>0.471111</td>\n",
       "      <td>0.385107</td>\n",
       "      <td>0.194361</td>\n",
       "      <td>77.89</td>\n",
       "      <td>1</td>\n",
       "    </tr>\n",
       "    <tr>\n",
       "      <th>281144</th>\n",
       "      <td>-3.113832</td>\n",
       "      <td>0.585864</td>\n",
       "      <td>-5.399730</td>\n",
       "      <td>1.817092</td>\n",
       "      <td>-0.840618</td>\n",
       "      <td>-2.943548</td>\n",
       "      <td>-2.208002</td>\n",
       "      <td>1.058733</td>\n",
       "      <td>-1.632333</td>\n",
       "      <td>-5.245984</td>\n",
       "      <td>...</td>\n",
       "      <td>0.583276</td>\n",
       "      <td>-0.269209</td>\n",
       "      <td>-0.456108</td>\n",
       "      <td>-0.183659</td>\n",
       "      <td>-0.328168</td>\n",
       "      <td>0.606116</td>\n",
       "      <td>0.884876</td>\n",
       "      <td>-0.253700</td>\n",
       "      <td>245.00</td>\n",
       "      <td>1</td>\n",
       "    </tr>\n",
       "    <tr>\n",
       "      <th>281674</th>\n",
       "      <td>1.991976</td>\n",
       "      <td>0.158476</td>\n",
       "      <td>-2.583441</td>\n",
       "      <td>0.408670</td>\n",
       "      <td>1.151147</td>\n",
       "      <td>-0.096695</td>\n",
       "      <td>0.223050</td>\n",
       "      <td>-0.068384</td>\n",
       "      <td>0.577829</td>\n",
       "      <td>-0.888722</td>\n",
       "      <td>...</td>\n",
       "      <td>-0.164350</td>\n",
       "      <td>-0.295135</td>\n",
       "      <td>-0.072173</td>\n",
       "      <td>-0.450261</td>\n",
       "      <td>0.313267</td>\n",
       "      <td>-0.289617</td>\n",
       "      <td>0.002988</td>\n",
       "      <td>-0.015309</td>\n",
       "      <td>42.53</td>\n",
       "      <td>1</td>\n",
       "    </tr>\n",
       "  </tbody>\n",
       "</table>\n",
       "<p>5 rows × 30 columns</p>\n",
       "</div>"
      ],
      "text/plain": [
       "              V1        V2        V3        V4        V5        V6        V7  \\\n",
       "279863 -1.927883  1.125653 -4.518331  1.749293 -1.566487 -2.010494 -0.882850   \n",
       "280143  1.378559  1.289381 -5.004247  1.411850  0.442581 -1.326536 -1.413170   \n",
       "280149 -0.676143  1.126366 -2.213700  0.468308 -1.120541 -0.003346 -2.234739   \n",
       "281144 -3.113832  0.585864 -5.399730  1.817092 -0.840618 -2.943548 -2.208002   \n",
       "281674  1.991976  0.158476 -2.583441  0.408670  1.151147 -0.096695  0.223050   \n",
       "\n",
       "              V8        V9       V10  ...       V21       V22       V23  \\\n",
       "279863  0.697211 -2.064945 -5.587794  ...  0.778584 -0.319189  0.639419   \n",
       "280143  0.248525 -1.127396 -3.232153  ...  0.370612  0.028234 -0.145640   \n",
       "280149  1.210158 -0.652250 -3.463891  ...  0.751826  0.834108  0.190944   \n",
       "281144  1.058733 -1.632333 -5.245984  ...  0.583276 -0.269209 -0.456108   \n",
       "281674 -0.068384  0.577829 -0.888722  ... -0.164350 -0.295135 -0.072173   \n",
       "\n",
       "             V24       V25       V26       V27       V28  Amount  Class  \n",
       "279863 -0.294885  0.537503  0.788395  0.292680  0.147968  390.00      1  \n",
       "280143 -0.081049  0.521875  0.739467  0.389152  0.186637    0.76      1  \n",
       "280149  0.032070 -0.739695  0.471111  0.385107  0.194361   77.89      1  \n",
       "281144 -0.183659 -0.328168  0.606116  0.884876 -0.253700  245.00      1  \n",
       "281674 -0.450261  0.313267 -0.289617  0.002988 -0.015309   42.53      1  \n",
       "\n",
       "[5 rows x 30 columns]"
      ]
     },
     "execution_count": 49,
     "metadata": {},
     "output_type": "execute_result"
    }
   ],
   "source": [
    "under_samp_df.tail()"
   ]
  },
  {
   "cell_type": "code",
   "execution_count": 50,
   "id": "4b485f1d",
   "metadata": {},
   "outputs": [
    {
     "data": {
      "text/html": [
       "<div>\n",
       "<style scoped>\n",
       "    .dataframe tbody tr th:only-of-type {\n",
       "        vertical-align: middle;\n",
       "    }\n",
       "\n",
       "    .dataframe tbody tr th {\n",
       "        vertical-align: top;\n",
       "    }\n",
       "\n",
       "    .dataframe thead th {\n",
       "        text-align: right;\n",
       "    }\n",
       "</style>\n",
       "<table border=\"1\" class=\"dataframe\">\n",
       "  <thead>\n",
       "    <tr style=\"text-align: right;\">\n",
       "      <th></th>\n",
       "      <th>V1</th>\n",
       "      <th>V2</th>\n",
       "      <th>V3</th>\n",
       "      <th>V4</th>\n",
       "      <th>V5</th>\n",
       "      <th>V6</th>\n",
       "      <th>V7</th>\n",
       "      <th>V8</th>\n",
       "      <th>V9</th>\n",
       "      <th>V10</th>\n",
       "      <th>...</th>\n",
       "      <th>V20</th>\n",
       "      <th>V21</th>\n",
       "      <th>V22</th>\n",
       "      <th>V23</th>\n",
       "      <th>V24</th>\n",
       "      <th>V25</th>\n",
       "      <th>V26</th>\n",
       "      <th>V27</th>\n",
       "      <th>V28</th>\n",
       "      <th>Amount</th>\n",
       "    </tr>\n",
       "    <tr>\n",
       "      <th>Class</th>\n",
       "      <th></th>\n",
       "      <th></th>\n",
       "      <th></th>\n",
       "      <th></th>\n",
       "      <th></th>\n",
       "      <th></th>\n",
       "      <th></th>\n",
       "      <th></th>\n",
       "      <th></th>\n",
       "      <th></th>\n",
       "      <th></th>\n",
       "      <th></th>\n",
       "      <th></th>\n",
       "      <th></th>\n",
       "      <th></th>\n",
       "      <th></th>\n",
       "      <th></th>\n",
       "      <th></th>\n",
       "      <th></th>\n",
       "      <th></th>\n",
       "      <th></th>\n",
       "    </tr>\n",
       "  </thead>\n",
       "  <tbody>\n",
       "    <tr>\n",
       "      <th>0</th>\n",
       "      <td>0.008258</td>\n",
       "      <td>-0.006271</td>\n",
       "      <td>0.012171</td>\n",
       "      <td>-0.007860</td>\n",
       "      <td>0.005453</td>\n",
       "      <td>0.002419</td>\n",
       "      <td>0.009637</td>\n",
       "      <td>-0.000987</td>\n",
       "      <td>0.004467</td>\n",
       "      <td>0.009824</td>\n",
       "      <td>...</td>\n",
       "      <td>-0.000644</td>\n",
       "      <td>-0.001235</td>\n",
       "      <td>-0.000024</td>\n",
       "      <td>0.000070</td>\n",
       "      <td>0.000182</td>\n",
       "      <td>-0.000072</td>\n",
       "      <td>-0.000089</td>\n",
       "      <td>-0.000295</td>\n",
       "      <td>-0.000131</td>\n",
       "      <td>88.291022</td>\n",
       "    </tr>\n",
       "    <tr>\n",
       "      <th>1</th>\n",
       "      <td>-4.771948</td>\n",
       "      <td>3.623778</td>\n",
       "      <td>-7.033281</td>\n",
       "      <td>4.542029</td>\n",
       "      <td>-3.151225</td>\n",
       "      <td>-1.397737</td>\n",
       "      <td>-5.568731</td>\n",
       "      <td>0.570636</td>\n",
       "      <td>-2.581123</td>\n",
       "      <td>-5.676883</td>\n",
       "      <td>...</td>\n",
       "      <td>0.372319</td>\n",
       "      <td>0.713588</td>\n",
       "      <td>0.014049</td>\n",
       "      <td>-0.040308</td>\n",
       "      <td>-0.105130</td>\n",
       "      <td>0.041449</td>\n",
       "      <td>0.051648</td>\n",
       "      <td>0.170575</td>\n",
       "      <td>0.075667</td>\n",
       "      <td>122.211321</td>\n",
       "    </tr>\n",
       "  </tbody>\n",
       "</table>\n",
       "<p>2 rows × 29 columns</p>\n",
       "</div>"
      ],
      "text/plain": [
       "             V1        V2        V3        V4        V5        V6        V7  \\\n",
       "Class                                                                         \n",
       "0      0.008258 -0.006271  0.012171 -0.007860  0.005453  0.002419  0.009637   \n",
       "1     -4.771948  3.623778 -7.033281  4.542029 -3.151225 -1.397737 -5.568731   \n",
       "\n",
       "             V8        V9       V10  ...       V20       V21       V22  \\\n",
       "Class                                ...                                 \n",
       "0     -0.000987  0.004467  0.009824  ... -0.000644 -0.001235 -0.000024   \n",
       "1      0.570636 -2.581123 -5.676883  ...  0.372319  0.713588  0.014049   \n",
       "\n",
       "            V23       V24       V25       V26       V27       V28      Amount  \n",
       "Class                                                                          \n",
       "0      0.000070  0.000182 -0.000072 -0.000089 -0.000295 -0.000131   88.291022  \n",
       "1     -0.040308 -0.105130  0.041449  0.051648  0.170575  0.075667  122.211321  \n",
       "\n",
       "[2 rows x 29 columns]"
      ]
     },
     "execution_count": 50,
     "metadata": {},
     "output_type": "execute_result"
    }
   ],
   "source": [
    "# Calculating mean of all column for ligit and fraud transactions\n",
    "df.groupby(\"Class\").mean()"
   ]
  },
  {
   "cell_type": "code",
   "execution_count": 51,
   "id": "05c7192a",
   "metadata": {},
   "outputs": [
    {
     "data": {
      "text/html": [
       "<div>\n",
       "<style scoped>\n",
       "    .dataframe tbody tr th:only-of-type {\n",
       "        vertical-align: middle;\n",
       "    }\n",
       "\n",
       "    .dataframe tbody tr th {\n",
       "        vertical-align: top;\n",
       "    }\n",
       "\n",
       "    .dataframe thead th {\n",
       "        text-align: right;\n",
       "    }\n",
       "</style>\n",
       "<table border=\"1\" class=\"dataframe\">\n",
       "  <thead>\n",
       "    <tr style=\"text-align: right;\">\n",
       "      <th></th>\n",
       "      <th>V1</th>\n",
       "      <th>V2</th>\n",
       "      <th>V3</th>\n",
       "      <th>V4</th>\n",
       "      <th>V5</th>\n",
       "      <th>V6</th>\n",
       "      <th>V7</th>\n",
       "      <th>V8</th>\n",
       "      <th>V9</th>\n",
       "      <th>V10</th>\n",
       "      <th>...</th>\n",
       "      <th>V20</th>\n",
       "      <th>V21</th>\n",
       "      <th>V22</th>\n",
       "      <th>V23</th>\n",
       "      <th>V24</th>\n",
       "      <th>V25</th>\n",
       "      <th>V26</th>\n",
       "      <th>V27</th>\n",
       "      <th>V28</th>\n",
       "      <th>Amount</th>\n",
       "    </tr>\n",
       "    <tr>\n",
       "      <th>Class</th>\n",
       "      <th></th>\n",
       "      <th></th>\n",
       "      <th></th>\n",
       "      <th></th>\n",
       "      <th></th>\n",
       "      <th></th>\n",
       "      <th></th>\n",
       "      <th></th>\n",
       "      <th></th>\n",
       "      <th></th>\n",
       "      <th></th>\n",
       "      <th></th>\n",
       "      <th></th>\n",
       "      <th></th>\n",
       "      <th></th>\n",
       "      <th></th>\n",
       "      <th></th>\n",
       "      <th></th>\n",
       "      <th></th>\n",
       "      <th></th>\n",
       "      <th></th>\n",
       "    </tr>\n",
       "  </thead>\n",
       "  <tbody>\n",
       "    <tr>\n",
       "      <th>0</th>\n",
       "      <td>-0.021179</td>\n",
       "      <td>-0.072374</td>\n",
       "      <td>0.053567</td>\n",
       "      <td>-0.064486</td>\n",
       "      <td>0.011476</td>\n",
       "      <td>0.043521</td>\n",
       "      <td>-0.091168</td>\n",
       "      <td>0.048919</td>\n",
       "      <td>0.039136</td>\n",
       "      <td>0.085265</td>\n",
       "      <td>...</td>\n",
       "      <td>-0.002565</td>\n",
       "      <td>0.041041</td>\n",
       "      <td>0.023518</td>\n",
       "      <td>-0.054292</td>\n",
       "      <td>-0.020567</td>\n",
       "      <td>0.045453</td>\n",
       "      <td>0.020346</td>\n",
       "      <td>-0.002198</td>\n",
       "      <td>-0.024847</td>\n",
       "      <td>83.757317</td>\n",
       "    </tr>\n",
       "    <tr>\n",
       "      <th>1</th>\n",
       "      <td>-4.771948</td>\n",
       "      <td>3.623778</td>\n",
       "      <td>-7.033281</td>\n",
       "      <td>4.542029</td>\n",
       "      <td>-3.151225</td>\n",
       "      <td>-1.397737</td>\n",
       "      <td>-5.568731</td>\n",
       "      <td>0.570636</td>\n",
       "      <td>-2.581123</td>\n",
       "      <td>-5.676883</td>\n",
       "      <td>...</td>\n",
       "      <td>0.372319</td>\n",
       "      <td>0.713588</td>\n",
       "      <td>0.014049</td>\n",
       "      <td>-0.040308</td>\n",
       "      <td>-0.105130</td>\n",
       "      <td>0.041449</td>\n",
       "      <td>0.051648</td>\n",
       "      <td>0.170575</td>\n",
       "      <td>0.075667</td>\n",
       "      <td>122.211321</td>\n",
       "    </tr>\n",
       "  </tbody>\n",
       "</table>\n",
       "<p>2 rows × 29 columns</p>\n",
       "</div>"
      ],
      "text/plain": [
       "             V1        V2        V3        V4        V5        V6        V7  \\\n",
       "Class                                                                         \n",
       "0     -0.021179 -0.072374  0.053567 -0.064486  0.011476  0.043521 -0.091168   \n",
       "1     -4.771948  3.623778 -7.033281  4.542029 -3.151225 -1.397737 -5.568731   \n",
       "\n",
       "             V8        V9       V10  ...       V20       V21       V22  \\\n",
       "Class                                ...                                 \n",
       "0      0.048919  0.039136  0.085265  ... -0.002565  0.041041  0.023518   \n",
       "1      0.570636 -2.581123 -5.676883  ...  0.372319  0.713588  0.014049   \n",
       "\n",
       "            V23       V24       V25       V26       V27       V28      Amount  \n",
       "Class                                                                          \n",
       "0     -0.054292 -0.020567  0.045453  0.020346 -0.002198 -0.024847   83.757317  \n",
       "1     -0.040308 -0.105130  0.041449  0.051648  0.170575  0.075667  122.211321  \n",
       "\n",
       "[2 rows x 29 columns]"
      ]
     },
     "execution_count": 51,
     "metadata": {},
     "output_type": "execute_result"
    }
   ],
   "source": [
    "under_samp_df.groupby(\"Class\").mean()\n"
   ]
  },
  {
   "cell_type": "markdown",
   "id": "5fe8eb51",
   "metadata": {},
   "source": [
    "As mean values are very similar to our above main data mean that means we got a good sample."
   ]
  },
  {
   "cell_type": "code",
   "execution_count": 52,
   "id": "6c5288f0",
   "metadata": {},
   "outputs": [
    {
     "name": "stdout",
     "output_type": "stream",
     "text": [
      "              V1        V2        V3        V4        V5        V6        V7  \\\n",
      "63520   1.251983 -0.586493  0.637782  0.667550 -1.058747 -0.008756 -0.729169   \n",
      "116212  1.244992 -0.698052  1.194993 -0.475814 -1.703377 -0.993271 -0.857894   \n",
      "121159  1.084933 -0.339186  0.403159  1.271999 -0.262544  0.802568 -0.428433   \n",
      "256457  0.001151  0.818831 -0.519976 -0.699752  1.471752  0.677274  0.670653   \n",
      "141602  1.260973 -0.036976  0.498327 -0.261259 -0.509748 -0.494266 -0.267744   \n",
      "...          ...       ...       ...       ...       ...       ...       ...   \n",
      "279863 -1.927883  1.125653 -4.518331  1.749293 -1.566487 -2.010494 -0.882850   \n",
      "280143  1.378559  1.289381 -5.004247  1.411850  0.442581 -1.326536 -1.413170   \n",
      "280149 -0.676143  1.126366 -2.213700  0.468308 -1.120541 -0.003346 -2.234739   \n",
      "281144 -3.113832  0.585864 -5.399730  1.817092 -0.840618 -2.943548 -2.208002   \n",
      "281674  1.991976  0.158476 -2.583441  0.408670  1.151147 -0.096695  0.223050   \n",
      "\n",
      "              V8        V9       V10  ...       V20       V21       V22  \\\n",
      "63520   0.174442 -0.125282  0.647504  ... -0.726235 -0.436792 -0.614244   \n",
      "116212 -0.188833 -0.643178  0.545810  ...  0.256781  0.461135  1.240868   \n",
      "121159  0.302503  0.852645 -0.036463  ... -0.066906 -0.114183 -0.209209   \n",
      "256457  0.380221  0.049113 -0.956095  ... -0.125113 -0.260969 -0.527005   \n",
      "141602 -0.038162  0.050219 -0.065020  ...  0.005169 -0.094735 -0.263678   \n",
      "...          ...       ...       ...  ...       ...       ...       ...   \n",
      "279863  0.697211 -2.064945 -5.587794  ...  1.252967  0.778584 -0.319189   \n",
      "280143  0.248525 -1.127396 -3.232153  ...  0.226138  0.370612  0.028234   \n",
      "280149  1.210158 -0.652250 -3.463891  ...  0.247968  0.751826  0.834108   \n",
      "281144  1.058733 -1.632333 -5.245984  ...  0.306271  0.583276 -0.269209   \n",
      "281674 -0.068384  0.577829 -0.888722  ... -0.017652 -0.164350 -0.295135   \n",
      "\n",
      "             V23       V24       V25       V26       V27       V28  Amount  \n",
      "63520   0.029927  0.002100  0.451733 -0.276636  0.069172  0.020623   11.50  \n",
      "116212 -0.095273  1.000333  0.383603 -0.091752  0.038012  0.042470   59.98  \n",
      "121159 -0.296564 -0.828684  0.753921 -0.235628  0.032851  0.012141   68.05  \n",
      "256457  0.199132 -0.469563 -0.676830  0.212350  0.270672  0.071752    3.58  \n",
      "141602  0.034344  0.085437  0.154754  0.904707 -0.070642 -0.002247    3.78  \n",
      "...          ...       ...       ...       ...       ...       ...     ...  \n",
      "279863  0.639419 -0.294885  0.537503  0.788395  0.292680  0.147968  390.00  \n",
      "280143 -0.145640 -0.081049  0.521875  0.739467  0.389152  0.186637    0.76  \n",
      "280149  0.190944  0.032070 -0.739695  0.471111  0.385107  0.194361   77.89  \n",
      "281144 -0.456108 -0.183659 -0.328168  0.606116  0.884876 -0.253700  245.00  \n",
      "281674 -0.072173 -0.450261  0.313267 -0.289617  0.002988 -0.015309   42.53  \n",
      "\n",
      "[984 rows x 29 columns]\n"
     ]
    }
   ],
   "source": [
    "# Splitting the data into features and targets\n",
    "X=under_samp_df.drop([\"Class\"],axis=1)\n",
    "print(X)\n",
    "#features\n"
   ]
  },
  {
   "cell_type": "code",
   "execution_count": 53,
   "id": "f98a0956",
   "metadata": {},
   "outputs": [],
   "source": [
    "# Standardization method\n",
    "from sklearn.preprocessing import StandardScaler\n",
    "scaler=StandardScaler()\n",
    "# Fitting the 'Amount' data into scaler and transform\n",
    "X[\"Amount\"]=scaler.fit_transform(X[[\"Amount\"]])"
   ]
  },
  {
   "cell_type": "code",
   "execution_count": 54,
   "id": "6d4bfbed",
   "metadata": {},
   "outputs": [
    {
     "name": "stdout",
     "output_type": "stream",
     "text": [
      "63520     0\n",
      "116212    0\n",
      "121159    0\n",
      "256457    0\n",
      "141602    0\n",
      "         ..\n",
      "279863    1\n",
      "280143    1\n",
      "280149    1\n",
      "281144    1\n",
      "281674    1\n",
      "Name: Class, Length: 984, dtype: int64\n"
     ]
    }
   ],
   "source": [
    "Y=under_samp_df[\"Class\"]\n",
    "print(Y)"
   ]
  },
  {
   "cell_type": "code",
   "execution_count": 55,
   "id": "00d83bca",
   "metadata": {},
   "outputs": [
    {
     "name": "stdout",
     "output_type": "stream",
     "text": [
      "(984, 29) (787, 29) (197, 29)\n"
     ]
    }
   ],
   "source": [
    "# Split the data into training data and test data\n",
    "X_train_us,X_test_us,Y_train_us,Y_test_us=train_test_split(X,Y,test_size=.2,stratify=Y,random_state=2)\n",
    "print(X.shape,X_train_us.shape,X_test_us.shape)\n"
   ]
  },
  {
   "cell_type": "markdown",
   "id": "73bb63dd",
   "metadata": {},
   "source": [
    "### Logistic Regression for balanced data set"
   ]
  },
  {
   "cell_type": "markdown",
   "id": "e9515a41",
   "metadata": {},
   "source": [
    "### Prediction on the train set"
   ]
  },
  {
   "cell_type": "code",
   "execution_count": 56,
   "id": "f0f5c3b5",
   "metadata": {},
   "outputs": [],
   "source": [
    "logistic_model2= LogisticRegression()"
   ]
  },
  {
   "cell_type": "code",
   "execution_count": 57,
   "id": "1b796383",
   "metadata": {},
   "outputs": [
    {
     "data": {
      "text/plain": [
       "LogisticRegression()"
      ]
     },
     "execution_count": 57,
     "metadata": {},
     "output_type": "execute_result"
    }
   ],
   "source": [
    "logistic_model2.fit(X_train_us, Y_train_us)"
   ]
  },
  {
   "cell_type": "code",
   "execution_count": 58,
   "id": "6b2dd11d",
   "metadata": {},
   "outputs": [],
   "source": [
    "Y_train_us_pred=logistic_model2.predict(X_train_us)\n",
    "training_data_us_accuracy=accuracy_score(Y_train_us_pred,Y_train_us)\n"
   ]
  },
  {
   "cell_type": "code",
   "execution_count": 59,
   "id": "7b5cd816",
   "metadata": {},
   "outputs": [
    {
     "name": "stdout",
     "output_type": "stream",
     "text": [
      "[[388   5]\n",
      " [ 27 367]]\n"
     ]
    }
   ],
   "source": [
    "# Confusion matrix\n",
    "confusion = metrics.confusion_matrix(Y_train_us, Y_train_us_pred)\n",
    "print(confusion)"
   ]
  },
  {
   "cell_type": "code",
   "execution_count": 60,
   "id": "ec02ae59",
   "metadata": {},
   "outputs": [],
   "source": [
    "TP = confusion[1,1] # True positive \n",
    "TN = confusion[0,0] # True negatives\n",
    "FP = confusion[0,1] # False positives\n",
    "FN = confusion[1,0] # False negatives"
   ]
  },
  {
   "cell_type": "code",
   "execution_count": 61,
   "id": "5cf00259",
   "metadata": {},
   "outputs": [
    {
     "name": "stdout",
     "output_type": "stream",
     "text": [
      "Accuracy:- 0.9593392630241423\n",
      "Sensitivity:- 0.9314720812182741\n",
      "Specificity:- 0.9872773536895675\n",
      "F1-Score:- 0.95822454308094\n"
     ]
    }
   ],
   "source": [
    "# Accuracy\n",
    "print(\"Accuracy:-\",metrics.accuracy_score(Y_train_us, Y_train_us_pred))\n",
    "\n",
    "# Sensitivity\n",
    "print(\"Sensitivity:-\",TP / float(TP+FN))\n",
    "\n",
    "# Specificity\n",
    "print(\"Specificity:-\", TN / float(TN+FP))\n",
    "\n",
    "# F1 score\n",
    "print(\"F1-Score:-\", f1_score(Y_train_us, Y_train_us_pred))"
   ]
  },
  {
   "cell_type": "markdown",
   "id": "b536a85c",
   "metadata": {},
   "source": [
    "#### Prediction on the test set"
   ]
  },
  {
   "cell_type": "code",
   "execution_count": 62,
   "id": "e268f94d",
   "metadata": {},
   "outputs": [],
   "source": [
    "# Prediction on the test set\n",
    "Y_test_us_pred = logistic_model2.predict(X_test_us)"
   ]
  },
  {
   "cell_type": "code",
   "execution_count": 63,
   "id": "98354442",
   "metadata": {},
   "outputs": [
    {
     "name": "stdout",
     "output_type": "stream",
     "text": [
      "[[95  4]\n",
      " [10 88]]\n"
     ]
    }
   ],
   "source": [
    "# Confusion matrix\n",
    "confusion = metrics.confusion_matrix(Y_test_us, Y_test_us_pred)\n",
    "print(confusion)"
   ]
  },
  {
   "cell_type": "code",
   "execution_count": 64,
   "id": "df9d760d",
   "metadata": {},
   "outputs": [],
   "source": [
    "TP = confusion[1,1] # True positive \n",
    "TN = confusion[0,0] # True negatives\n",
    "FP = confusion[0,1] # False positives\n",
    "FN = confusion[1,0] # False negatives"
   ]
  },
  {
   "cell_type": "code",
   "execution_count": 65,
   "id": "fef39a30",
   "metadata": {},
   "outputs": [
    {
     "name": "stdout",
     "output_type": "stream",
     "text": [
      "Accuracy:- 0.9289340101522843\n",
      "Sensitivity:- 0.8979591836734694\n",
      "Specificity:- 0.9595959595959596\n",
      "F1-Score:- 0.9263157894736843\n"
     ]
    }
   ],
   "source": [
    "# Accuracy\n",
    "print(\"Accuracy:-\",metrics.accuracy_score(Y_test_us, Y_test_us_pred))\n",
    "\n",
    "# Sensitivity\n",
    "print(\"Sensitivity:-\",TP / float(TP+FN))\n",
    "\n",
    "# Specificity\n",
    "print(\"Specificity:-\", TN / float(TN+FP))\n",
    "\n",
    "# F1 score\n",
    "print(\"F1-Score:-\", f1_score(Y_test_us, Y_test_us_pred))"
   ]
  },
  {
   "cell_type": "markdown",
   "id": "9128d7fa",
   "metadata": {},
   "source": [
    "# Model Summary "
   ]
  },
  {
   "cell_type": "markdown",
   "id": "14a21da9",
   "metadata": {},
   "source": [
    "\n",
    "Train set\n",
    "Accuracy = 0.95 ,Sensitivity = 0.93, Specificity=0.99, F1-Score = 0.95\n",
    "\n",
    "\n",
    "Test set\n",
    "Accuracy = 0.92, Sensitivity = 0.89, Specificity=0.95, F1-Score = 0.93\n"
   ]
  },
  {
   "cell_type": "markdown",
   "id": "e9a37899",
   "metadata": {},
   "source": [
    "## Decision_Tree for blanced data set"
   ]
  },
  {
   "cell_type": "code",
   "execution_count": 66,
   "id": "7dc2f6f6",
   "metadata": {},
   "outputs": [],
   "source": [
    "# Importing decision tree classifier\n",
    "from sklearn.tree import DecisionTreeClassifier"
   ]
  },
  {
   "cell_type": "code",
   "execution_count": 67,
   "id": "21289934",
   "metadata": {},
   "outputs": [
    {
     "data": {
      "text/plain": [
       "DecisionTreeClassifier(max_depth=5, min_samples_leaf=5, min_samples_split=10,\n",
       "                       random_state=100)"
      ]
     },
     "execution_count": 67,
     "metadata": {},
     "output_type": "execute_result"
    }
   ],
   "source": [
    "# Model with optimal hyper_parameters\n",
    "Tree_model2 = DecisionTreeClassifier(criterion = \"gini\", \n",
    "                                  random_state = 100,\n",
    "                                  max_depth=5, \n",
    "                                  min_samples_leaf=5,\n",
    "                                  min_samples_split=10)\n",
    "\n",
    "Tree_model2.fit(X_train_us, Y_train_us)"
   ]
  },
  {
   "cell_type": "markdown",
   "id": "3ab82ef3",
   "metadata": {},
   "source": [
    "####  Prediction on the train set"
   ]
  },
  {
   "cell_type": "code",
   "execution_count": 68,
   "id": "9cfc41ba",
   "metadata": {},
   "outputs": [],
   "source": [
    "# Predictions on the train set\n",
    "Y_train_us_pred = Tree_model2.predict(X_train_us)"
   ]
  },
  {
   "cell_type": "code",
   "execution_count": 69,
   "id": "6cd4b093",
   "metadata": {},
   "outputs": [
    {
     "name": "stdout",
     "output_type": "stream",
     "text": [
      "[[387   6]\n",
      " [ 19 375]]\n"
     ]
    }
   ],
   "source": [
    "# Confusion matrix\n",
    "confusion = metrics.confusion_matrix(Y_train_us, Y_train_us_pred)\n",
    "print(confusion)"
   ]
  },
  {
   "cell_type": "code",
   "execution_count": 70,
   "id": "9bc00c5b",
   "metadata": {},
   "outputs": [],
   "source": [
    "TP = confusion[1,1] # True positive \n",
    "TN = confusion[0,0] # True negatives\n",
    "FP = confusion[0,1] # False positives\n",
    "FN = confusion[1,0] # False negatives"
   ]
  },
  {
   "cell_type": "code",
   "execution_count": 71,
   "id": "d14949f7",
   "metadata": {},
   "outputs": [
    {
     "name": "stdout",
     "output_type": "stream",
     "text": [
      "Accuracy:- 0.9682337992376112\n",
      "Sensitivity:- 0.9517766497461929\n",
      "Specificity:- 0.9847328244274809\n",
      "F1-Score:- 0.9677419354838709\n"
     ]
    }
   ],
   "source": [
    "# Accuracy\n",
    "print(\"Accuracy:-\",metrics.accuracy_score(Y_train_us, Y_train_us_pred))\n",
    "# Sensitivity\n",
    "print(\"Sensitivity:-\",TP / float(TP+FN))\n",
    "\n",
    "# Specificity\n",
    "print(\"Specificity:-\", TN / float(TN+FP))\n",
    "\n",
    "# F1 score\n",
    "print(\"F1-Score:-\", f1_score(Y_train_us, Y_train_us_pred))\n"
   ]
  },
  {
   "cell_type": "markdown",
   "id": "eb5f4ded",
   "metadata": {},
   "source": [
    "#### Prediction on the test set"
   ]
  },
  {
   "cell_type": "code",
   "execution_count": 72,
   "id": "211a5008",
   "metadata": {},
   "outputs": [],
   "source": [
    "# Predictions on the test set\n",
    "y_test_pred = Tree_model2.predict(x_test)\n"
   ]
  },
  {
   "cell_type": "code",
   "execution_count": 73,
   "id": "f06993ef",
   "metadata": {},
   "outputs": [
    {
     "name": "stdout",
     "output_type": "stream",
     "text": [
      "[[95  4]\n",
      " [10 88]]\n"
     ]
    }
   ],
   "source": [
    "confusion = metrics.confusion_matrix(Y_test_us, Y_test_us_pred)\n",
    "print(confusion)"
   ]
  },
  {
   "cell_type": "code",
   "execution_count": 74,
   "id": "3d48d641",
   "metadata": {},
   "outputs": [],
   "source": [
    "TP = confusion[1,1] # True positive \n",
    "TN = confusion[0,0] # True negatives\n",
    "FP = confusion[0,1] # False positives\n",
    "FN = confusion[1,0] # False negatives"
   ]
  },
  {
   "cell_type": "code",
   "execution_count": 76,
   "id": "b94619d5",
   "metadata": {},
   "outputs": [
    {
     "name": "stdout",
     "output_type": "stream",
     "text": [
      "Accuracy:- 0.9289340101522843\n",
      "Sensitivity:- 0.8979591836734694\n",
      "Specificity:- 0.9595959595959596\n",
      "F1-Score:- 0.9677419354838709\n"
     ]
    }
   ],
   "source": [
    "# Accuracy\n",
    "print(\"Accuracy:-\",metrics.accuracy_score(Y_test_us, Y_test_us_pred))\n",
    "# Sensitivity\n",
    "print(\"Sensitivity:-\",TP / float(TP+FN))\n",
    "\n",
    "# Specificity\n",
    "print(\"Specificity:-\", TN / float(TN+FP))\n",
    "\n",
    "# F1 score\n",
    "print(\"F1-Score:-\", f1_score(Y_train_us, Y_train_us_pred))"
   ]
  },
  {
   "cell_type": "markdown",
   "id": "ab9eb438",
   "metadata": {},
   "source": [
    "### Model Summary"
   ]
  },
  {
   "cell_type": "markdown",
   "id": "64354a94",
   "metadata": {},
   "source": [
    "\n",
    "Train set\n",
    "Accuracy = 0.96, Sensitivity = 0.95, Specificity=0.98, F1-Score = 0.97\n",
    "\n",
    "\n",
    "Test set\n",
    "Accuracy = 0.93, Sensitivity = 0.90, Specificity=0.96, F1-Score = 0.96\n"
   ]
  },
  {
   "cell_type": "markdown",
   "id": "a129c7e5",
   "metadata": {},
   "source": [
    "# Conclusion"
   ]
  },
  {
   "cell_type": "markdown",
   "id": "4ffe2da0",
   "metadata": {},
   "source": [
    "Performed two models on both imbalanced and balanced data. In case of Unbalanced data set Accuracy on Train and test data is 99 % and f1 score is in range(0.67-0.87) for both the models logistic regression and decision tree classifier. In case of balanced data set Accuracy on Train data set is 97% and test data is 93 % and f1 score is in range(0.92-0.97).\n",
    "Sensitivity(\"ability of model to predict true positive\") for both the model are in range (0.90-0.95) and Specifity(\"ability of model to predict true negative\") are in range (0.95-0.98). So both models are performing very good and  Decision tree classifer is preforming better compare to Logistic_regression for balanced data set.\n",
    "So Both model can be used for checking wheather a transaction is ligit or fraud as both have accuracy approx 95% for test data and Decision tree classifer is preforming better compare to Logistic_regression for balanced data set."
   ]
  }
 ],
 "metadata": {
  "kernelspec": {
   "display_name": "Python 3",
   "language": "python",
   "name": "python3"
  },
  "language_info": {
   "codemirror_mode": {
    "name": "ipython",
    "version": 3
   },
   "file_extension": ".py",
   "mimetype": "text/x-python",
   "name": "python",
   "nbconvert_exporter": "python",
   "pygments_lexer": "ipython3",
   "version": "3.8.8"
  }
 },
 "nbformat": 4,
 "nbformat_minor": 5
}
