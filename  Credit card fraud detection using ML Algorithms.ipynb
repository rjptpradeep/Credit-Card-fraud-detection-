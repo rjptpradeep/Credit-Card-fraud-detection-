{
 "cells": [
  {
   "cell_type": "code",
   "execution_count": 1,
   "id": "a30ee75a",
   "metadata": {},
   "outputs": [],
   "source": [
    "# Importing libraries\n",
    "import pandas as pd\n",
    "import numpy as np \n",
    "import matplotlib.pyplot as plt\n",
    "import seaborn as sns"
   ]
  },
  {
   "cell_type": "code",
   "execution_count": 2,
   "id": "7ec6dce3",
   "metadata": {},
   "outputs": [],
   "source": [
    "df=pd.read_csv(\"creditcard.csv\")"
   ]
  },
  {
   "cell_type": "code",
   "execution_count": 3,
   "id": "bc4409c9",
   "metadata": {},
   "outputs": [
    {
     "data": {
      "text/plain": [
       "(284807, 31)"
      ]
     },
     "execution_count": 3,
     "metadata": {},
     "output_type": "execute_result"
    }
   ],
   "source": [
    "df.shape"
   ]
  },
  {
   "cell_type": "code",
   "execution_count": 4,
   "id": "0b083679",
   "metadata": {},
   "outputs": [
    {
     "name": "stdout",
     "output_type": "stream",
     "text": [
      "<class 'pandas.core.frame.DataFrame'>\n",
      "RangeIndex: 284807 entries, 0 to 284806\n",
      "Data columns (total 31 columns):\n",
      " #   Column  Non-Null Count   Dtype  \n",
      "---  ------  --------------   -----  \n",
      " 0   Time    284807 non-null  float64\n",
      " 1   V1      284807 non-null  float64\n",
      " 2   V2      284807 non-null  float64\n",
      " 3   V3      284807 non-null  float64\n",
      " 4   V4      284807 non-null  float64\n",
      " 5   V5      284807 non-null  float64\n",
      " 6   V6      284807 non-null  float64\n",
      " 7   V7      284807 non-null  float64\n",
      " 8   V8      284807 non-null  float64\n",
      " 9   V9      284807 non-null  float64\n",
      " 10  V10     284807 non-null  float64\n",
      " 11  V11     284807 non-null  float64\n",
      " 12  V12     284807 non-null  float64\n",
      " 13  V13     284807 non-null  float64\n",
      " 14  V14     284807 non-null  float64\n",
      " 15  V15     284807 non-null  float64\n",
      " 16  V16     284807 non-null  float64\n",
      " 17  V17     284807 non-null  float64\n",
      " 18  V18     284807 non-null  float64\n",
      " 19  V19     284807 non-null  float64\n",
      " 20  V20     284807 non-null  float64\n",
      " 21  V21     284807 non-null  float64\n",
      " 22  V22     284807 non-null  float64\n",
      " 23  V23     284807 non-null  float64\n",
      " 24  V24     284807 non-null  float64\n",
      " 25  V25     284807 non-null  float64\n",
      " 26  V26     284807 non-null  float64\n",
      " 27  V27     284807 non-null  float64\n",
      " 28  V28     284807 non-null  float64\n",
      " 29  Amount  284807 non-null  float64\n",
      " 30  Class   284807 non-null  int64  \n",
      "dtypes: float64(30), int64(1)\n",
      "memory usage: 67.4 MB\n"
     ]
    }
   ],
   "source": [
    "df.info()"
   ]
  },
  {
   "cell_type": "code",
   "execution_count": 5,
   "id": "5679c817",
   "metadata": {},
   "outputs": [
    {
     "data": {
      "text/html": [
       "<div>\n",
       "<style scoped>\n",
       "    .dataframe tbody tr th:only-of-type {\n",
       "        vertical-align: middle;\n",
       "    }\n",
       "\n",
       "    .dataframe tbody tr th {\n",
       "        vertical-align: top;\n",
       "    }\n",
       "\n",
       "    .dataframe thead th {\n",
       "        text-align: right;\n",
       "    }\n",
       "</style>\n",
       "<table border=\"1\" class=\"dataframe\">\n",
       "  <thead>\n",
       "    <tr style=\"text-align: right;\">\n",
       "      <th></th>\n",
       "      <th>Time</th>\n",
       "      <th>V1</th>\n",
       "      <th>V2</th>\n",
       "      <th>V3</th>\n",
       "      <th>V4</th>\n",
       "      <th>V5</th>\n",
       "      <th>V6</th>\n",
       "      <th>V7</th>\n",
       "      <th>V8</th>\n",
       "      <th>V9</th>\n",
       "      <th>...</th>\n",
       "      <th>V21</th>\n",
       "      <th>V22</th>\n",
       "      <th>V23</th>\n",
       "      <th>V24</th>\n",
       "      <th>V25</th>\n",
       "      <th>V26</th>\n",
       "      <th>V27</th>\n",
       "      <th>V28</th>\n",
       "      <th>Amount</th>\n",
       "      <th>Class</th>\n",
       "    </tr>\n",
       "  </thead>\n",
       "  <tbody>\n",
       "    <tr>\n",
       "      <th>count</th>\n",
       "      <td>284807.000000</td>\n",
       "      <td>2.848070e+05</td>\n",
       "      <td>2.848070e+05</td>\n",
       "      <td>2.848070e+05</td>\n",
       "      <td>2.848070e+05</td>\n",
       "      <td>2.848070e+05</td>\n",
       "      <td>2.848070e+05</td>\n",
       "      <td>2.848070e+05</td>\n",
       "      <td>2.848070e+05</td>\n",
       "      <td>2.848070e+05</td>\n",
       "      <td>...</td>\n",
       "      <td>2.848070e+05</td>\n",
       "      <td>2.848070e+05</td>\n",
       "      <td>2.848070e+05</td>\n",
       "      <td>2.848070e+05</td>\n",
       "      <td>2.848070e+05</td>\n",
       "      <td>2.848070e+05</td>\n",
       "      <td>2.848070e+05</td>\n",
       "      <td>2.848070e+05</td>\n",
       "      <td>284807.000000</td>\n",
       "      <td>284807.000000</td>\n",
       "    </tr>\n",
       "    <tr>\n",
       "      <th>mean</th>\n",
       "      <td>94813.859575</td>\n",
       "      <td>3.918649e-15</td>\n",
       "      <td>5.682686e-16</td>\n",
       "      <td>-8.761736e-15</td>\n",
       "      <td>2.811118e-15</td>\n",
       "      <td>-1.552103e-15</td>\n",
       "      <td>2.040130e-15</td>\n",
       "      <td>-1.698953e-15</td>\n",
       "      <td>-1.893285e-16</td>\n",
       "      <td>-3.147640e-15</td>\n",
       "      <td>...</td>\n",
       "      <td>1.473120e-16</td>\n",
       "      <td>8.042109e-16</td>\n",
       "      <td>5.282512e-16</td>\n",
       "      <td>4.456271e-15</td>\n",
       "      <td>1.426896e-15</td>\n",
       "      <td>1.701640e-15</td>\n",
       "      <td>-3.662252e-16</td>\n",
       "      <td>-1.217809e-16</td>\n",
       "      <td>88.349619</td>\n",
       "      <td>0.001727</td>\n",
       "    </tr>\n",
       "    <tr>\n",
       "      <th>std</th>\n",
       "      <td>47488.145955</td>\n",
       "      <td>1.958696e+00</td>\n",
       "      <td>1.651309e+00</td>\n",
       "      <td>1.516255e+00</td>\n",
       "      <td>1.415869e+00</td>\n",
       "      <td>1.380247e+00</td>\n",
       "      <td>1.332271e+00</td>\n",
       "      <td>1.237094e+00</td>\n",
       "      <td>1.194353e+00</td>\n",
       "      <td>1.098632e+00</td>\n",
       "      <td>...</td>\n",
       "      <td>7.345240e-01</td>\n",
       "      <td>7.257016e-01</td>\n",
       "      <td>6.244603e-01</td>\n",
       "      <td>6.056471e-01</td>\n",
       "      <td>5.212781e-01</td>\n",
       "      <td>4.822270e-01</td>\n",
       "      <td>4.036325e-01</td>\n",
       "      <td>3.300833e-01</td>\n",
       "      <td>250.120109</td>\n",
       "      <td>0.041527</td>\n",
       "    </tr>\n",
       "    <tr>\n",
       "      <th>min</th>\n",
       "      <td>0.000000</td>\n",
       "      <td>-5.640751e+01</td>\n",
       "      <td>-7.271573e+01</td>\n",
       "      <td>-4.832559e+01</td>\n",
       "      <td>-5.683171e+00</td>\n",
       "      <td>-1.137433e+02</td>\n",
       "      <td>-2.616051e+01</td>\n",
       "      <td>-4.355724e+01</td>\n",
       "      <td>-7.321672e+01</td>\n",
       "      <td>-1.343407e+01</td>\n",
       "      <td>...</td>\n",
       "      <td>-3.483038e+01</td>\n",
       "      <td>-1.093314e+01</td>\n",
       "      <td>-4.480774e+01</td>\n",
       "      <td>-2.836627e+00</td>\n",
       "      <td>-1.029540e+01</td>\n",
       "      <td>-2.604551e+00</td>\n",
       "      <td>-2.256568e+01</td>\n",
       "      <td>-1.543008e+01</td>\n",
       "      <td>0.000000</td>\n",
       "      <td>0.000000</td>\n",
       "    </tr>\n",
       "    <tr>\n",
       "      <th>25%</th>\n",
       "      <td>54201.500000</td>\n",
       "      <td>-9.203734e-01</td>\n",
       "      <td>-5.985499e-01</td>\n",
       "      <td>-8.903648e-01</td>\n",
       "      <td>-8.486401e-01</td>\n",
       "      <td>-6.915971e-01</td>\n",
       "      <td>-7.682956e-01</td>\n",
       "      <td>-5.540759e-01</td>\n",
       "      <td>-2.086297e-01</td>\n",
       "      <td>-6.430976e-01</td>\n",
       "      <td>...</td>\n",
       "      <td>-2.283949e-01</td>\n",
       "      <td>-5.423504e-01</td>\n",
       "      <td>-1.618463e-01</td>\n",
       "      <td>-3.545861e-01</td>\n",
       "      <td>-3.171451e-01</td>\n",
       "      <td>-3.269839e-01</td>\n",
       "      <td>-7.083953e-02</td>\n",
       "      <td>-5.295979e-02</td>\n",
       "      <td>5.600000</td>\n",
       "      <td>0.000000</td>\n",
       "    </tr>\n",
       "    <tr>\n",
       "      <th>50%</th>\n",
       "      <td>84692.000000</td>\n",
       "      <td>1.810880e-02</td>\n",
       "      <td>6.548556e-02</td>\n",
       "      <td>1.798463e-01</td>\n",
       "      <td>-1.984653e-02</td>\n",
       "      <td>-5.433583e-02</td>\n",
       "      <td>-2.741871e-01</td>\n",
       "      <td>4.010308e-02</td>\n",
       "      <td>2.235804e-02</td>\n",
       "      <td>-5.142873e-02</td>\n",
       "      <td>...</td>\n",
       "      <td>-2.945017e-02</td>\n",
       "      <td>6.781943e-03</td>\n",
       "      <td>-1.119293e-02</td>\n",
       "      <td>4.097606e-02</td>\n",
       "      <td>1.659350e-02</td>\n",
       "      <td>-5.213911e-02</td>\n",
       "      <td>1.342146e-03</td>\n",
       "      <td>1.124383e-02</td>\n",
       "      <td>22.000000</td>\n",
       "      <td>0.000000</td>\n",
       "    </tr>\n",
       "    <tr>\n",
       "      <th>75%</th>\n",
       "      <td>139320.500000</td>\n",
       "      <td>1.315642e+00</td>\n",
       "      <td>8.037239e-01</td>\n",
       "      <td>1.027196e+00</td>\n",
       "      <td>7.433413e-01</td>\n",
       "      <td>6.119264e-01</td>\n",
       "      <td>3.985649e-01</td>\n",
       "      <td>5.704361e-01</td>\n",
       "      <td>3.273459e-01</td>\n",
       "      <td>5.971390e-01</td>\n",
       "      <td>...</td>\n",
       "      <td>1.863772e-01</td>\n",
       "      <td>5.285536e-01</td>\n",
       "      <td>1.476421e-01</td>\n",
       "      <td>4.395266e-01</td>\n",
       "      <td>3.507156e-01</td>\n",
       "      <td>2.409522e-01</td>\n",
       "      <td>9.104512e-02</td>\n",
       "      <td>7.827995e-02</td>\n",
       "      <td>77.165000</td>\n",
       "      <td>0.000000</td>\n",
       "    </tr>\n",
       "    <tr>\n",
       "      <th>max</th>\n",
       "      <td>172792.000000</td>\n",
       "      <td>2.454930e+00</td>\n",
       "      <td>2.205773e+01</td>\n",
       "      <td>9.382558e+00</td>\n",
       "      <td>1.687534e+01</td>\n",
       "      <td>3.480167e+01</td>\n",
       "      <td>7.330163e+01</td>\n",
       "      <td>1.205895e+02</td>\n",
       "      <td>2.000721e+01</td>\n",
       "      <td>1.559499e+01</td>\n",
       "      <td>...</td>\n",
       "      <td>2.720284e+01</td>\n",
       "      <td>1.050309e+01</td>\n",
       "      <td>2.252841e+01</td>\n",
       "      <td>4.584549e+00</td>\n",
       "      <td>7.519589e+00</td>\n",
       "      <td>3.517346e+00</td>\n",
       "      <td>3.161220e+01</td>\n",
       "      <td>3.384781e+01</td>\n",
       "      <td>25691.160000</td>\n",
       "      <td>1.000000</td>\n",
       "    </tr>\n",
       "  </tbody>\n",
       "</table>\n",
       "<p>8 rows × 31 columns</p>\n",
       "</div>"
      ],
      "text/plain": [
       "                Time            V1            V2            V3            V4  \\\n",
       "count  284807.000000  2.848070e+05  2.848070e+05  2.848070e+05  2.848070e+05   \n",
       "mean    94813.859575  3.918649e-15  5.682686e-16 -8.761736e-15  2.811118e-15   \n",
       "std     47488.145955  1.958696e+00  1.651309e+00  1.516255e+00  1.415869e+00   \n",
       "min         0.000000 -5.640751e+01 -7.271573e+01 -4.832559e+01 -5.683171e+00   \n",
       "25%     54201.500000 -9.203734e-01 -5.985499e-01 -8.903648e-01 -8.486401e-01   \n",
       "50%     84692.000000  1.810880e-02  6.548556e-02  1.798463e-01 -1.984653e-02   \n",
       "75%    139320.500000  1.315642e+00  8.037239e-01  1.027196e+00  7.433413e-01   \n",
       "max    172792.000000  2.454930e+00  2.205773e+01  9.382558e+00  1.687534e+01   \n",
       "\n",
       "                 V5            V6            V7            V8            V9  \\\n",
       "count  2.848070e+05  2.848070e+05  2.848070e+05  2.848070e+05  2.848070e+05   \n",
       "mean  -1.552103e-15  2.040130e-15 -1.698953e-15 -1.893285e-16 -3.147640e-15   \n",
       "std    1.380247e+00  1.332271e+00  1.237094e+00  1.194353e+00  1.098632e+00   \n",
       "min   -1.137433e+02 -2.616051e+01 -4.355724e+01 -7.321672e+01 -1.343407e+01   \n",
       "25%   -6.915971e-01 -7.682956e-01 -5.540759e-01 -2.086297e-01 -6.430976e-01   \n",
       "50%   -5.433583e-02 -2.741871e-01  4.010308e-02  2.235804e-02 -5.142873e-02   \n",
       "75%    6.119264e-01  3.985649e-01  5.704361e-01  3.273459e-01  5.971390e-01   \n",
       "max    3.480167e+01  7.330163e+01  1.205895e+02  2.000721e+01  1.559499e+01   \n",
       "\n",
       "       ...           V21           V22           V23           V24  \\\n",
       "count  ...  2.848070e+05  2.848070e+05  2.848070e+05  2.848070e+05   \n",
       "mean   ...  1.473120e-16  8.042109e-16  5.282512e-16  4.456271e-15   \n",
       "std    ...  7.345240e-01  7.257016e-01  6.244603e-01  6.056471e-01   \n",
       "min    ... -3.483038e+01 -1.093314e+01 -4.480774e+01 -2.836627e+00   \n",
       "25%    ... -2.283949e-01 -5.423504e-01 -1.618463e-01 -3.545861e-01   \n",
       "50%    ... -2.945017e-02  6.781943e-03 -1.119293e-02  4.097606e-02   \n",
       "75%    ...  1.863772e-01  5.285536e-01  1.476421e-01  4.395266e-01   \n",
       "max    ...  2.720284e+01  1.050309e+01  2.252841e+01  4.584549e+00   \n",
       "\n",
       "                V25           V26           V27           V28         Amount  \\\n",
       "count  2.848070e+05  2.848070e+05  2.848070e+05  2.848070e+05  284807.000000   \n",
       "mean   1.426896e-15  1.701640e-15 -3.662252e-16 -1.217809e-16      88.349619   \n",
       "std    5.212781e-01  4.822270e-01  4.036325e-01  3.300833e-01     250.120109   \n",
       "min   -1.029540e+01 -2.604551e+00 -2.256568e+01 -1.543008e+01       0.000000   \n",
       "25%   -3.171451e-01 -3.269839e-01 -7.083953e-02 -5.295979e-02       5.600000   \n",
       "50%    1.659350e-02 -5.213911e-02  1.342146e-03  1.124383e-02      22.000000   \n",
       "75%    3.507156e-01  2.409522e-01  9.104512e-02  7.827995e-02      77.165000   \n",
       "max    7.519589e+00  3.517346e+00  3.161220e+01  3.384781e+01   25691.160000   \n",
       "\n",
       "               Class  \n",
       "count  284807.000000  \n",
       "mean        0.001727  \n",
       "std         0.041527  \n",
       "min         0.000000  \n",
       "25%         0.000000  \n",
       "50%         0.000000  \n",
       "75%         0.000000  \n",
       "max         1.000000  \n",
       "\n",
       "[8 rows x 31 columns]"
      ]
     },
     "execution_count": 5,
     "metadata": {},
     "output_type": "execute_result"
    }
   ],
   "source": [
    "\n",
    "df.describe()"
   ]
  },
  {
   "cell_type": "code",
   "execution_count": 6,
   "id": "69a11b46",
   "metadata": {},
   "outputs": [
    {
     "name": "stdout",
     "output_type": "stream",
     "text": [
      "Time      0\n",
      "V1        0\n",
      "V2        0\n",
      "V3        0\n",
      "V4        0\n",
      "V5        0\n",
      "V6        0\n",
      "V7        0\n",
      "V8        0\n",
      "V9        0\n",
      "V10       0\n",
      "V11       0\n",
      "V12       0\n",
      "V13       0\n",
      "V14       0\n",
      "V15       0\n",
      "V16       0\n",
      "V17       0\n",
      "V18       0\n",
      "V19       0\n",
      "V20       0\n",
      "V21       0\n",
      "V22       0\n",
      "V23       0\n",
      "V24       0\n",
      "V25       0\n",
      "V26       0\n",
      "V27       0\n",
      "V28       0\n",
      "Amount    0\n",
      "Class     0\n",
      "dtype: int64\n"
     ]
    }
   ],
   "source": [
    "# Checking for missing value\n",
    "missing_value=df.isnull().sum()\n",
    "print(missing_value)"
   ]
  },
  {
   "cell_type": "code",
   "execution_count": 7,
   "id": "84084909",
   "metadata": {},
   "outputs": [
    {
     "name": "stdout",
     "output_type": "stream",
     "text": [
      "0    284315\n",
      "1       492\n",
      "Name: Class, dtype: int64\n"
     ]
    }
   ],
   "source": [
    "# Distribution of ligit transaction and fraudulent transactions\n",
    "Classes=df[\"Class\"].value_counts(\"\")\n",
    "print(Classes)"
   ]
  },
  {
   "cell_type": "code",
   "execution_count": 8,
   "id": "c9660c96",
   "metadata": {},
   "outputs": [
    {
     "data": {
      "text/plain": [
       "99.83"
      ]
     },
     "execution_count": 8,
     "metadata": {},
     "output_type": "execute_result"
    }
   ],
   "source": [
    "legit_share=round((Classes[0]/df['Class'].count()*100),2)\n",
    "legit_share"
   ]
  },
  {
   "cell_type": "code",
   "execution_count": 9,
   "id": "a4598fb1",
   "metadata": {},
   "outputs": [
    {
     "data": {
      "text/plain": [
       "0.17"
      ]
     },
     "execution_count": 9,
     "metadata": {},
     "output_type": "execute_result"
    }
   ],
   "source": [
    "fraud_share=round((Classes[1]/df[\"Class\"].count()*100),2)\n",
    "fraud_share"
   ]
  },
  {
   "cell_type": "markdown",
   "id": "5db9f3c0",
   "metadata": {},
   "source": [
    "We can see, there are only 0.17 percents fraud case. we will take care of the class imblance later."
   ]
  },
  {
   "cell_type": "code",
   "execution_count": 10,
   "id": "b7607fa8",
   "metadata": {},
   "outputs": [
    {
     "data": {
      "text/html": [
       "<div>\n",
       "<style scoped>\n",
       "    .dataframe tbody tr th:only-of-type {\n",
       "        vertical-align: middle;\n",
       "    }\n",
       "\n",
       "    .dataframe tbody tr th {\n",
       "        vertical-align: top;\n",
       "    }\n",
       "\n",
       "    .dataframe thead th {\n",
       "        text-align: right;\n",
       "    }\n",
       "</style>\n",
       "<table border=\"1\" class=\"dataframe\">\n",
       "  <thead>\n",
       "    <tr style=\"text-align: right;\">\n",
       "      <th></th>\n",
       "      <th>Class</th>\n",
       "      <th>Percentage</th>\n",
       "    </tr>\n",
       "  </thead>\n",
       "  <tbody>\n",
       "    <tr>\n",
       "      <th>0</th>\n",
       "      <td>Non-Fraudulent</td>\n",
       "      <td>99.83</td>\n",
       "    </tr>\n",
       "    <tr>\n",
       "      <th>1</th>\n",
       "      <td>Fraudulent</td>\n",
       "      <td>0.17</td>\n",
       "    </tr>\n",
       "  </tbody>\n",
       "</table>\n",
       "</div>"
      ],
      "text/plain": [
       "            Class  Percentage\n",
       "0  Non-Fraudulent       99.83\n",
       "1      Fraudulent        0.17"
      ]
     },
     "execution_count": 10,
     "metadata": {},
     "output_type": "execute_result"
    }
   ],
   "source": [
    "# Bar plot for no. of fraud and non fraud transcations\n",
    "fraud_percentage={\"Class\":[\"Non-Fraudulent\",\"Fraudulent\"],\"Percentage\":[legit_share,fraud_share]}\n",
    "df_fraud_percentage=pd.DataFrame(fraud_percentage)\n",
    "df_fraud_percentage\n",
    "\n",
    "\n"
   ]
  },
  {
   "cell_type": "code",
   "execution_count": 11,
   "id": "17965aae",
   "metadata": {},
   "outputs": [
    {
     "data": {
      "image/png": "[encoded data removed]",
      "text/plain": [
       "<Figure size 432x288 with 1 Axes>"
      ]
     },
     "metadata": {
      "needs_background": "light"
     },
     "output_type": "display_data"
    }
   ],
   "source": [
    "sns.barplot(x=\"Class\",y=\"Percentage\",data=df_fraud_percentage)\n",
    "plt.title(\"percentage of fraudulent and non-fraudulent transaction\")\n",
    "plt.show()\n",
    "\n",
    "\n"
   ]
  },
  {
   "cell_type": "markdown",
   "id": "1f8752b0",
   "metadata": {},
   "source": [
    "# OBSERVING THE DISTRIBUTION OF CLASSES WITH TIME."
   ]
  },
  {
   "cell_type": "code",
   "execution_count": 12,
   "id": "de970eda",
   "metadata": {},
   "outputs": [],
   "source": [
    "# OBSERVE THE DISTRIBUTION OF CLASSES WITH TIME.\n",
    "#Creating fradulent dataframe\n",
    "data_fraud=df[df[\"Class\"]==1]\n",
    "# Creating ligit dataframe\n",
    "data_ligit=df[df[\"Class\"]==0]\n"
   ]
  },
  {
   "cell_type": "code",
   "execution_count": 13,
   "id": "45015037",
   "metadata": {},
   "outputs": [
    {
     "name": "stderr",
     "output_type": "stream",
     "text": [
      "C:\\Users\\91979\\anaconda3\\lib\\site-packages\\seaborn\\distributions.py:2557: FutureWarning: `distplot` is a deprecated function and will be removed in a future version. Please adapt your code to use either `displot` (a figure-level function with similar flexibility) or `histplot` (an axes-level function for histograms).\n",
      "  warnings.warn(msg, FutureWarning)\n",
      "C:\\Users\\91979\\anaconda3\\lib\\site-packages\\seaborn\\distributions.py:2557: FutureWarning: `distplot` is a deprecated function and will be removed in a future version. Please adapt your code to use either `displot` (a figure-level function with similar flexibility) or `histplot` (an axes-level function for histograms).\n",
      "  warnings.warn(msg, FutureWarning)\n"
     ]
    },
    {
     "data": {
      "image/png": "[encoded data removed]",
      "text/plain": [
       "<Figure size 576x360 with 1 Axes>"
      ]
     },
     "metadata": {
      "needs_background": "light"
     },
     "output_type": "display_data"
    }
   ],
   "source": [
    "# Distribution plot\n",
    "plt.figure(figsize=(8,5))\n",
    "ax = sns.distplot(data_fraud['Time'],label='fraudulent')\n",
    "ax = sns.distplot(data_ligit['Time'],label='ligit')\n",
    "ax.set(xlabel='Seconds elapsed between the transaction and the first transction')\n",
    "plt.legend()\n",
    "plt.show()"
   ]
  },
  {
   "cell_type": "markdown",
   "id": "4730a34e",
   "metadata": {},
   "source": [
    "Analysis,\n",
    "We do not see any specific pattern for the fraudulent and non-fraudulent transctions with respect to Time. Hence, we can drop the Time column"
   ]
  },
  {
   "cell_type": "code",
   "execution_count": 14,
   "id": "04d925c0",
   "metadata": {},
   "outputs": [],
   "source": [
    "# Dropping the \"Time\" column\n",
    "df.drop('Time', axis=1, inplace=True)"
   ]
  },
  {
   "cell_type": "markdown",
   "id": "53ce7fe3",
   "metadata": {},
   "source": [
    "# Observing the distribution of classes with amount"
   ]
  },
  {
   "cell_type": "code",
   "execution_count": 15,
   "id": "78cc5b6a",
   "metadata": {},
   "outputs": [
    {
     "name": "stderr",
     "output_type": "stream",
     "text": [
      "C:\\Users\\91979\\anaconda3\\lib\\site-packages\\seaborn\\distributions.py:2557: FutureWarning: `distplot` is a deprecated function and will be removed in a future version. Please adapt your code to use either `displot` (a figure-level function with similar flexibility) or `kdeplot` (an axes-level function for kernel density plots).\n",
      "  warnings.warn(msg, FutureWarning)\n",
      "C:\\Users\\91979\\anaconda3\\lib\\site-packages\\seaborn\\distributions.py:2557: FutureWarning: `distplot` is a deprecated function and will be removed in a future version. Please adapt your code to use either `displot` (a figure-level function with similar flexibility) or `kdeplot` (an axes-level function for kernel density plots).\n",
      "  warnings.warn(msg, FutureWarning)\n"
     ]
    },
    {
     "data": {
      "image/png": "[encoded data removed]",
      "text/plain": [
       "<Figure size 576x360 with 1 Axes>"
      ]
     },
     "metadata": {
      "needs_background": "light"
     },
     "output_type": "display_data"
    }
   ],
   "source": [
    "plt.figure(figsize=(8,5))\n",
    "ax=sns.distplot(data_fraud[\"Amount\"],label=\"fraudulent\",hist=False)\n",
    "ax=sns.distplot(data_ligit[\"Amount\"],label=\"non fraudulent\",hist=False)\n",
    "ax.set(xlabel=\"Transaction amount\")\n",
    "plt.legend()\n",
    "plt.show()\n"
   ]
  },
  {
   "cell_type": "markdown",
   "id": "4a07b038",
   "metadata": {},
   "source": [
    "Analysis,\n",
    "We can see that the fraudulent transctions are mostly densed in the lower range of amount, whereas the non-fraudulent transctions are spreaded throughout low to high range of amount."
   ]
  },
  {
   "cell_type": "code",
   "execution_count": 16,
   "id": "798ecbe1",
   "metadata": {},
   "outputs": [],
   "source": [
    "# Importing library\n",
    "from sklearn.model_selection import train_test_split"
   ]
  },
  {
   "cell_type": "code",
   "execution_count": 17,
   "id": "63bb0060",
   "metadata": {},
   "outputs": [],
   "source": [
    "# Storing feature variable into x\n",
    "x=df.drop([\"Class\"],axis=1)\n",
    "# Storing target variable into y\n",
    "y=df[\"Class\"]\n",
    "# Splitting data into train and test set 80:20\n",
    "x_train, x_test, y_train, y_test=train_test_split(x, y, train_size=0.8,test_size=0.2,random_state=100)"
   ]
  },
  {
   "cell_type": "markdown",
   "id": "1612a282",
   "metadata": {},
   "source": [
    "# Feature scaling\n",
    "Here we need to scale down only the amount coulmn as all other coulmns are already scaled by the PCA transformation."
   ]
  },
  {
   "cell_type": "code",
   "execution_count": 18,
   "id": "86e2fd07",
   "metadata": {},
   "outputs": [
    {
     "name": "stderr",
     "output_type": "stream",
     "text": [
      "<ipython-input-18-538eddea87e9>:5: SettingWithCopyWarning: \n",
      "A value is trying to be set on a copy of a slice from a DataFrame.\n",
      "Try using .loc[row_indexer,col_indexer] = value instead\n",
      "\n",
      "See the caveats in the documentation: https://pandas.pydata.org/pandas-docs/stable/user_guide/indexing.html#returning-a-view-versus-a-copy\n",
      "  x_train[\"Amount\"]=scaler.fit_transform(x_train[[\"Amount\"]])\n",
      "<ipython-input-18-538eddea87e9>:6: SettingWithCopyWarning: \n",
      "A value is trying to be set on a copy of a slice from a DataFrame.\n",
      "Try using .loc[row_indexer,col_indexer] = value instead\n",
      "\n",
      "See the caveats in the documentation: https://pandas.pydata.org/pandas-docs/stable/user_guide/indexing.html#returning-a-view-versus-a-copy\n",
      "  x_test[\"Amount\"]=scaler.fit_transform(x_test[[\"Amount\"]])\n"
     ]
    }
   ],
   "source": [
    "# Standardization method\n",
    "from sklearn.preprocessing import StandardScaler\n",
    "scaler=StandardScaler()\n",
    "# Fit the data into scaler and transform\n",
    "x_train[\"Amount\"]=scaler.fit_transform(x_train[[\"Amount\"]])\n",
    "x_test[\"Amount\"]=scaler.fit_transform(x_test[[\"Amount\"]])\n"
   ]
  },
  {
   "cell_type": "code",
   "execution_count": 19,
   "id": "8dd04e1a",
   "metadata": {},
   "outputs": [
    {
     "data": {
      "text/html": [
       "<div>\n",
       "<style scoped>\n",
       "    .dataframe tbody tr th:only-of-type {\n",
       "        vertical-align: middle;\n",
       "    }\n",
       "\n",
       "    .dataframe tbody tr th {\n",
       "        vertical-align: top;\n",
       "    }\n",
       "\n",
       "    .dataframe thead th {\n",
       "        text-align: right;\n",
       "    }\n",
       "</style>\n",
       "<table border=\"1\" class=\"dataframe\">\n",
       "  <thead>\n",
       "    <tr style=\"text-align: right;\">\n",
       "      <th></th>\n",
       "      <th>V1</th>\n",
       "      <th>V2</th>\n",
       "      <th>V3</th>\n",
       "      <th>V4</th>\n",
       "      <th>V5</th>\n",
       "      <th>V6</th>\n",
       "      <th>V7</th>\n",
       "      <th>V8</th>\n",
       "      <th>V9</th>\n",
       "      <th>V10</th>\n",
       "      <th>...</th>\n",
       "      <th>V20</th>\n",
       "      <th>V21</th>\n",
       "      <th>V22</th>\n",
       "      <th>V23</th>\n",
       "      <th>V24</th>\n",
       "      <th>V25</th>\n",
       "      <th>V26</th>\n",
       "      <th>V27</th>\n",
       "      <th>V28</th>\n",
       "      <th>Amount</th>\n",
       "    </tr>\n",
       "  </thead>\n",
       "  <tbody>\n",
       "    <tr>\n",
       "      <th>201788</th>\n",
       "      <td>2.023734</td>\n",
       "      <td>-0.429219</td>\n",
       "      <td>-0.691061</td>\n",
       "      <td>-0.201461</td>\n",
       "      <td>-0.162486</td>\n",
       "      <td>0.283718</td>\n",
       "      <td>-0.674694</td>\n",
       "      <td>0.192230</td>\n",
       "      <td>1.124319</td>\n",
       "      <td>-0.037763</td>\n",
       "      <td>...</td>\n",
       "      <td>-0.171390</td>\n",
       "      <td>-0.195207</td>\n",
       "      <td>-0.477813</td>\n",
       "      <td>0.340513</td>\n",
       "      <td>0.059174</td>\n",
       "      <td>-0.431015</td>\n",
       "      <td>-0.297028</td>\n",
       "      <td>-0.000063</td>\n",
       "      <td>-0.046947</td>\n",
       "      <td>-0.345273</td>\n",
       "    </tr>\n",
       "    <tr>\n",
       "      <th>179369</th>\n",
       "      <td>-0.145286</td>\n",
       "      <td>0.736735</td>\n",
       "      <td>0.543226</td>\n",
       "      <td>0.892662</td>\n",
       "      <td>0.350846</td>\n",
       "      <td>0.089253</td>\n",
       "      <td>0.626708</td>\n",
       "      <td>-0.049137</td>\n",
       "      <td>-0.732566</td>\n",
       "      <td>0.297692</td>\n",
       "      <td>...</td>\n",
       "      <td>0.206709</td>\n",
       "      <td>-0.124288</td>\n",
       "      <td>-0.263560</td>\n",
       "      <td>-0.110568</td>\n",
       "      <td>-0.434224</td>\n",
       "      <td>-0.509076</td>\n",
       "      <td>0.719784</td>\n",
       "      <td>-0.006357</td>\n",
       "      <td>0.146053</td>\n",
       "      <td>-0.206439</td>\n",
       "    </tr>\n",
       "    <tr>\n",
       "      <th>73138</th>\n",
       "      <td>-3.015846</td>\n",
       "      <td>-1.920606</td>\n",
       "      <td>1.229574</td>\n",
       "      <td>0.721577</td>\n",
       "      <td>1.089918</td>\n",
       "      <td>-0.195727</td>\n",
       "      <td>-0.462586</td>\n",
       "      <td>0.919341</td>\n",
       "      <td>-0.612193</td>\n",
       "      <td>-0.966197</td>\n",
       "      <td>...</td>\n",
       "      <td>0.842838</td>\n",
       "      <td>0.274911</td>\n",
       "      <td>-0.319550</td>\n",
       "      <td>0.212891</td>\n",
       "      <td>-0.268792</td>\n",
       "      <td>0.241190</td>\n",
       "      <td>0.318445</td>\n",
       "      <td>-0.100726</td>\n",
       "      <td>-0.365257</td>\n",
       "      <td>0.358043</td>\n",
       "    </tr>\n",
       "    <tr>\n",
       "      <th>208679</th>\n",
       "      <td>1.851980</td>\n",
       "      <td>-1.007445</td>\n",
       "      <td>-1.499762</td>\n",
       "      <td>-0.220770</td>\n",
       "      <td>-0.568376</td>\n",
       "      <td>-1.232633</td>\n",
       "      <td>0.248573</td>\n",
       "      <td>-0.539483</td>\n",
       "      <td>-0.813368</td>\n",
       "      <td>0.785431</td>\n",
       "      <td>...</td>\n",
       "      <td>-0.196551</td>\n",
       "      <td>-0.406722</td>\n",
       "      <td>-0.899081</td>\n",
       "      <td>0.137370</td>\n",
       "      <td>0.075894</td>\n",
       "      <td>-0.244027</td>\n",
       "      <td>0.455618</td>\n",
       "      <td>-0.094066</td>\n",
       "      <td>-0.031488</td>\n",
       "      <td>0.362400</td>\n",
       "    </tr>\n",
       "    <tr>\n",
       "      <th>206534</th>\n",
       "      <td>2.237844</td>\n",
       "      <td>-0.551513</td>\n",
       "      <td>-1.426515</td>\n",
       "      <td>-0.924369</td>\n",
       "      <td>-0.401734</td>\n",
       "      <td>-1.438232</td>\n",
       "      <td>-0.119942</td>\n",
       "      <td>-0.449263</td>\n",
       "      <td>-0.717258</td>\n",
       "      <td>0.851668</td>\n",
       "      <td>...</td>\n",
       "      <td>-0.045417</td>\n",
       "      <td>0.050447</td>\n",
       "      <td>0.125601</td>\n",
       "      <td>0.215531</td>\n",
       "      <td>-0.080485</td>\n",
       "      <td>-0.063975</td>\n",
       "      <td>-0.307176</td>\n",
       "      <td>-0.042838</td>\n",
       "      <td>-0.063872</td>\n",
       "      <td>-0.316109</td>\n",
       "    </tr>\n",
       "  </tbody>\n",
       "</table>\n",
       "<p>5 rows × 29 columns</p>\n",
       "</div>"
      ],
      "text/plain": [
       "              V1        V2        V3        V4        V5        V6        V7  \\\n",
       "201788  2.023734 -0.429219 -0.691061 -0.201461 -0.162486  0.283718 -0.674694   \n",
       "179369 -0.145286  0.736735  0.543226  0.892662  0.350846  0.089253  0.626708   \n",
       "73138  -3.015846 -1.920606  1.229574  0.721577  1.089918 -0.195727 -0.462586   \n",
       "208679  1.851980 -1.007445 -1.499762 -0.220770 -0.568376 -1.232633  0.248573   \n",
       "206534  2.237844 -0.551513 -1.426515 -0.924369 -0.401734 -1.438232 -0.119942   \n",
       "\n",
       "              V8        V9       V10  ...       V20       V21       V22  \\\n",
       "201788  0.192230  1.124319 -0.037763  ... -0.171390 -0.195207 -0.477813   \n",
       "179369 -0.049137 -0.732566  0.297692  ...  0.206709 -0.124288 -0.263560   \n",
       "73138   0.919341 -0.612193 -0.966197  ...  0.842838  0.274911 -0.319550   \n",
       "208679 -0.539483 -0.813368  0.785431  ... -0.196551 -0.406722 -0.899081   \n",
       "206534 -0.449263 -0.717258  0.851668  ... -0.045417  0.050447  0.125601   \n",
       "\n",
       "             V23       V24       V25       V26       V27       V28    Amount  \n",
       "201788  0.340513  0.059174 -0.431015 -0.297028 -0.000063 -0.046947 -0.345273  \n",
       "179369 -0.110568 -0.434224 -0.509076  0.719784 -0.006357  0.146053 -0.206439  \n",
       "73138   0.212891 -0.268792  0.241190  0.318445 -0.100726 -0.365257  0.358043  \n",
       "208679  0.137370  0.075894 -0.244027  0.455618 -0.094066 -0.031488  0.362400  \n",
       "206534  0.215531 -0.080485 -0.063975 -0.307176 -0.042838 -0.063872 -0.316109  \n",
       "\n",
       "[5 rows x 29 columns]"
      ]
     },
     "execution_count": 19,
     "metadata": {},
     "output_type": "execute_result"
    }
   ],
   "source": [
    "x_train.head()"
   ]
  },
  {
   "cell_type": "code",
   "execution_count": 20,
   "id": "84b874ad",
   "metadata": {},
   "outputs": [
    {
     "data": {
      "text/html": [
       "<div>\n",
       "<style scoped>\n",
       "    .dataframe tbody tr th:only-of-type {\n",
       "        vertical-align: middle;\n",
       "    }\n",
       "\n",
       "    .dataframe tbody tr th {\n",
       "        vertical-align: top;\n",
       "    }\n",
       "\n",
       "    .dataframe thead th {\n",
       "        text-align: right;\n",
       "    }\n",
       "</style>\n",
       "<table border=\"1\" class=\"dataframe\">\n",
       "  <thead>\n",
       "    <tr style=\"text-align: right;\">\n",
       "      <th></th>\n",
       "      <th>V1</th>\n",
       "      <th>V2</th>\n",
       "      <th>V3</th>\n",
       "      <th>V4</th>\n",
       "      <th>V5</th>\n",
       "      <th>V6</th>\n",
       "      <th>V7</th>\n",
       "      <th>V8</th>\n",
       "      <th>V9</th>\n",
       "      <th>V10</th>\n",
       "      <th>...</th>\n",
       "      <th>V20</th>\n",
       "      <th>V21</th>\n",
       "      <th>V22</th>\n",
       "      <th>V23</th>\n",
       "      <th>V24</th>\n",
       "      <th>V25</th>\n",
       "      <th>V26</th>\n",
       "      <th>V27</th>\n",
       "      <th>V28</th>\n",
       "      <th>Amount</th>\n",
       "    </tr>\n",
       "  </thead>\n",
       "  <tbody>\n",
       "    <tr>\n",
       "      <th>49089</th>\n",
       "      <td>1.229452</td>\n",
       "      <td>-0.235478</td>\n",
       "      <td>-0.627166</td>\n",
       "      <td>0.419877</td>\n",
       "      <td>1.797014</td>\n",
       "      <td>4.069574</td>\n",
       "      <td>-0.896223</td>\n",
       "      <td>1.036103</td>\n",
       "      <td>0.745991</td>\n",
       "      <td>-0.147304</td>\n",
       "      <td>...</td>\n",
       "      <td>-0.057922</td>\n",
       "      <td>-0.170060</td>\n",
       "      <td>-0.288750</td>\n",
       "      <td>-0.130270</td>\n",
       "      <td>1.025935</td>\n",
       "      <td>0.847990</td>\n",
       "      <td>-0.271476</td>\n",
       "      <td>0.060052</td>\n",
       "      <td>0.018104</td>\n",
       "      <td>-0.367842</td>\n",
       "    </tr>\n",
       "    <tr>\n",
       "      <th>154704</th>\n",
       "      <td>2.016893</td>\n",
       "      <td>-0.088751</td>\n",
       "      <td>-2.989257</td>\n",
       "      <td>-0.142575</td>\n",
       "      <td>2.675427</td>\n",
       "      <td>3.332289</td>\n",
       "      <td>-0.652336</td>\n",
       "      <td>0.752811</td>\n",
       "      <td>1.962566</td>\n",
       "      <td>-1.025024</td>\n",
       "      <td>...</td>\n",
       "      <td>-0.147619</td>\n",
       "      <td>-0.184153</td>\n",
       "      <td>-0.089661</td>\n",
       "      <td>0.087188</td>\n",
       "      <td>0.570679</td>\n",
       "      <td>0.101899</td>\n",
       "      <td>0.620842</td>\n",
       "      <td>-0.048958</td>\n",
       "      <td>-0.042831</td>\n",
       "      <td>-0.346160</td>\n",
       "    </tr>\n",
       "    <tr>\n",
       "      <th>67247</th>\n",
       "      <td>0.535093</td>\n",
       "      <td>-1.469185</td>\n",
       "      <td>0.868279</td>\n",
       "      <td>0.385462</td>\n",
       "      <td>-1.439135</td>\n",
       "      <td>0.368118</td>\n",
       "      <td>-0.499370</td>\n",
       "      <td>0.303698</td>\n",
       "      <td>1.042073</td>\n",
       "      <td>-0.437209</td>\n",
       "      <td>...</td>\n",
       "      <td>0.437685</td>\n",
       "      <td>0.028010</td>\n",
       "      <td>-0.384708</td>\n",
       "      <td>-0.128376</td>\n",
       "      <td>0.286638</td>\n",
       "      <td>-0.136700</td>\n",
       "      <td>0.913904</td>\n",
       "      <td>-0.083364</td>\n",
       "      <td>0.052485</td>\n",
       "      <td>0.951188</td>\n",
       "    </tr>\n",
       "    <tr>\n",
       "      <th>251657</th>\n",
       "      <td>2.128486</td>\n",
       "      <td>-0.117215</td>\n",
       "      <td>-1.513910</td>\n",
       "      <td>0.166456</td>\n",
       "      <td>0.359070</td>\n",
       "      <td>-0.540072</td>\n",
       "      <td>0.116023</td>\n",
       "      <td>-0.216140</td>\n",
       "      <td>0.680314</td>\n",
       "      <td>0.079977</td>\n",
       "      <td>...</td>\n",
       "      <td>-0.227278</td>\n",
       "      <td>-0.357993</td>\n",
       "      <td>-0.905085</td>\n",
       "      <td>0.223474</td>\n",
       "      <td>-1.075605</td>\n",
       "      <td>-0.188519</td>\n",
       "      <td>0.267672</td>\n",
       "      <td>-0.071733</td>\n",
       "      <td>-0.072238</td>\n",
       "      <td>-0.372179</td>\n",
       "    </tr>\n",
       "    <tr>\n",
       "      <th>201903</th>\n",
       "      <td>0.558593</td>\n",
       "      <td>1.587908</td>\n",
       "      <td>-2.368767</td>\n",
       "      <td>5.124413</td>\n",
       "      <td>2.171788</td>\n",
       "      <td>-0.500419</td>\n",
       "      <td>1.059829</td>\n",
       "      <td>-0.254233</td>\n",
       "      <td>-1.959060</td>\n",
       "      <td>0.948915</td>\n",
       "      <td>...</td>\n",
       "      <td>0.249457</td>\n",
       "      <td>-0.035049</td>\n",
       "      <td>0.271455</td>\n",
       "      <td>0.381606</td>\n",
       "      <td>0.332001</td>\n",
       "      <td>-0.334757</td>\n",
       "      <td>0.448890</td>\n",
       "      <td>0.168585</td>\n",
       "      <td>0.004955</td>\n",
       "      <td>-0.245206</td>\n",
       "    </tr>\n",
       "  </tbody>\n",
       "</table>\n",
       "<p>5 rows × 29 columns</p>\n",
       "</div>"
      ],
      "text/plain": [
       "              V1        V2        V3        V4        V5        V6        V7  \\\n",
       "49089   1.229452 -0.235478 -0.627166  0.419877  1.797014  4.069574 -0.896223   \n",
       "154704  2.016893 -0.088751 -2.989257 -0.142575  2.675427  3.332289 -0.652336   \n",
       "67247   0.535093 -1.469185  0.868279  0.385462 -1.439135  0.368118 -0.499370   \n",
       "251657  2.128486 -0.117215 -1.513910  0.166456  0.359070 -0.540072  0.116023   \n",
       "201903  0.558593  1.587908 -2.368767  5.124413  2.171788 -0.500419  1.059829   \n",
       "\n",
       "              V8        V9       V10  ...       V20       V21       V22  \\\n",
       "49089   1.036103  0.745991 -0.147304  ... -0.057922 -0.170060 -0.288750   \n",
       "154704  0.752811  1.962566 -1.025024  ... -0.147619 -0.184153 -0.089661   \n",
       "67247   0.303698  1.042073 -0.437209  ...  0.437685  0.028010 -0.384708   \n",
       "251657 -0.216140  0.680314  0.079977  ... -0.227278 -0.357993 -0.905085   \n",
       "201903 -0.254233 -1.959060  0.948915  ...  0.249457 -0.035049  0.271455   \n",
       "\n",
       "             V23       V24       V25       V26       V27       V28    Amount  \n",
       "49089  -0.130270  1.025935  0.847990 -0.271476  0.060052  0.018104 -0.367842  \n",
       "154704  0.087188  0.570679  0.101899  0.620842 -0.048958 -0.042831 -0.346160  \n",
       "67247  -0.128376  0.286638 -0.136700  0.913904 -0.083364  0.052485  0.951188  \n",
       "251657  0.223474 -1.075605 -0.188519  0.267672 -0.071733 -0.072238 -0.372179  \n",
       "201903  0.381606  0.332001 -0.334757  0.448890  0.168585  0.004955 -0.245206  \n",
       "\n",
       "[5 rows x 29 columns]"
      ]
     },
     "execution_count": 20,
     "metadata": {},
     "output_type": "execute_result"
    }
   ],
   "source": [
    "x_test.head()"
   ]
  },
  {
   "cell_type": "code",
   "execution_count": 21,
   "id": "031deded",
   "metadata": {},
   "outputs": [],
   "source": [
    "# Impoting metrics\n",
    "from sklearn import metrics\n",
    "from sklearn.metrics import confusion_matrix\n",
    "from sklearn.metrics import accuracy_score\n",
    "from sklearn.metrics import f1_score\n",
    "from sklearn.metrics import classification_report"
   ]
  },
  {
   "cell_type": "markdown",
   "id": "24826de6",
   "metadata": {},
   "source": [
    "# ##  Logistic Regression for imbalance data set"
   ]
  },
  {
   "cell_type": "code",
   "execution_count": 22,
   "id": "a25ca43e",
   "metadata": {},
   "outputs": [],
   "source": [
    "# Importing logistic regression module\n",
    "from sklearn.linear_model import LogisticRegression"
   ]
  },
  {
   "cell_type": "code",
   "execution_count": 23,
   "id": "a9bd136a",
   "metadata": {},
   "outputs": [],
   "source": [
    "# Initializing the module\n",
    "logistic_model = LogisticRegression()"
   ]
  },
  {
   "cell_type": "code",
   "execution_count": 24,
   "id": "6f9adc64",
   "metadata": {},
   "outputs": [
    {
     "data": {
      "text/plain": [
       "LogisticRegression()"
      ]
     },
     "execution_count": 24,
     "metadata": {},
     "output_type": "execute_result"
    }
   ],
   "source": [
    "# Fitting the model on the train set\n",
    "logistic_model.fit(x_train, y_train)"
   ]
  },
  {
   "cell_type": "markdown",
   "id": "36ca0d63",
   "metadata": {},
   "source": [
    " Prediction on the train set"
   ]
  },
  {
   "cell_type": "code",
   "execution_count": 25,
   "id": "d6add2bb",
   "metadata": {},
   "outputs": [],
   "source": [
    "# Prediction on the train set\n",
    "y_train_pred = logistic_model.predict(x_train)"
   ]
  },
  {
   "cell_type": "code",
   "execution_count": 26,
   "id": "0699ac29",
   "metadata": {},
   "outputs": [
    {
     "name": "stdout",
     "output_type": "stream",
     "text": [
      "[[227422     27]\n",
      " [   126    270]]\n"
     ]
    }
   ],
   "source": [
    "# Confusion matrix\n",
    "confusion = metrics.confusion_matrix(y_train, y_train_pred)\n",
    "print(confusion)"
   ]
  },
  {
   "cell_type": "code",
   "execution_count": 27,
   "id": "ae5065ed",
   "metadata": {},
   "outputs": [],
   "source": [
    "TP = confusion[1,1] # True positive \n",
    "TN = confusion[0,0] # True negatives\n",
    "FP = confusion[0,1] # False positives\n",
    "FN = confusion[1,0] # False negatives"
   ]
  },
  {
   "cell_type": "code",
   "execution_count": 28,
   "id": "6a3dcdd7",
   "metadata": {},
   "outputs": [
    {
     "name": "stdout",
     "output_type": "stream",
     "text": [
      "Accuracy:- 0.9993284908600145\n",
      "Sensitivity:- 0.6818181818181818\n",
      "Specificity:- 0.9998812920698706\n",
      "F1-Score:- 0.7792207792207791\n"
     ]
    }
   ],
   "source": [
    "# Accuracy\n",
    "print(\"Accuracy:-\",metrics.accuracy_score(y_train, y_train_pred))\n",
    "\n",
    "# Sensitivity\n",
    "print(\"Sensitivity:-\",TP / float(TP+FN))\n",
    "\n",
    "# Specificity\n",
    "print(\"Specificity:-\", TN / float(TN+FP))\n",
    "\n",
    "# F1 score\n",
    "print(\"F1-Score:-\", f1_score(y_train, y_train_pred))"
   ]
  },
  {
   "cell_type": "code",
   "execution_count": 29,
   "id": "078a4e09",
   "metadata": {},
   "outputs": [
    {
     "name": "stdout",
     "output_type": "stream",
     "text": [
      "              precision    recall  f1-score   support\n",
      "\n",
      "           0       1.00      1.00      1.00    227449\n",
      "           1       0.91      0.68      0.78       396\n",
      "\n",
      "    accuracy                           1.00    227845\n",
      "   macro avg       0.95      0.84      0.89    227845\n",
      "weighted avg       1.00      1.00      1.00    227845\n",
      "\n"
     ]
    }
   ],
   "source": [
    "# classification_report\n",
    "print(classification_report(y_train, y_train_pred))"
   ]
  },
  {
   "cell_type": "code",
   "execution_count": 30,
   "id": "82c65b34",
   "metadata": {},
   "outputs": [],
   "source": [
    "# ROC Curve function\n",
    "\n",
    "def draw_roc( actual, probs ):\n",
    "    FPR, TPR, thresholds = metrics.roc_curve( actual, probs,\n",
    "                                              drop_intermediate = False )\n",
    "    auc_score = metrics.roc_auc_score( actual, probs )\n",
    "    plt.figure(figsize=(5, 5))\n",
    "    plt.plot( FPR, TPR, label='ROC curve (area = %0.2f)' % auc_score )\n",
    "    plt.plot([0, 1], [0, 1], 'k--')\n",
    "    plt.xlim([0.0, 1.0])\n",
    "    plt.ylim([0.0, 1.05])\n",
    "    plt.xlabel('False Positive Rate or [1 - True Negative Rate]')\n",
    "    plt.ylabel('True Positive Rate')\n",
    "    plt.title('Receiver operating characteristic example')\n",
    "    plt.legend(loc=\"lower right\")\n",
    "    plt.show()\n",
    "\n",
    "    return None"
   ]
  },
  {
   "cell_type": "code",
   "execution_count": 31,
   "id": "e82da048",
   "metadata": {},
   "outputs": [],
   "source": [
    "# Predicted probability\n",
    "y_train_pred_proba = logistic_model.predict_proba(x_train)[:,1]"
   ]
  },
  {
   "cell_type": "code",
   "execution_count": 32,
   "id": "487d7fce",
   "metadata": {},
   "outputs": [
    {
     "data": {
      "text/plain": [
       "0.9789689339170762"
      ]
     },
     "execution_count": 32,
     "metadata": {},
     "output_type": "execute_result"
    }
   ],
   "source": [
    "# roc_auc\n",
    "auc = metrics.roc_auc_score(y_train, y_train_pred_proba)\n",
    "auc"
   ]
  },
  {
   "cell_type": "code",
   "execution_count": 34,
   "id": "a106bbb7",
   "metadata": {},
   "outputs": [
    {
     "data": {
      "image/png": "[encoded data removed]",
      "text/plain": [
       "<Figure size 360x360 with 1 Axes>"
      ]
     },
     "metadata": {
      "needs_background": "light"
     },
     "output_type": "display_data"
    }
   ],
   "source": [
    "# Plot the ROC curve\n",
    "draw_roc(y_train, y_train_pred_proba)"
   ]
  },
  {
   "cell_type": "markdown",
   "id": "06a52736",
   "metadata": {},
   "source": [
    "#### We can see that we have very good ROC on the train set 0.98 "
   ]
  },
  {
   "cell_type": "markdown",
   "id": "f73ceb34",
   "metadata": {},
   "source": [
    "###  Prediction on the test set"
   ]
  },
  {
   "cell_type": "code",
   "execution_count": 35,
   "id": "3f1a312e",
   "metadata": {},
   "outputs": [],
   "source": [
    "# Prediction on the test set\n",
    "y_test_pred = logistic_model.predict(x_test)"
   ]
  },
  {
   "cell_type": "code",
   "execution_count": 36,
   "id": "c2ad6cde",
   "metadata": {},
   "outputs": [
    {
     "name": "stdout",
     "output_type": "stream",
     "text": [
      "[[56848    18]\n",
      " [   38    58]]\n"
     ]
    }
   ],
   "source": [
    "# Confusion matrix\n",
    "confusion = metrics.confusion_matrix(y_test, y_test_pred)\n",
    "print(confusion)"
   ]
  },
  {
   "cell_type": "code",
   "execution_count": 37,
   "id": "f3d30bd6",
   "metadata": {},
   "outputs": [],
   "source": [
    "TP = confusion[1,1] # True positive \n",
    "TN = confusion[0,0] # True negatives\n",
    "FP = confusion[0,1] # False positives\n",
    "FN = confusion[1,0] # False negatives"
   ]
  },
  {
   "cell_type": "code",
   "execution_count": 38,
   "id": "70702b16",
   "metadata": {},
   "outputs": [
    {
     "name": "stdout",
     "output_type": "stream",
     "text": [
      "Accuracy:- 0.9990168884519505\n",
      "Sensitivity:- 0.6041666666666666\n",
      "Specificity:- 0.9996834663946822\n",
      "F1-Score:- 0.6744186046511628\n"
     ]
    }
   ],
   "source": [
    "# Accuracy\n",
    "print(\"Accuracy:-\",metrics.accuracy_score(y_test, y_test_pred))\n",
    "\n",
    "# Sensitivity\n",
    "print(\"Sensitivity:-\",TP / float(TP+FN))\n",
    "\n",
    "# Specificity\n",
    "print(\"Specificity:-\", TN / float(TN+FP))\n",
    "\n",
    "# F1 score\n",
    "print(\"F1-Score:-\", f1_score(y_test, y_test_pred))"
   ]
  },
  {
   "cell_type": "code",
   "execution_count": 39,
   "id": "48f0abc1",
   "metadata": {},
   "outputs": [
    {
     "name": "stdout",
     "output_type": "stream",
     "text": [
      "              precision    recall  f1-score   support\n",
      "\n",
      "           0       1.00      1.00      1.00     56866\n",
      "           1       0.76      0.60      0.67        96\n",
      "\n",
      "    accuracy                           1.00     56962\n",
      "   macro avg       0.88      0.80      0.84     56962\n",
      "weighted avg       1.00      1.00      1.00     56962\n",
      "\n"
     ]
    }
   ],
   "source": [
    "# classification_report\n",
    "print(classification_report(y_test, y_test_pred))"
   ]
  },
  {
   "cell_type": "code",
   "execution_count": 40,
   "id": "2e712ad5",
   "metadata": {},
   "outputs": [],
   "source": [
    "# Predicted probability\n",
    "y_test_pred_proba = logistic_model.predict_proba(x_test)[:,1]"
   ]
  },
  {
   "cell_type": "code",
   "execution_count": 41,
   "id": "ac5214e6",
   "metadata": {},
   "outputs": [
    {
     "data": {
      "text/plain": [
       "0.9732714114467931"
      ]
     },
     "execution_count": 41,
     "metadata": {},
     "output_type": "execute_result"
    }
   ],
   "source": [
    "# roc_auc\n",
    "auc = metrics.roc_auc_score(y_test, y_test_pred_proba)\n",
    "auc"
   ]
  },
  {
   "cell_type": "code",
   "execution_count": 42,
   "id": "c3e3774e",
   "metadata": {},
   "outputs": [
    {
     "data": {
      "image/png": "[encoded data removed]",
      "text/plain": [
       "<Figure size 360x360 with 1 Axes>"
      ]
     },
     "metadata": {
      "needs_background": "light"
     },
     "output_type": "display_data"
    }
   ],
   "source": [
    "# Plot the ROC curve\n",
    "draw_roc(y_test, y_test_pred_proba)"
   ]
  },
  {
   "cell_type": "markdown",
   "id": "ee60b2ac",
   "metadata": {},
   "source": [
    "#### We can see that we have very good ROC on the test set 0.97 which is almost near to 1."
   ]
  },
  {
   "cell_type": "markdown",
   "id": "80cc27dd",
   "metadata": {},
   "source": [
    "## Model summary "
   ]
  },
  {
   "cell_type": "markdown",
   "id": "469dc674",
   "metadata": {},
   "source": [
    "\n",
    "Train set\n",
    "Accuracy = 0.99, Sensitivity = 0.68, Specificity=0.99, F1-Score = 0.78, Roc value=0.98\n",
    "\n",
    "\n",
    "Test set\n",
    "Accuracy = 0.99, Sensitivity = 0.60, Specificity=0.99, F1-Score = 0.67, Roc value=0.97\n",
    "\n",
    "Overall, the model is performing well in the test set, what it had learnt from the train set."
   ]
  },
  {
   "cell_type": "markdown",
   "id": "28bd218f",
   "metadata": {},
   "source": [
    "###  Decision_Tree for imbalanced data set"
   ]
  },
  {
   "cell_type": "code",
   "execution_count": 43,
   "id": "ae782203",
   "metadata": {},
   "outputs": [],
   "source": [
    "# Importing decision tree classifier\n",
    "from sklearn.tree import DecisionTreeClassifier"
   ]
  },
  {
   "cell_type": "code",
   "execution_count": 44,
   "id": "1a3e67f1",
   "metadata": {},
   "outputs": [
    {
     "data": {
      "text/plain": [
       "DecisionTreeClassifier(max_depth=5, min_samples_leaf=5, min_samples_split=10,\n",
       "                       random_state=100)"
      ]
     },
     "execution_count": 44,
     "metadata": {},
     "output_type": "execute_result"
    }
   ],
   "source": [
    "# Model with optimal hyperparameters\n",
    "Tree_model = DecisionTreeClassifier(criterion = \"gini\", \n",
    "                                  random_state = 100,\n",
    "                                  max_depth=5, \n",
    "                                  min_samples_leaf=5,\n",
    "                                  min_samples_split=10)\n",
    "\n",
    "Tree_model.fit(x_train, y_train)"
   ]
  },
  {
   "cell_type": "code",
   "execution_count": 45,
   "id": "2a6269e1",
   "metadata": {},
   "outputs": [],
   "source": [
    "# Predictions on the train set\n",
    "y_train_pred = Tree_model.predict(x_train)"
   ]
  },
  {
   "cell_type": "code",
   "execution_count": 47,
   "id": "38da4e09",
   "metadata": {},
   "outputs": [
    {
     "name": "stdout",
     "output_type": "stream",
     "text": [
      "[[227434     15]\n",
      " [    77    319]]\n"
     ]
    }
   ],
   "source": [
    "# Confusion matrix\n",
    "confusion = metrics.confusion_matrix(y_train, y_train_pred)\n",
    "print(confusion)"
   ]
  },
  {
   "cell_type": "code",
   "execution_count": 48,
   "id": "8d0298d1",
   "metadata": {},
   "outputs": [],
   "source": [
    "TP = confusion[1,1] # True positive \n",
    "TN = confusion[0,0] # True negatives\n",
    "FP = confusion[0,1] # False positives\n",
    "FN = confusion[1,0] # False negatives"
   ]
  },
  {
   "cell_type": "code",
   "execution_count": 49,
   "id": "5fe0434f",
   "metadata": {},
   "outputs": [
    {
     "name": "stdout",
     "output_type": "stream",
     "text": [
      "Accuracy:- 0.9995962167262832\n",
      "Sensitivity:- 0.8055555555555556\n",
      "Specificity:- 0.9999340511499281\n",
      "F1-Score:- 0.873972602739726\n"
     ]
    }
   ],
   "source": [
    "# Accuracy\n",
    "print(\"Accuracy:-\",metrics.accuracy_score(y_train, y_train_pred))\n",
    "\n",
    "# Sensitivity\n",
    "print(\"Sensitivity:-\",TP / float(TP+FN))\n",
    "\n",
    "# Specificity\n",
    "print(\"Specificity:-\", TN / float(TN+FP))\n",
    "\n",
    "# F1 score\n",
    "print(\"F1-Score:-\", f1_score(y_train, y_train_pred))\n"
   ]
  },
  {
   "cell_type": "code",
   "execution_count": 50,
   "id": "61dfe6c7",
   "metadata": {},
   "outputs": [
    {
     "name": "stdout",
     "output_type": "stream",
     "text": [
      "              precision    recall  f1-score   support\n",
      "\n",
      "           0       1.00      1.00      1.00    227449\n",
      "           1       0.96      0.81      0.87       396\n",
      "\n",
      "    accuracy                           1.00    227845\n",
      "   macro avg       0.98      0.90      0.94    227845\n",
      "weighted avg       1.00      1.00      1.00    227845\n",
      "\n"
     ]
    }
   ],
   "source": [
    "# classification_report\n",
    "print(classification_report(y_train, y_train_pred))"
   ]
  },
  {
   "cell_type": "code",
   "execution_count": 51,
   "id": "a1d76e57",
   "metadata": {},
   "outputs": [],
   "source": [
    "# Predicted probability\n",
    "y_train_pred_proba = Tree_model.predict_proba(x_train)[:,1]"
   ]
  },
  {
   "cell_type": "code",
   "execution_count": 52,
   "id": "75674559",
   "metadata": {},
   "outputs": [
    {
     "data": {
      "text/plain": [
       "0.9279191114926819"
      ]
     },
     "execution_count": 52,
     "metadata": {},
     "output_type": "execute_result"
    }
   ],
   "source": [
    "# roc_auc\n",
    "auc = metrics.roc_auc_score(y_train, y_train_pred_proba)\n",
    "auc"
   ]
  },
  {
   "cell_type": "code",
   "execution_count": 53,
   "id": "57fe52bb",
   "metadata": {},
   "outputs": [
    {
     "data": {
      "image/png": "[encoded data removed]",
      "text/plain": [
       "<Figure size 360x360 with 1 Axes>"
      ]
     },
     "metadata": {
      "needs_background": "light"
     },
     "output_type": "display_data"
    }
   ],
   "source": [
    "# Plot the ROC curve\n",
    "draw_roc(y_train, y_train_pred_proba)"
   ]
  },
  {
   "cell_type": "markdown",
   "id": "897973f1",
   "metadata": {},
   "source": [
    "### Predictions on the test set\n"
   ]
  },
  {
   "cell_type": "code",
   "execution_count": 54,
   "id": "34a74278",
   "metadata": {},
   "outputs": [],
   "source": [
    "y_test_pred = Tree_model.predict(x_test)"
   ]
  },
  {
   "cell_type": "code",
   "execution_count": 55,
   "id": "b74b161a",
   "metadata": {},
   "outputs": [
    {
     "name": "stdout",
     "output_type": "stream",
     "text": [
      "[[56849    17]\n",
      " [   32    64]]\n"
     ]
    }
   ],
   "source": [
    "# Confusion matrix\n",
    "confusion = metrics.confusion_matrix(y_test, y_test_pred)\n",
    "print(confusion)"
   ]
  },
  {
   "cell_type": "code",
   "execution_count": 56,
   "id": "b05e9fea",
   "metadata": {},
   "outputs": [],
   "source": [
    "TP = confusion[1,1] # True positive \n",
    "TN = confusion[0,0] # True negatives\n",
    "FP = confusion[0,1] # False positives\n",
    "FN = confusion[1,0] # False negatives"
   ]
  },
  {
   "cell_type": "code",
   "execution_count": 57,
   "id": "87e0f037",
   "metadata": {},
   "outputs": [
    {
     "name": "stdout",
     "output_type": "stream",
     "text": [
      "Accuracy:- 0.9991397773954567\n",
      "Sensitivity:- 0.6666666666666666\n",
      "Specificity:- 0.9997010515949777\n",
      "F1-Score:- 0.873972602739726\n"
     ]
    }
   ],
   "source": [
    "# Accuracy\n",
    "print(\"Accuracy:-\",metrics.accuracy_score(y_test, y_test_pred))\n",
    "\n",
    "# Sensitivity\n",
    "print(\"Sensitivity:-\",TP / float(TP+FN))\n",
    "\n",
    "# Specificity\n",
    "print(\"Specificity:-\", TN / float(TN+FP))\n",
    "\n",
    "# F1 score\n",
    "print(\"F1-Score:-\", f1_score(y_train, y_train_pred))"
   ]
  },
  {
   "cell_type": "code",
   "execution_count": 58,
   "id": "ebba180d",
   "metadata": {},
   "outputs": [
    {
     "name": "stdout",
     "output_type": "stream",
     "text": [
      "              precision    recall  f1-score   support\n",
      "\n",
      "           0       1.00      1.00      1.00     56866\n",
      "           1       0.79      0.67      0.72        96\n",
      "\n",
      "    accuracy                           1.00     56962\n",
      "   macro avg       0.89      0.83      0.86     56962\n",
      "weighted avg       1.00      1.00      1.00     56962\n",
      "\n"
     ]
    }
   ],
   "source": [
    "# classification_report\n",
    "print(classification_report(y_test, y_test_pred))"
   ]
  },
  {
   "cell_type": "code",
   "execution_count": 59,
   "id": "6b00ac82",
   "metadata": {},
   "outputs": [],
   "source": [
    "# Predicted probability\n",
    "y_test_pred_proba = Tree_model.predict_proba(x_test)[:,1]"
   ]
  },
  {
   "cell_type": "code",
   "execution_count": 60,
   "id": "d1ed1e45",
   "metadata": {},
   "outputs": [
    {
     "data": {
      "text/plain": [
       "0.9007477556888123"
      ]
     },
     "execution_count": 60,
     "metadata": {},
     "output_type": "execute_result"
    }
   ],
   "source": [
    "# roc_auc\n",
    "auc = metrics.roc_auc_score(y_test, y_test_pred_proba)\n",
    "auc"
   ]
  },
  {
   "cell_type": "code",
   "execution_count": 61,
   "id": "11d75e10",
   "metadata": {},
   "outputs": [
    {
     "data": {
      "image/png": "[encoded data removed]",
      "text/plain": [
       "<Figure size 360x360 with 1 Axes>"
      ]
     },
     "metadata": {
      "needs_background": "light"
     },
     "output_type": "display_data"
    }
   ],
   "source": [
    "# Plot the ROC curve\n",
    "draw_roc(y_test, y_test_pred_proba)"
   ]
  },
  {
   "cell_type": "markdown",
   "id": "50c5281d",
   "metadata": {},
   "source": [
    "## Model summary"
   ]
  },
  {
   "cell_type": "markdown",
   "id": "d39aca47",
   "metadata": {},
   "source": [
    "\n",
    "Train set\n",
    "Accuracy = 0.999, Sensitivity = 0.81, Specificity=0.99, F1-Score = 0.87, Roc value=0.93\n",
    "\n",
    "\n",
    "Test set\n",
    "Accuracy = 0.99, Sensitivity = 0.66, Specificity=0.99, F1-Score = 0.87, Roc value=0.90\n",
    "\n",
    "Overall, the model is performing well in the test set, what it had learnt from the train set."
   ]
  },
  {
   "cell_type": "markdown",
   "id": "499a5fb4",
   "metadata": {},
   "source": [
    "### Choosing best model on the imbalanced data\n",
    "\n",
    "We can see that the models we tried (Logistic, Decision Tree), both have performed well.\n"
   ]
  },
  {
   "cell_type": "markdown",
   "id": "113742fc",
   "metadata": {},
   "source": [
    "# Handling data imbalance\n",
    "As we see that the data is heavily imbalanced, We will try several approaches for handling data imbalance.\n",
    "\n",
    "Undersampling :- Here for balancing the class distribution, the non-fraudulent transctions count will be reduced to 492 (similar count of fraudulent transactions)"
   ]
  },
  {
   "cell_type": "code",
   "execution_count": 62,
   "id": "9f4021fb",
   "metadata": {},
   "outputs": [
    {
     "name": "stdout",
     "output_type": "stream",
     "text": [
      "(284315, 30)\n",
      "(492, 30)\n"
     ]
    }
   ],
   "source": [
    "# Seperating the data for analysis\n",
    "legit=df[df.Class==0]\n",
    "fraud=df[df.Class==1]\n",
    "print(legit.shape)\n",
    "print(fraud.shape)"
   ]
  },
  {
   "cell_type": "code",
   "execution_count": 63,
   "id": "e609f85b",
   "metadata": {},
   "outputs": [
    {
     "data": {
      "text/html": [
       "<div>\n",
       "<style scoped>\n",
       "    .dataframe tbody tr th:only-of-type {\n",
       "        vertical-align: middle;\n",
       "    }\n",
       "\n",
       "    .dataframe tbody tr th {\n",
       "        vertical-align: top;\n",
       "    }\n",
       "\n",
       "    .dataframe thead th {\n",
       "        text-align: right;\n",
       "    }\n",
       "</style>\n",
       "<table border=\"1\" class=\"dataframe\">\n",
       "  <thead>\n",
       "    <tr style=\"text-align: right;\">\n",
       "      <th></th>\n",
       "      <th>V1</th>\n",
       "      <th>V2</th>\n",
       "      <th>V3</th>\n",
       "      <th>V4</th>\n",
       "      <th>V5</th>\n",
       "      <th>V6</th>\n",
       "      <th>V7</th>\n",
       "      <th>V8</th>\n",
       "      <th>V9</th>\n",
       "      <th>V10</th>\n",
       "      <th>...</th>\n",
       "      <th>V21</th>\n",
       "      <th>V22</th>\n",
       "      <th>V23</th>\n",
       "      <th>V24</th>\n",
       "      <th>V25</th>\n",
       "      <th>V26</th>\n",
       "      <th>V27</th>\n",
       "      <th>V28</th>\n",
       "      <th>Amount</th>\n",
       "      <th>Class</th>\n",
       "    </tr>\n",
       "  </thead>\n",
       "  <tbody>\n",
       "    <tr>\n",
       "      <th>count</th>\n",
       "      <td>492.000000</td>\n",
       "      <td>492.000000</td>\n",
       "      <td>492.000000</td>\n",
       "      <td>492.000000</td>\n",
       "      <td>492.000000</td>\n",
       "      <td>492.000000</td>\n",
       "      <td>492.000000</td>\n",
       "      <td>492.000000</td>\n",
       "      <td>492.000000</td>\n",
       "      <td>492.000000</td>\n",
       "      <td>...</td>\n",
       "      <td>492.000000</td>\n",
       "      <td>492.000000</td>\n",
       "      <td>492.000000</td>\n",
       "      <td>492.000000</td>\n",
       "      <td>492.000000</td>\n",
       "      <td>492.000000</td>\n",
       "      <td>492.000000</td>\n",
       "      <td>492.000000</td>\n",
       "      <td>492.000000</td>\n",
       "      <td>492.0</td>\n",
       "    </tr>\n",
       "    <tr>\n",
       "      <th>mean</th>\n",
       "      <td>0.066468</td>\n",
       "      <td>0.038236</td>\n",
       "      <td>-0.022082</td>\n",
       "      <td>0.053921</td>\n",
       "      <td>-0.021432</td>\n",
       "      <td>0.035055</td>\n",
       "      <td>0.060816</td>\n",
       "      <td>0.043429</td>\n",
       "      <td>-0.075706</td>\n",
       "      <td>0.032571</td>\n",
       "      <td>...</td>\n",
       "      <td>-0.038095</td>\n",
       "      <td>0.014805</td>\n",
       "      <td>0.038078</td>\n",
       "      <td>0.014278</td>\n",
       "      <td>-0.049463</td>\n",
       "      <td>0.000052</td>\n",
       "      <td>-0.004949</td>\n",
       "      <td>-0.007456</td>\n",
       "      <td>91.587541</td>\n",
       "      <td>0.0</td>\n",
       "    </tr>\n",
       "    <tr>\n",
       "      <th>std</th>\n",
       "      <td>1.868959</td>\n",
       "      <td>1.436530</td>\n",
       "      <td>1.438285</td>\n",
       "      <td>1.477809</td>\n",
       "      <td>1.331321</td>\n",
       "      <td>1.351013</td>\n",
       "      <td>1.232202</td>\n",
       "      <td>0.949568</td>\n",
       "      <td>1.022207</td>\n",
       "      <td>0.946671</td>\n",
       "      <td>...</td>\n",
       "      <td>0.528852</td>\n",
       "      <td>0.699642</td>\n",
       "      <td>0.545319</td>\n",
       "      <td>0.615000</td>\n",
       "      <td>0.506486</td>\n",
       "      <td>0.466525</td>\n",
       "      <td>0.266854</td>\n",
       "      <td>0.222178</td>\n",
       "      <td>237.160694</td>\n",
       "      <td>0.0</td>\n",
       "    </tr>\n",
       "    <tr>\n",
       "      <th>min</th>\n",
       "      <td>-15.644051</td>\n",
       "      <td>-10.747944</td>\n",
       "      <td>-9.265011</td>\n",
       "      <td>-3.821462</td>\n",
       "      <td>-11.114495</td>\n",
       "      <td>-7.387648</td>\n",
       "      <td>-8.944899</td>\n",
       "      <td>-12.314133</td>\n",
       "      <td>-3.054776</td>\n",
       "      <td>-3.499423</td>\n",
       "      <td>...</td>\n",
       "      <td>-7.220393</td>\n",
       "      <td>-1.868222</td>\n",
       "      <td>-2.551480</td>\n",
       "      <td>-1.869713</td>\n",
       "      <td>-2.393717</td>\n",
       "      <td>-1.372224</td>\n",
       "      <td>-1.915945</td>\n",
       "      <td>-2.631248</td>\n",
       "      <td>0.000000</td>\n",
       "      <td>0.0</td>\n",
       "    </tr>\n",
       "    <tr>\n",
       "      <th>25%</th>\n",
       "      <td>-0.825668</td>\n",
       "      <td>-0.544282</td>\n",
       "      <td>-0.949897</td>\n",
       "      <td>-0.777083</td>\n",
       "      <td>-0.677609</td>\n",
       "      <td>-0.738383</td>\n",
       "      <td>-0.571816</td>\n",
       "      <td>-0.207214</td>\n",
       "      <td>-0.680610</td>\n",
       "      <td>-0.497418</td>\n",
       "      <td>...</td>\n",
       "      <td>-0.240549</td>\n",
       "      <td>-0.552850</td>\n",
       "      <td>-0.129709</td>\n",
       "      <td>-0.344533</td>\n",
       "      <td>-0.373487</td>\n",
       "      <td>-0.310689</td>\n",
       "      <td>-0.074055</td>\n",
       "      <td>-0.056118</td>\n",
       "      <td>6.980000</td>\n",
       "      <td>0.0</td>\n",
       "    </tr>\n",
       "    <tr>\n",
       "      <th>50%</th>\n",
       "      <td>0.010654</td>\n",
       "      <td>0.111210</td>\n",
       "      <td>0.127995</td>\n",
       "      <td>-0.025466</td>\n",
       "      <td>0.010136</td>\n",
       "      <td>-0.210826</td>\n",
       "      <td>0.096193</td>\n",
       "      <td>0.003963</td>\n",
       "      <td>-0.076117</td>\n",
       "      <td>-0.072447</td>\n",
       "      <td>...</td>\n",
       "      <td>-0.046414</td>\n",
       "      <td>0.030319</td>\n",
       "      <td>0.007246</td>\n",
       "      <td>0.040506</td>\n",
       "      <td>-0.059772</td>\n",
       "      <td>-0.028317</td>\n",
       "      <td>-0.001000</td>\n",
       "      <td>0.004030</td>\n",
       "      <td>22.700000</td>\n",
       "      <td>0.0</td>\n",
       "    </tr>\n",
       "    <tr>\n",
       "      <th>75%</th>\n",
       "      <td>1.453116</td>\n",
       "      <td>0.841320</td>\n",
       "      <td>1.009531</td>\n",
       "      <td>0.839120</td>\n",
       "      <td>0.638617</td>\n",
       "      <td>0.464181</td>\n",
       "      <td>0.678866</td>\n",
       "      <td>0.314833</td>\n",
       "      <td>0.515923</td>\n",
       "      <td>0.508790</td>\n",
       "      <td>...</td>\n",
       "      <td>0.181169</td>\n",
       "      <td>0.548105</td>\n",
       "      <td>0.165026</td>\n",
       "      <td>0.480520</td>\n",
       "      <td>0.318416</td>\n",
       "      <td>0.233222</td>\n",
       "      <td>0.089424</td>\n",
       "      <td>0.072219</td>\n",
       "      <td>65.910000</td>\n",
       "      <td>0.0</td>\n",
       "    </tr>\n",
       "    <tr>\n",
       "      <th>max</th>\n",
       "      <td>2.315952</td>\n",
       "      <td>6.675916</td>\n",
       "      <td>2.939092</td>\n",
       "      <td>4.845073</td>\n",
       "      <td>8.631849</td>\n",
       "      <td>8.485631</td>\n",
       "      <td>10.400818</td>\n",
       "      <td>8.275519</td>\n",
       "      <td>3.444874</td>\n",
       "      <td>6.151610</td>\n",
       "      <td>...</td>\n",
       "      <td>3.154624</td>\n",
       "      <td>2.613104</td>\n",
       "      <td>6.320035</td>\n",
       "      <td>3.403795</td>\n",
       "      <td>2.116181</td>\n",
       "      <td>1.282597</td>\n",
       "      <td>1.336561</td>\n",
       "      <td>0.770326</td>\n",
       "      <td>2699.220000</td>\n",
       "      <td>0.0</td>\n",
       "    </tr>\n",
       "  </tbody>\n",
       "</table>\n",
       "<p>8 rows × 30 columns</p>\n",
       "</div>"
      ],
      "text/plain": [
       "               V1          V2          V3          V4          V5          V6  \\\n",
       "count  492.000000  492.000000  492.000000  492.000000  492.000000  492.000000   \n",
       "mean     0.066468    0.038236   -0.022082    0.053921   -0.021432    0.035055   \n",
       "std      1.868959    1.436530    1.438285    1.477809    1.331321    1.351013   \n",
       "min    -15.644051  -10.747944   -9.265011   -3.821462  -11.114495   -7.387648   \n",
       "25%     -0.825668   -0.544282   -0.949897   -0.777083   -0.677609   -0.738383   \n",
       "50%      0.010654    0.111210    0.127995   -0.025466    0.010136   -0.210826   \n",
       "75%      1.453116    0.841320    1.009531    0.839120    0.638617    0.464181   \n",
       "max      2.315952    6.675916    2.939092    4.845073    8.631849    8.485631   \n",
       "\n",
       "               V7          V8          V9         V10  ...         V21  \\\n",
       "count  492.000000  492.000000  492.000000  492.000000  ...  492.000000   \n",
       "mean     0.060816    0.043429   -0.075706    0.032571  ...   -0.038095   \n",
       "std      1.232202    0.949568    1.022207    0.946671  ...    0.528852   \n",
       "min     -8.944899  -12.314133   -3.054776   -3.499423  ...   -7.220393   \n",
       "25%     -0.571816   -0.207214   -0.680610   -0.497418  ...   -0.240549   \n",
       "50%      0.096193    0.003963   -0.076117   -0.072447  ...   -0.046414   \n",
       "75%      0.678866    0.314833    0.515923    0.508790  ...    0.181169   \n",
       "max     10.400818    8.275519    3.444874    6.151610  ...    3.154624   \n",
       "\n",
       "              V22         V23         V24         V25         V26         V27  \\\n",
       "count  492.000000  492.000000  492.000000  492.000000  492.000000  492.000000   \n",
       "mean     0.014805    0.038078    0.014278   -0.049463    0.000052   -0.004949   \n",
       "std      0.699642    0.545319    0.615000    0.506486    0.466525    0.266854   \n",
       "min     -1.868222   -2.551480   -1.869713   -2.393717   -1.372224   -1.915945   \n",
       "25%     -0.552850   -0.129709   -0.344533   -0.373487   -0.310689   -0.074055   \n",
       "50%      0.030319    0.007246    0.040506   -0.059772   -0.028317   -0.001000   \n",
       "75%      0.548105    0.165026    0.480520    0.318416    0.233222    0.089424   \n",
       "max      2.613104    6.320035    3.403795    2.116181    1.282597    1.336561   \n",
       "\n",
       "              V28       Amount  Class  \n",
       "count  492.000000   492.000000  492.0  \n",
       "mean    -0.007456    91.587541    0.0  \n",
       "std      0.222178   237.160694    0.0  \n",
       "min     -2.631248     0.000000    0.0  \n",
       "25%     -0.056118     6.980000    0.0  \n",
       "50%      0.004030    22.700000    0.0  \n",
       "75%      0.072219    65.910000    0.0  \n",
       "max      0.770326  2699.220000    0.0  \n",
       "\n",
       "[8 rows x 30 columns]"
      ]
     },
     "execution_count": 63,
     "metadata": {},
     "output_type": "execute_result"
    }
   ],
   "source": [
    "legit_sample=legit.sample(n=492)\n",
    "legit_sample.describe()"
   ]
  },
  {
   "cell_type": "code",
   "execution_count": 64,
   "id": "83861829",
   "metadata": {},
   "outputs": [],
   "source": [
    "# Concatenating new data frame\n",
    "under_samp_df=pd.concat([legit_sample,fraud],axis=0)"
   ]
  },
  {
   "cell_type": "code",
   "execution_count": 65,
   "id": "bf8c31ea",
   "metadata": {},
   "outputs": [
    {
     "data": {
      "text/plain": [
       "0    492\n",
       "1    492\n",
       "Name: Class, dtype: int64"
      ]
     },
     "execution_count": 65,
     "metadata": {},
     "output_type": "execute_result"
    }
   ],
   "source": [
    "under_samp_df[\"Class\"].value_counts()"
   ]
  },
  {
   "cell_type": "code",
   "execution_count": 66,
   "id": "9cbf81f8",
   "metadata": {},
   "outputs": [
    {
     "data": {
      "text/html": [
       "<div>\n",
       "<style scoped>\n",
       "    .dataframe tbody tr th:only-of-type {\n",
       "        vertical-align: middle;\n",
       "    }\n",
       "\n",
       "    .dataframe tbody tr th {\n",
       "        vertical-align: top;\n",
       "    }\n",
       "\n",
       "    .dataframe thead th {\n",
       "        text-align: right;\n",
       "    }\n",
       "</style>\n",
       "<table border=\"1\" class=\"dataframe\">\n",
       "  <thead>\n",
       "    <tr style=\"text-align: right;\">\n",
       "      <th></th>\n",
       "      <th>V1</th>\n",
       "      <th>V2</th>\n",
       "      <th>V3</th>\n",
       "      <th>V4</th>\n",
       "      <th>V5</th>\n",
       "      <th>V6</th>\n",
       "      <th>V7</th>\n",
       "      <th>V8</th>\n",
       "      <th>V9</th>\n",
       "      <th>V10</th>\n",
       "      <th>...</th>\n",
       "      <th>V21</th>\n",
       "      <th>V22</th>\n",
       "      <th>V23</th>\n",
       "      <th>V24</th>\n",
       "      <th>V25</th>\n",
       "      <th>V26</th>\n",
       "      <th>V27</th>\n",
       "      <th>V28</th>\n",
       "      <th>Amount</th>\n",
       "      <th>Class</th>\n",
       "    </tr>\n",
       "  </thead>\n",
       "  <tbody>\n",
       "    <tr>\n",
       "      <th>166466</th>\n",
       "      <td>-2.157625</td>\n",
       "      <td>2.617920</td>\n",
       "      <td>-1.556966</td>\n",
       "      <td>-0.950965</td>\n",
       "      <td>-0.030024</td>\n",
       "      <td>-0.830610</td>\n",
       "      <td>0.353725</td>\n",
       "      <td>0.568763</td>\n",
       "      <td>0.958433</td>\n",
       "      <td>1.909678</td>\n",
       "      <td>...</td>\n",
       "      <td>0.249371</td>\n",
       "      <td>1.262852</td>\n",
       "      <td>-0.008942</td>\n",
       "      <td>-0.413622</td>\n",
       "      <td>-0.416540</td>\n",
       "      <td>-0.216888</td>\n",
       "      <td>0.693573</td>\n",
       "      <td>0.378420</td>\n",
       "      <td>1.79</td>\n",
       "      <td>0</td>\n",
       "    </tr>\n",
       "    <tr>\n",
       "      <th>272489</th>\n",
       "      <td>-1.798196</td>\n",
       "      <td>1.606093</td>\n",
       "      <td>-0.668070</td>\n",
       "      <td>-3.777429</td>\n",
       "      <td>-0.201984</td>\n",
       "      <td>-1.178032</td>\n",
       "      <td>-0.464758</td>\n",
       "      <td>-2.107442</td>\n",
       "      <td>0.439609</td>\n",
       "      <td>-3.309294</td>\n",
       "      <td>...</td>\n",
       "      <td>-1.281229</td>\n",
       "      <td>0.088646</td>\n",
       "      <td>0.169206</td>\n",
       "      <td>1.051386</td>\n",
       "      <td>0.219354</td>\n",
       "      <td>-1.372224</td>\n",
       "      <td>-0.298783</td>\n",
       "      <td>0.035034</td>\n",
       "      <td>7.07</td>\n",
       "      <td>0</td>\n",
       "    </tr>\n",
       "    <tr>\n",
       "      <th>170913</th>\n",
       "      <td>-0.737858</td>\n",
       "      <td>0.876933</td>\n",
       "      <td>0.766300</td>\n",
       "      <td>-0.774923</td>\n",
       "      <td>0.656469</td>\n",
       "      <td>-0.751664</td>\n",
       "      <td>1.621983</td>\n",
       "      <td>-0.193788</td>\n",
       "      <td>-0.982038</td>\n",
       "      <td>-0.776765</td>\n",
       "      <td>...</td>\n",
       "      <td>0.049809</td>\n",
       "      <td>0.070519</td>\n",
       "      <td>-0.441813</td>\n",
       "      <td>0.124111</td>\n",
       "      <td>0.942914</td>\n",
       "      <td>0.657153</td>\n",
       "      <td>-0.097099</td>\n",
       "      <td>0.017280</td>\n",
       "      <td>59.95</td>\n",
       "      <td>0</td>\n",
       "    </tr>\n",
       "    <tr>\n",
       "      <th>222007</th>\n",
       "      <td>1.941235</td>\n",
       "      <td>0.445247</td>\n",
       "      <td>-0.986731</td>\n",
       "      <td>3.668193</td>\n",
       "      <td>0.906886</td>\n",
       "      <td>0.736822</td>\n",
       "      <td>0.137573</td>\n",
       "      <td>-0.015434</td>\n",
       "      <td>-0.711769</td>\n",
       "      <td>1.344535</td>\n",
       "      <td>...</td>\n",
       "      <td>0.039768</td>\n",
       "      <td>0.262692</td>\n",
       "      <td>0.001224</td>\n",
       "      <td>0.048509</td>\n",
       "      <td>0.270943</td>\n",
       "      <td>0.103101</td>\n",
       "      <td>-0.030649</td>\n",
       "      <td>-0.046565</td>\n",
       "      <td>23.55</td>\n",
       "      <td>0</td>\n",
       "    </tr>\n",
       "    <tr>\n",
       "      <th>209583</th>\n",
       "      <td>-0.012995</td>\n",
       "      <td>1.372290</td>\n",
       "      <td>0.277612</td>\n",
       "      <td>2.764539</td>\n",
       "      <td>0.547028</td>\n",
       "      <td>0.551637</td>\n",
       "      <td>0.358600</td>\n",
       "      <td>0.655311</td>\n",
       "      <td>-1.763073</td>\n",
       "      <td>0.776701</td>\n",
       "      <td>...</td>\n",
       "      <td>-0.259063</td>\n",
       "      <td>-1.072953</td>\n",
       "      <td>0.612722</td>\n",
       "      <td>0.628194</td>\n",
       "      <td>-1.298138</td>\n",
       "      <td>-0.835944</td>\n",
       "      <td>-0.080143</td>\n",
       "      <td>-0.023902</td>\n",
       "      <td>33.25</td>\n",
       "      <td>0</td>\n",
       "    </tr>\n",
       "  </tbody>\n",
       "</table>\n",
       "<p>5 rows × 30 columns</p>\n",
       "</div>"
      ],
      "text/plain": [
       "              V1        V2        V3        V4        V5        V6        V7  \\\n",
       "166466 -2.157625  2.617920 -1.556966 -0.950965 -0.030024 -0.830610  0.353725   \n",
       "272489 -1.798196  1.606093 -0.668070 -3.777429 -0.201984 -1.178032 -0.464758   \n",
       "170913 -0.737858  0.876933  0.766300 -0.774923  0.656469 -0.751664  1.621983   \n",
       "222007  1.941235  0.445247 -0.986731  3.668193  0.906886  0.736822  0.137573   \n",
       "209583 -0.012995  1.372290  0.277612  2.764539  0.547028  0.551637  0.358600   \n",
       "\n",
       "              V8        V9       V10  ...       V21       V22       V23  \\\n",
       "166466  0.568763  0.958433  1.909678  ...  0.249371  1.262852 -0.008942   \n",
       "272489 -2.107442  0.439609 -3.309294  ... -1.281229  0.088646  0.169206   \n",
       "170913 -0.193788 -0.982038 -0.776765  ...  0.049809  0.070519 -0.441813   \n",
       "222007 -0.015434 -0.711769  1.344535  ...  0.039768  0.262692  0.001224   \n",
       "209583  0.655311 -1.763073  0.776701  ... -0.259063 -1.072953  0.612722   \n",
       "\n",
       "             V24       V25       V26       V27       V28  Amount  Class  \n",
       "166466 -0.413622 -0.416540 -0.216888  0.693573  0.378420    1.79      0  \n",
       "272489  1.051386  0.219354 -1.372224 -0.298783  0.035034    7.07      0  \n",
       "170913  0.124111  0.942914  0.657153 -0.097099  0.017280   59.95      0  \n",
       "222007  0.048509  0.270943  0.103101 -0.030649 -0.046565   23.55      0  \n",
       "209583  0.628194 -1.298138 -0.835944 -0.080143 -0.023902   33.25      0  \n",
       "\n",
       "[5 rows x 30 columns]"
      ]
     },
     "execution_count": 66,
     "metadata": {},
     "output_type": "execute_result"
    }
   ],
   "source": [
    "# To check top dataframe values\n",
    "under_samp_df.head()"
   ]
  },
  {
   "cell_type": "code",
   "execution_count": 67,
   "id": "b1c375b3",
   "metadata": {},
   "outputs": [
    {
     "data": {
      "text/html": [
       "<div>\n",
       "<style scoped>\n",
       "    .dataframe tbody tr th:only-of-type {\n",
       "        vertical-align: middle;\n",
       "    }\n",
       "\n",
       "    .dataframe tbody tr th {\n",
       "        vertical-align: top;\n",
       "    }\n",
       "\n",
       "    .dataframe thead th {\n",
       "        text-align: right;\n",
       "    }\n",
       "</style>\n",
       "<table border=\"1\" class=\"dataframe\">\n",
       "  <thead>\n",
       "    <tr style=\"text-align: right;\">\n",
       "      <th></th>\n",
       "      <th>V1</th>\n",
       "      <th>V2</th>\n",
       "      <th>V3</th>\n",
       "      <th>V4</th>\n",
       "      <th>V5</th>\n",
       "      <th>V6</th>\n",
       "      <th>V7</th>\n",
       "      <th>V8</th>\n",
       "      <th>V9</th>\n",
       "      <th>V10</th>\n",
       "      <th>...</th>\n",
       "      <th>V21</th>\n",
       "      <th>V22</th>\n",
       "      <th>V23</th>\n",
       "      <th>V24</th>\n",
       "      <th>V25</th>\n",
       "      <th>V26</th>\n",
       "      <th>V27</th>\n",
       "      <th>V28</th>\n",
       "      <th>Amount</th>\n",
       "      <th>Class</th>\n",
       "    </tr>\n",
       "  </thead>\n",
       "  <tbody>\n",
       "    <tr>\n",
       "      <th>279863</th>\n",
       "      <td>-1.927883</td>\n",
       "      <td>1.125653</td>\n",
       "      <td>-4.518331</td>\n",
       "      <td>1.749293</td>\n",
       "      <td>-1.566487</td>\n",
       "      <td>-2.010494</td>\n",
       "      <td>-0.882850</td>\n",
       "      <td>0.697211</td>\n",
       "      <td>-2.064945</td>\n",
       "      <td>-5.587794</td>\n",
       "      <td>...</td>\n",
       "      <td>0.778584</td>\n",
       "      <td>-0.319189</td>\n",
       "      <td>0.639419</td>\n",
       "      <td>-0.294885</td>\n",
       "      <td>0.537503</td>\n",
       "      <td>0.788395</td>\n",
       "      <td>0.292680</td>\n",
       "      <td>0.147968</td>\n",
       "      <td>390.00</td>\n",
       "      <td>1</td>\n",
       "    </tr>\n",
       "    <tr>\n",
       "      <th>280143</th>\n",
       "      <td>1.378559</td>\n",
       "      <td>1.289381</td>\n",
       "      <td>-5.004247</td>\n",
       "      <td>1.411850</td>\n",
       "      <td>0.442581</td>\n",
       "      <td>-1.326536</td>\n",
       "      <td>-1.413170</td>\n",
       "      <td>0.248525</td>\n",
       "      <td>-1.127396</td>\n",
       "      <td>-3.232153</td>\n",
       "      <td>...</td>\n",
       "      <td>0.370612</td>\n",
       "      <td>0.028234</td>\n",
       "      <td>-0.145640</td>\n",
       "      <td>-0.081049</td>\n",
       "      <td>0.521875</td>\n",
       "      <td>0.739467</td>\n",
       "      <td>0.389152</td>\n",
       "      <td>0.186637</td>\n",
       "      <td>0.76</td>\n",
       "      <td>1</td>\n",
       "    </tr>\n",
       "    <tr>\n",
       "      <th>280149</th>\n",
       "      <td>-0.676143</td>\n",
       "      <td>1.126366</td>\n",
       "      <td>-2.213700</td>\n",
       "      <td>0.468308</td>\n",
       "      <td>-1.120541</td>\n",
       "      <td>-0.003346</td>\n",
       "      <td>-2.234739</td>\n",
       "      <td>1.210158</td>\n",
       "      <td>-0.652250</td>\n",
       "      <td>-3.463891</td>\n",
       "      <td>...</td>\n",
       "      <td>0.751826</td>\n",
       "      <td>0.834108</td>\n",
       "      <td>0.190944</td>\n",
       "      <td>0.032070</td>\n",
       "      <td>-0.739695</td>\n",
       "      <td>0.471111</td>\n",
       "      <td>0.385107</td>\n",
       "      <td>0.194361</td>\n",
       "      <td>77.89</td>\n",
       "      <td>1</td>\n",
       "    </tr>\n",
       "    <tr>\n",
       "      <th>281144</th>\n",
       "      <td>-3.113832</td>\n",
       "      <td>0.585864</td>\n",
       "      <td>-5.399730</td>\n",
       "      <td>1.817092</td>\n",
       "      <td>-0.840618</td>\n",
       "      <td>-2.943548</td>\n",
       "      <td>-2.208002</td>\n",
       "      <td>1.058733</td>\n",
       "      <td>-1.632333</td>\n",
       "      <td>-5.245984</td>\n",
       "      <td>...</td>\n",
       "      <td>0.583276</td>\n",
       "      <td>-0.269209</td>\n",
       "      <td>-0.456108</td>\n",
       "      <td>-0.183659</td>\n",
       "      <td>-0.328168</td>\n",
       "      <td>0.606116</td>\n",
       "      <td>0.884876</td>\n",
       "      <td>-0.253700</td>\n",
       "      <td>245.00</td>\n",
       "      <td>1</td>\n",
       "    </tr>\n",
       "    <tr>\n",
       "      <th>281674</th>\n",
       "      <td>1.991976</td>\n",
       "      <td>0.158476</td>\n",
       "      <td>-2.583441</td>\n",
       "      <td>0.408670</td>\n",
       "      <td>1.151147</td>\n",
       "      <td>-0.096695</td>\n",
       "      <td>0.223050</td>\n",
       "      <td>-0.068384</td>\n",
       "      <td>0.577829</td>\n",
       "      <td>-0.888722</td>\n",
       "      <td>...</td>\n",
       "      <td>-0.164350</td>\n",
       "      <td>-0.295135</td>\n",
       "      <td>-0.072173</td>\n",
       "      <td>-0.450261</td>\n",
       "      <td>0.313267</td>\n",
       "      <td>-0.289617</td>\n",
       "      <td>0.002988</td>\n",
       "      <td>-0.015309</td>\n",
       "      <td>42.53</td>\n",
       "      <td>1</td>\n",
       "    </tr>\n",
       "  </tbody>\n",
       "</table>\n",
       "<p>5 rows × 30 columns</p>\n",
       "</div>"
      ],
      "text/plain": [
       "              V1        V2        V3        V4        V5        V6        V7  \\\n",
       "279863 -1.927883  1.125653 -4.518331  1.749293 -1.566487 -2.010494 -0.882850   \n",
       "280143  1.378559  1.289381 -5.004247  1.411850  0.442581 -1.326536 -1.413170   \n",
       "280149 -0.676143  1.126366 -2.213700  0.468308 -1.120541 -0.003346 -2.234739   \n",
       "281144 -3.113832  0.585864 -5.399730  1.817092 -0.840618 -2.943548 -2.208002   \n",
       "281674  1.991976  0.158476 -2.583441  0.408670  1.151147 -0.096695  0.223050   \n",
       "\n",
       "              V8        V9       V10  ...       V21       V22       V23  \\\n",
       "279863  0.697211 -2.064945 -5.587794  ...  0.778584 -0.319189  0.639419   \n",
       "280143  0.248525 -1.127396 -3.232153  ...  0.370612  0.028234 -0.145640   \n",
       "280149  1.210158 -0.652250 -3.463891  ...  0.751826  0.834108  0.190944   \n",
       "281144  1.058733 -1.632333 -5.245984  ...  0.583276 -0.269209 -0.456108   \n",
       "281674 -0.068384  0.577829 -0.888722  ... -0.164350 -0.295135 -0.072173   \n",
       "\n",
       "             V24       V25       V26       V27       V28  Amount  Class  \n",
       "279863 -0.294885  0.537503  0.788395  0.292680  0.147968  390.00      1  \n",
       "280143 -0.081049  0.521875  0.739467  0.389152  0.186637    0.76      1  \n",
       "280149  0.032070 -0.739695  0.471111  0.385107  0.194361   77.89      1  \n",
       "281144 -0.183659 -0.328168  0.606116  0.884876 -0.253700  245.00      1  \n",
       "281674 -0.450261  0.313267 -0.289617  0.002988 -0.015309   42.53      1  \n",
       "\n",
       "[5 rows x 30 columns]"
      ]
     },
     "execution_count": 67,
     "metadata": {},
     "output_type": "execute_result"
    }
   ],
   "source": [
    "under_samp_df.tail()"
   ]
  },
  {
   "cell_type": "code",
   "execution_count": 68,
   "id": "4b485f1d",
   "metadata": {},
   "outputs": [
    {
     "data": {
      "text/html": [
       "<div>\n",
       "<style scoped>\n",
       "    .dataframe tbody tr th:only-of-type {\n",
       "        vertical-align: middle;\n",
       "    }\n",
       "\n",
       "    .dataframe tbody tr th {\n",
       "        vertical-align: top;\n",
       "    }\n",
       "\n",
       "    .dataframe thead th {\n",
       "        text-align: right;\n",
       "    }\n",
       "</style>\n",
       "<table border=\"1\" class=\"dataframe\">\n",
       "  <thead>\n",
       "    <tr style=\"text-align: right;\">\n",
       "      <th></th>\n",
       "      <th>V1</th>\n",
       "      <th>V2</th>\n",
       "      <th>V3</th>\n",
       "      <th>V4</th>\n",
       "      <th>V5</th>\n",
       "      <th>V6</th>\n",
       "      <th>V7</th>\n",
       "      <th>V8</th>\n",
       "      <th>V9</th>\n",
       "      <th>V10</th>\n",
       "      <th>...</th>\n",
       "      <th>V20</th>\n",
       "      <th>V21</th>\n",
       "      <th>V22</th>\n",
       "      <th>V23</th>\n",
       "      <th>V24</th>\n",
       "      <th>V25</th>\n",
       "      <th>V26</th>\n",
       "      <th>V27</th>\n",
       "      <th>V28</th>\n",
       "      <th>Amount</th>\n",
       "    </tr>\n",
       "    <tr>\n",
       "      <th>Class</th>\n",
       "      <th></th>\n",
       "      <th></th>\n",
       "      <th></th>\n",
       "      <th></th>\n",
       "      <th></th>\n",
       "      <th></th>\n",
       "      <th></th>\n",
       "      <th></th>\n",
       "      <th></th>\n",
       "      <th></th>\n",
       "      <th></th>\n",
       "      <th></th>\n",
       "      <th></th>\n",
       "      <th></th>\n",
       "      <th></th>\n",
       "      <th></th>\n",
       "      <th></th>\n",
       "      <th></th>\n",
       "      <th></th>\n",
       "      <th></th>\n",
       "      <th></th>\n",
       "    </tr>\n",
       "  </thead>\n",
       "  <tbody>\n",
       "    <tr>\n",
       "      <th>0</th>\n",
       "      <td>0.008258</td>\n",
       "      <td>-0.006271</td>\n",
       "      <td>0.012171</td>\n",
       "      <td>-0.007860</td>\n",
       "      <td>0.005453</td>\n",
       "      <td>0.002419</td>\n",
       "      <td>0.009637</td>\n",
       "      <td>-0.000987</td>\n",
       "      <td>0.004467</td>\n",
       "      <td>0.009824</td>\n",
       "      <td>...</td>\n",
       "      <td>-0.000644</td>\n",
       "      <td>-0.001235</td>\n",
       "      <td>-0.000024</td>\n",
       "      <td>0.000070</td>\n",
       "      <td>0.000182</td>\n",
       "      <td>-0.000072</td>\n",
       "      <td>-0.000089</td>\n",
       "      <td>-0.000295</td>\n",
       "      <td>-0.000131</td>\n",
       "      <td>88.291022</td>\n",
       "    </tr>\n",
       "    <tr>\n",
       "      <th>1</th>\n",
       "      <td>-4.771948</td>\n",
       "      <td>3.623778</td>\n",
       "      <td>-7.033281</td>\n",
       "      <td>4.542029</td>\n",
       "      <td>-3.151225</td>\n",
       "      <td>-1.397737</td>\n",
       "      <td>-5.568731</td>\n",
       "      <td>0.570636</td>\n",
       "      <td>-2.581123</td>\n",
       "      <td>-5.676883</td>\n",
       "      <td>...</td>\n",
       "      <td>0.372319</td>\n",
       "      <td>0.713588</td>\n",
       "      <td>0.014049</td>\n",
       "      <td>-0.040308</td>\n",
       "      <td>-0.105130</td>\n",
       "      <td>0.041449</td>\n",
       "      <td>0.051648</td>\n",
       "      <td>0.170575</td>\n",
       "      <td>0.075667</td>\n",
       "      <td>122.211321</td>\n",
       "    </tr>\n",
       "  </tbody>\n",
       "</table>\n",
       "<p>2 rows × 29 columns</p>\n",
       "</div>"
      ],
      "text/plain": [
       "             V1        V2        V3        V4        V5        V6        V7  \\\n",
       "Class                                                                         \n",
       "0      0.008258 -0.006271  0.012171 -0.007860  0.005453  0.002419  0.009637   \n",
       "1     -4.771948  3.623778 -7.033281  4.542029 -3.151225 -1.397737 -5.568731   \n",
       "\n",
       "             V8        V9       V10  ...       V20       V21       V22  \\\n",
       "Class                                ...                                 \n",
       "0     -0.000987  0.004467  0.009824  ... -0.000644 -0.001235 -0.000024   \n",
       "1      0.570636 -2.581123 -5.676883  ...  0.372319  0.713588  0.014049   \n",
       "\n",
       "            V23       V24       V25       V26       V27       V28      Amount  \n",
       "Class                                                                          \n",
       "0      0.000070  0.000182 -0.000072 -0.000089 -0.000295 -0.000131   88.291022  \n",
       "1     -0.040308 -0.105130  0.041449  0.051648  0.170575  0.075667  122.211321  \n",
       "\n",
       "[2 rows x 29 columns]"
      ]
     },
     "execution_count": 68,
     "metadata": {},
     "output_type": "execute_result"
    }
   ],
   "source": [
    "# Calculating mean of all column for ligit and fraud transactions\n",
    "df.groupby(\"Class\").mean()"
   ]
  },
  {
   "cell_type": "code",
   "execution_count": 69,
   "id": "05c7192a",
   "metadata": {},
   "outputs": [
    {
     "data": {
      "text/html": [
       "<div>\n",
       "<style scoped>\n",
       "    .dataframe tbody tr th:only-of-type {\n",
       "        vertical-align: middle;\n",
       "    }\n",
       "\n",
       "    .dataframe tbody tr th {\n",
       "        vertical-align: top;\n",
       "    }\n",
       "\n",
       "    .dataframe thead th {\n",
       "        text-align: right;\n",
       "    }\n",
       "</style>\n",
       "<table border=\"1\" class=\"dataframe\">\n",
       "  <thead>\n",
       "    <tr style=\"text-align: right;\">\n",
       "      <th></th>\n",
       "      <th>V1</th>\n",
       "      <th>V2</th>\n",
       "      <th>V3</th>\n",
       "      <th>V4</th>\n",
       "      <th>V5</th>\n",
       "      <th>V6</th>\n",
       "      <th>V7</th>\n",
       "      <th>V8</th>\n",
       "      <th>V9</th>\n",
       "      <th>V10</th>\n",
       "      <th>...</th>\n",
       "      <th>V20</th>\n",
       "      <th>V21</th>\n",
       "      <th>V22</th>\n",
       "      <th>V23</th>\n",
       "      <th>V24</th>\n",
       "      <th>V25</th>\n",
       "      <th>V26</th>\n",
       "      <th>V27</th>\n",
       "      <th>V28</th>\n",
       "      <th>Amount</th>\n",
       "    </tr>\n",
       "    <tr>\n",
       "      <th>Class</th>\n",
       "      <th></th>\n",
       "      <th></th>\n",
       "      <th></th>\n",
       "      <th></th>\n",
       "      <th></th>\n",
       "      <th></th>\n",
       "      <th></th>\n",
       "      <th></th>\n",
       "      <th></th>\n",
       "      <th></th>\n",
       "      <th></th>\n",
       "      <th></th>\n",
       "      <th></th>\n",
       "      <th></th>\n",
       "      <th></th>\n",
       "      <th></th>\n",
       "      <th></th>\n",
       "      <th></th>\n",
       "      <th></th>\n",
       "      <th></th>\n",
       "      <th></th>\n",
       "    </tr>\n",
       "  </thead>\n",
       "  <tbody>\n",
       "    <tr>\n",
       "      <th>0</th>\n",
       "      <td>0.066468</td>\n",
       "      <td>0.038236</td>\n",
       "      <td>-0.022082</td>\n",
       "      <td>0.053921</td>\n",
       "      <td>-0.021432</td>\n",
       "      <td>0.035055</td>\n",
       "      <td>0.060816</td>\n",
       "      <td>0.043429</td>\n",
       "      <td>-0.075706</td>\n",
       "      <td>0.032571</td>\n",
       "      <td>...</td>\n",
       "      <td>0.014626</td>\n",
       "      <td>-0.038095</td>\n",
       "      <td>0.014805</td>\n",
       "      <td>0.038078</td>\n",
       "      <td>0.014278</td>\n",
       "      <td>-0.049463</td>\n",
       "      <td>0.000052</td>\n",
       "      <td>-0.004949</td>\n",
       "      <td>-0.007456</td>\n",
       "      <td>91.587541</td>\n",
       "    </tr>\n",
       "    <tr>\n",
       "      <th>1</th>\n",
       "      <td>-4.771948</td>\n",
       "      <td>3.623778</td>\n",
       "      <td>-7.033281</td>\n",
       "      <td>4.542029</td>\n",
       "      <td>-3.151225</td>\n",
       "      <td>-1.397737</td>\n",
       "      <td>-5.568731</td>\n",
       "      <td>0.570636</td>\n",
       "      <td>-2.581123</td>\n",
       "      <td>-5.676883</td>\n",
       "      <td>...</td>\n",
       "      <td>0.372319</td>\n",
       "      <td>0.713588</td>\n",
       "      <td>0.014049</td>\n",
       "      <td>-0.040308</td>\n",
       "      <td>-0.105130</td>\n",
       "      <td>0.041449</td>\n",
       "      <td>0.051648</td>\n",
       "      <td>0.170575</td>\n",
       "      <td>0.075667</td>\n",
       "      <td>122.211321</td>\n",
       "    </tr>\n",
       "  </tbody>\n",
       "</table>\n",
       "<p>2 rows × 29 columns</p>\n",
       "</div>"
      ],
      "text/plain": [
       "             V1        V2        V3        V4        V5        V6        V7  \\\n",
       "Class                                                                         \n",
       "0      0.066468  0.038236 -0.022082  0.053921 -0.021432  0.035055  0.060816   \n",
       "1     -4.771948  3.623778 -7.033281  4.542029 -3.151225 -1.397737 -5.568731   \n",
       "\n",
       "             V8        V9       V10  ...       V20       V21       V22  \\\n",
       "Class                                ...                                 \n",
       "0      0.043429 -0.075706  0.032571  ...  0.014626 -0.038095  0.014805   \n",
       "1      0.570636 -2.581123 -5.676883  ...  0.372319  0.713588  0.014049   \n",
       "\n",
       "            V23       V24       V25       V26       V27       V28      Amount  \n",
       "Class                                                                          \n",
       "0      0.038078  0.014278 -0.049463  0.000052 -0.004949 -0.007456   91.587541  \n",
       "1     -0.040308 -0.105130  0.041449  0.051648  0.170575  0.075667  122.211321  \n",
       "\n",
       "[2 rows x 29 columns]"
      ]
     },
     "execution_count": 69,
     "metadata": {},
     "output_type": "execute_result"
    }
   ],
   "source": [
    "under_samp_df.groupby(\"Class\").mean()\n"
   ]
  },
  {
   "cell_type": "markdown",
   "id": "5fe8eb51",
   "metadata": {},
   "source": [
    "As mean values are very similar to our above main data mean that means we got a good sample."
   ]
  },
  {
   "cell_type": "code",
   "execution_count": 70,
   "id": "6c5288f0",
   "metadata": {},
   "outputs": [
    {
     "name": "stdout",
     "output_type": "stream",
     "text": [
      "              V1        V2        V3        V4        V5        V6        V7  \\\n",
      "166466 -2.157625  2.617920 -1.556966 -0.950965 -0.030024 -0.830610  0.353725   \n",
      "272489 -1.798196  1.606093 -0.668070 -3.777429 -0.201984 -1.178032 -0.464758   \n",
      "170913 -0.737858  0.876933  0.766300 -0.774923  0.656469 -0.751664  1.621983   \n",
      "222007  1.941235  0.445247 -0.986731  3.668193  0.906886  0.736822  0.137573   \n",
      "209583 -0.012995  1.372290  0.277612  2.764539  0.547028  0.551637  0.358600   \n",
      "...          ...       ...       ...       ...       ...       ...       ...   \n",
      "279863 -1.927883  1.125653 -4.518331  1.749293 -1.566487 -2.010494 -0.882850   \n",
      "280143  1.378559  1.289381 -5.004247  1.411850  0.442581 -1.326536 -1.413170   \n",
      "280149 -0.676143  1.126366 -2.213700  0.468308 -1.120541 -0.003346 -2.234739   \n",
      "281144 -3.113832  0.585864 -5.399730  1.817092 -0.840618 -2.943548 -2.208002   \n",
      "281674  1.991976  0.158476 -2.583441  0.408670  1.151147 -0.096695  0.223050   \n",
      "\n",
      "              V8        V9       V10  ...       V20       V21       V22  \\\n",
      "166466  0.568763  0.958433  1.909678  ...  0.736935  0.249371  1.262852   \n",
      "272489 -2.107442  0.439609 -3.309294  ...  0.175775 -1.281229  0.088646   \n",
      "170913 -0.193788 -0.982038 -0.776765  ...  0.004790  0.049809  0.070519   \n",
      "222007 -0.015434 -0.711769  1.344535  ... -0.172824  0.039768  0.262692   \n",
      "209583  0.655311 -1.763073  0.776701  ... -0.298446 -0.259063 -1.072953   \n",
      "...          ...       ...       ...  ...       ...       ...       ...   \n",
      "279863  0.697211 -2.064945 -5.587794  ...  1.252967  0.778584 -0.319189   \n",
      "280143  0.248525 -1.127396 -3.232153  ...  0.226138  0.370612  0.028234   \n",
      "280149  1.210158 -0.652250 -3.463891  ...  0.247968  0.751826  0.834108   \n",
      "281144  1.058733 -1.632333 -5.245984  ...  0.306271  0.583276 -0.269209   \n",
      "281674 -0.068384  0.577829 -0.888722  ... -0.017652 -0.164350 -0.295135   \n",
      "\n",
      "             V23       V24       V25       V26       V27       V28  Amount  \n",
      "166466 -0.008942 -0.413622 -0.416540 -0.216888  0.693573  0.378420    1.79  \n",
      "272489  0.169206  1.051386  0.219354 -1.372224 -0.298783  0.035034    7.07  \n",
      "170913 -0.441813  0.124111  0.942914  0.657153 -0.097099  0.017280   59.95  \n",
      "222007  0.001224  0.048509  0.270943  0.103101 -0.030649 -0.046565   23.55  \n",
      "209583  0.612722  0.628194 -1.298138 -0.835944 -0.080143 -0.023902   33.25  \n",
      "...          ...       ...       ...       ...       ...       ...     ...  \n",
      "279863  0.639419 -0.294885  0.537503  0.788395  0.292680  0.147968  390.00  \n",
      "280143 -0.145640 -0.081049  0.521875  0.739467  0.389152  0.186637    0.76  \n",
      "280149  0.190944  0.032070 -0.739695  0.471111  0.385107  0.194361   77.89  \n",
      "281144 -0.456108 -0.183659 -0.328168  0.606116  0.884876 -0.253700  245.00  \n",
      "281674 -0.072173 -0.450261  0.313267 -0.289617  0.002988 -0.015309   42.53  \n",
      "\n",
      "[984 rows x 29 columns]\n"
     ]
    }
   ],
   "source": [
    "# Splitting the data into features and targets\n",
    "X=under_samp_df.drop([\"Class\"],axis=1)\n",
    "print(X)\n",
    "#features\n"
   ]
  },
  {
   "cell_type": "code",
   "execution_count": 71,
   "id": "f98a0956",
   "metadata": {},
   "outputs": [],
   "source": [
    "# Standardization method\n",
    "from sklearn.preprocessing import StandardScaler\n",
    "scaler=StandardScaler()\n",
    "# Fitting the 'Amount' data into scaler and transform\n",
    "X[\"Amount\"]=scaler.fit_transform(X[[\"Amount\"]])"
   ]
  },
  {
   "cell_type": "code",
   "execution_count": 72,
   "id": "6d4bfbed",
   "metadata": {},
   "outputs": [
    {
     "name": "stdout",
     "output_type": "stream",
     "text": [
      "166466    0\n",
      "272489    0\n",
      "170913    0\n",
      "222007    0\n",
      "209583    0\n",
      "         ..\n",
      "279863    1\n",
      "280143    1\n",
      "280149    1\n",
      "281144    1\n",
      "281674    1\n",
      "Name: Class, Length: 984, dtype: int64\n"
     ]
    }
   ],
   "source": [
    "Y=under_samp_df[\"Class\"]\n",
    "print(Y)"
   ]
  },
  {
   "cell_type": "code",
   "execution_count": 73,
   "id": "00d83bca",
   "metadata": {},
   "outputs": [
    {
     "name": "stdout",
     "output_type": "stream",
     "text": [
      "(984, 29) (787, 29) (197, 29)\n"
     ]
    }
   ],
   "source": [
    "# Split the data into training data and test data\n",
    "X_train_us,X_test_us,Y_train_us,Y_test_us=train_test_split(X,Y,test_size=.2,stratify=Y,random_state=2)\n",
    "print(X.shape,X_train_us.shape,X_test_us.shape)\n"
   ]
  },
  {
   "cell_type": "markdown",
   "id": "73bb63dd",
   "metadata": {},
   "source": [
    "### Logistic Regression for balanced data set"
   ]
  },
  {
   "cell_type": "markdown",
   "id": "e9515a41",
   "metadata": {},
   "source": [
    "### Prediction on the train set"
   ]
  },
  {
   "cell_type": "code",
   "execution_count": 74,
   "id": "f0f5c3b5",
   "metadata": {},
   "outputs": [],
   "source": [
    "logistic_model2= LogisticRegression()"
   ]
  },
  {
   "cell_type": "code",
   "execution_count": 75,
   "id": "1b796383",
   "metadata": {},
   "outputs": [
    {
     "data": {
      "text/plain": [
       "LogisticRegression()"
      ]
     },
     "execution_count": 75,
     "metadata": {},
     "output_type": "execute_result"
    }
   ],
   "source": [
    "logistic_model2.fit(X_train_us, Y_train_us)"
   ]
  },
  {
   "cell_type": "code",
   "execution_count": 76,
   "id": "6b2dd11d",
   "metadata": {},
   "outputs": [],
   "source": [
    "Y_train_us_pred=logistic_model2.predict(X_train_us)\n"
   ]
  },
  {
   "cell_type": "code",
   "execution_count": 77,
   "id": "7b5cd816",
   "metadata": {},
   "outputs": [
    {
     "name": "stdout",
     "output_type": "stream",
     "text": [
      "[[384   9]\n",
      " [ 28 366]]\n"
     ]
    }
   ],
   "source": [
    "# Confusion matrix\n",
    "confusion = metrics.confusion_matrix(Y_train_us, Y_train_us_pred)\n",
    "print(confusion)"
   ]
  },
  {
   "cell_type": "code",
   "execution_count": 78,
   "id": "ec02ae59",
   "metadata": {},
   "outputs": [],
   "source": [
    "TP = confusion[1,1] # True positive \n",
    "TN = confusion[0,0] # True negatives\n",
    "FP = confusion[0,1] # False positives\n",
    "FN = confusion[1,0] # False negatives"
   ]
  },
  {
   "cell_type": "code",
   "execution_count": 79,
   "id": "5cf00259",
   "metadata": {},
   "outputs": [
    {
     "name": "stdout",
     "output_type": "stream",
     "text": [
      "Accuracy:- 0.9529860228716646\n",
      "Sensitivity:- 0.9289340101522843\n",
      "Specificity:- 0.9770992366412213\n",
      "F1-Score:- 0.951885565669701\n"
     ]
    }
   ],
   "source": [
    "# Accuracy\n",
    "print(\"Accuracy:-\",metrics.accuracy_score(Y_train_us, Y_train_us_pred))\n",
    "\n",
    "# Sensitivity\n",
    "print(\"Sensitivity:-\",TP / float(TP+FN))\n",
    "\n",
    "# Specificity\n",
    "print(\"Specificity:-\", TN / float(TN+FP))\n",
    "\n",
    "# F1 score\n",
    "print(\"F1-Score:-\", f1_score(Y_train_us, Y_train_us_pred))"
   ]
  },
  {
   "cell_type": "code",
   "execution_count": 81,
   "id": "d6ed18a5",
   "metadata": {},
   "outputs": [
    {
     "name": "stdout",
     "output_type": "stream",
     "text": [
      "              precision    recall  f1-score   support\n",
      "\n",
      "           0       0.93      0.98      0.95       393\n",
      "           1       0.98      0.93      0.95       394\n",
      "\n",
      "    accuracy                           0.95       787\n",
      "   macro avg       0.95      0.95      0.95       787\n",
      "weighted avg       0.95      0.95      0.95       787\n",
      "\n"
     ]
    }
   ],
   "source": [
    "# classification_report\n",
    "print(classification_report(Y_train_us, Y_train_us_pred))"
   ]
  },
  {
   "cell_type": "code",
   "execution_count": 82,
   "id": "1f6602c7",
   "metadata": {},
   "outputs": [],
   "source": [
    "# Predicted probability\n",
    "Y_train_pred_proba = logistic_model2.predict_proba(X_train_us)[:,1]"
   ]
  },
  {
   "cell_type": "code",
   "execution_count": 83,
   "id": "0a9e6536",
   "metadata": {},
   "outputs": [
    {
     "data": {
      "text/plain": [
       "0.9888789863215406"
      ]
     },
     "execution_count": 83,
     "metadata": {},
     "output_type": "execute_result"
    }
   ],
   "source": [
    "# roc_auc\n",
    "auc = metrics.roc_auc_score(Y_train_us, Y_train_pred_proba)\n",
    "auc"
   ]
  },
  {
   "cell_type": "code",
   "execution_count": 84,
   "id": "286ab636",
   "metadata": {},
   "outputs": [
    {
     "data": {
      "image/png": "[encoded data removed]",
      "text/plain": [
       "<Figure size 360x360 with 1 Axes>"
      ]
     },
     "metadata": {
      "needs_background": "light"
     },
     "output_type": "display_data"
    }
   ],
   "source": [
    "# Plot the ROC curve\n",
    "draw_roc(Y_train_us, Y_train_pred_proba)"
   ]
  },
  {
   "cell_type": "markdown",
   "id": "b536a85c",
   "metadata": {},
   "source": [
    "#### Prediction on the test set"
   ]
  },
  {
   "cell_type": "code",
   "execution_count": 85,
   "id": "e268f94d",
   "metadata": {},
   "outputs": [],
   "source": [
    "# Prediction on the test set\n",
    "Y_test_us_pred = logistic_model2.predict(X_test_us)"
   ]
  },
  {
   "cell_type": "code",
   "execution_count": 86,
   "id": "98354442",
   "metadata": {},
   "outputs": [
    {
     "name": "stdout",
     "output_type": "stream",
     "text": [
      "[[94  5]\n",
      " [10 88]]\n"
     ]
    }
   ],
   "source": [
    "# Confusion matrix\n",
    "confusion = metrics.confusion_matrix(Y_test_us, Y_test_us_pred)\n",
    "print(confusion)"
   ]
  },
  {
   "cell_type": "code",
   "execution_count": 87,
   "id": "df9d760d",
   "metadata": {},
   "outputs": [],
   "source": [
    "TP = confusion[1,1] # True positive \n",
    "TN = confusion[0,0] # True negatives\n",
    "FP = confusion[0,1] # False positives\n",
    "FN = confusion[1,0] # False negatives"
   ]
  },
  {
   "cell_type": "code",
   "execution_count": 88,
   "id": "fef39a30",
   "metadata": {},
   "outputs": [
    {
     "name": "stdout",
     "output_type": "stream",
     "text": [
      "Accuracy:- 0.9238578680203046\n",
      "Sensitivity:- 0.8979591836734694\n",
      "Specificity:- 0.9494949494949495\n",
      "F1-Score:- 0.9214659685863874\n"
     ]
    }
   ],
   "source": [
    "# Accuracy\n",
    "print(\"Accuracy:-\",metrics.accuracy_score(Y_test_us, Y_test_us_pred))\n",
    "\n",
    "# Sensitivity\n",
    "print(\"Sensitivity:-\",TP / float(TP+FN))\n",
    "\n",
    "# Specificity\n",
    "print(\"Specificity:-\", TN / float(TN+FP))\n",
    "\n",
    "# F1 score\n",
    "print(\"F1-Score:-\", f1_score(Y_test_us, Y_test_us_pred))"
   ]
  },
  {
   "cell_type": "code",
   "execution_count": 89,
   "id": "eee72dc1",
   "metadata": {},
   "outputs": [
    {
     "name": "stdout",
     "output_type": "stream",
     "text": [
      "              precision    recall  f1-score   support\n",
      "\n",
      "           0       0.90      0.95      0.93        99\n",
      "           1       0.95      0.90      0.92        98\n",
      "\n",
      "    accuracy                           0.92       197\n",
      "   macro avg       0.93      0.92      0.92       197\n",
      "weighted avg       0.92      0.92      0.92       197\n",
      "\n"
     ]
    }
   ],
   "source": [
    "# classification_report\n",
    "print(classification_report(Y_test_us, Y_test_us_pred))"
   ]
  },
  {
   "cell_type": "code",
   "execution_count": 90,
   "id": "b68ca29d",
   "metadata": {},
   "outputs": [],
   "source": [
    "# Predicted probability\n",
    "Y_test_pred_proba = logistic_model2.predict_proba(X_test_us)[:,1]"
   ]
  },
  {
   "cell_type": "code",
   "execution_count": 91,
   "id": "1a5a333c",
   "metadata": {},
   "outputs": [
    {
     "data": {
      "text/plain": [
       "0.9743351886209028"
      ]
     },
     "execution_count": 91,
     "metadata": {},
     "output_type": "execute_result"
    }
   ],
   "source": [
    "# roc_auc\n",
    "auc = metrics.roc_auc_score(Y_test_us, Y_test_pred_proba)\n",
    "auc"
   ]
  },
  {
   "cell_type": "code",
   "execution_count": 92,
   "id": "4ea444aa",
   "metadata": {},
   "outputs": [
    {
     "data": {
      "image/png": "[encoded data removed]",
      "text/plain": [
       "<Figure size 360x360 with 1 Axes>"
      ]
     },
     "metadata": {
      "needs_background": "light"
     },
     "output_type": "display_data"
    }
   ],
   "source": [
    "# Plot the ROC curve\n",
    "draw_roc(Y_test_us, Y_test_pred_proba)"
   ]
  },
  {
   "cell_type": "markdown",
   "id": "9128d7fa",
   "metadata": {},
   "source": [
    "# Model Summary "
   ]
  },
  {
   "cell_type": "markdown",
   "id": "14a21da9",
   "metadata": {},
   "source": [
    "\n",
    "Train set\n",
    "Accuracy = 0.95 ,Sensitivity = 0.93, Specificity=0.98, F1-Score = 0.95, Roc value= 0.99\n",
    "\n",
    "\n",
    "Test set\n",
    "Accuracy = 0.92, Sensitivity = 0.89, Specificity=0.95, F1-Score = 0.92, , Roc value= 0.97\n"
   ]
  },
  {
   "cell_type": "markdown",
   "id": "e9a37899",
   "metadata": {},
   "source": [
    "## Decision_Tree for blanced data set"
   ]
  },
  {
   "cell_type": "code",
   "execution_count": 93,
   "id": "7dc2f6f6",
   "metadata": {},
   "outputs": [],
   "source": [
    "# Importing decision tree classifier\n",
    "from sklearn.tree import DecisionTreeClassifier"
   ]
  },
  {
   "cell_type": "code",
   "execution_count": 94,
   "id": "21289934",
   "metadata": {},
   "outputs": [
    {
     "data": {
      "text/plain": [
       "DecisionTreeClassifier(max_depth=5, min_samples_leaf=5, min_samples_split=10,\n",
       "                       random_state=100)"
      ]
     },
     "execution_count": 94,
     "metadata": {},
     "output_type": "execute_result"
    }
   ],
   "source": [
    "# Model with optimal hyper_parameters\n",
    "Tree_model2 = DecisionTreeClassifier(criterion = \"gini\", \n",
    "                                  random_state = 100,\n",
    "                                  max_depth=5, \n",
    "                                  min_samples_leaf=5,\n",
    "                                  min_samples_split=10)\n",
    "\n",
    "Tree_model2.fit(X_train_us, Y_train_us)"
   ]
  },
  {
   "cell_type": "markdown",
   "id": "3ab82ef3",
   "metadata": {},
   "source": [
    "####  Prediction on the train set"
   ]
  },
  {
   "cell_type": "code",
   "execution_count": 95,
   "id": "9cfc41ba",
   "metadata": {},
   "outputs": [],
   "source": [
    "# Predictions on the train set\n",
    "Y_train_us_pred = Tree_model2.predict(X_train_us)"
   ]
  },
  {
   "cell_type": "code",
   "execution_count": 96,
   "id": "6cd4b093",
   "metadata": {},
   "outputs": [
    {
     "name": "stdout",
     "output_type": "stream",
     "text": [
      "[[384   9]\n",
      " [ 15 379]]\n"
     ]
    }
   ],
   "source": [
    "# Confusion matrix\n",
    "confusion = metrics.confusion_matrix(Y_train_us, Y_train_us_pred)\n",
    "print(confusion)"
   ]
  },
  {
   "cell_type": "code",
   "execution_count": 97,
   "id": "9bc00c5b",
   "metadata": {},
   "outputs": [],
   "source": [
    "TP = confusion[1,1] # True positive \n",
    "TN = confusion[0,0] # True negatives\n",
    "FP = confusion[0,1] # False positives\n",
    "FN = confusion[1,0] # False negatives"
   ]
  },
  {
   "cell_type": "code",
   "execution_count": 98,
   "id": "d14949f7",
   "metadata": {},
   "outputs": [
    {
     "name": "stdout",
     "output_type": "stream",
     "text": [
      "Accuracy:- 0.9695044472681067\n",
      "Sensitivity:- 0.9619289340101523\n",
      "Specificity:- 0.9770992366412213\n",
      "F1-Score:- 0.969309462915601\n"
     ]
    }
   ],
   "source": [
    "# Accuracy\n",
    "print(\"Accuracy:-\",metrics.accuracy_score(Y_train_us, Y_train_us_pred))\n",
    "# Sensitivity\n",
    "print(\"Sensitivity:-\",TP / float(TP+FN))\n",
    "\n",
    "# Specificity\n",
    "print(\"Specificity:-\", TN / float(TN+FP))\n",
    "\n",
    "# F1 score\n",
    "print(\"F1-Score:-\", f1_score(Y_train_us, Y_train_us_pred))\n"
   ]
  },
  {
   "cell_type": "code",
   "execution_count": 99,
   "id": "24cd25dc",
   "metadata": {},
   "outputs": [
    {
     "name": "stdout",
     "output_type": "stream",
     "text": [
      "              precision    recall  f1-score   support\n",
      "\n",
      "           0       0.96      0.98      0.97       393\n",
      "           1       0.98      0.96      0.97       394\n",
      "\n",
      "    accuracy                           0.97       787\n",
      "   macro avg       0.97      0.97      0.97       787\n",
      "weighted avg       0.97      0.97      0.97       787\n",
      "\n"
     ]
    }
   ],
   "source": [
    "# classification_report\n",
    "print(classification_report(Y_train_us, Y_train_us_pred))"
   ]
  },
  {
   "cell_type": "code",
   "execution_count": 100,
   "id": "dcdf929b",
   "metadata": {},
   "outputs": [],
   "source": [
    "# Predicted probability\n",
    "Y_train_pred_proba = Tree_model2.predict_proba(X_train_us)[:,1]\n"
   ]
  },
  {
   "cell_type": "code",
   "execution_count": 101,
   "id": "44f05fef",
   "metadata": {},
   "outputs": [
    {
     "data": {
      "text/plain": [
       "0.9913460172304671"
      ]
     },
     "execution_count": 101,
     "metadata": {},
     "output_type": "execute_result"
    }
   ],
   "source": [
    "# roc_auc\n",
    "auc = metrics.roc_auc_score(Y_train_us, Y_train_pred_proba)\n",
    "auc"
   ]
  },
  {
   "cell_type": "code",
   "execution_count": 102,
   "id": "b1087cc6",
   "metadata": {},
   "outputs": [
    {
     "data": {
      "image/png": "[encoded data removed]",
      "text/plain": [
       "<Figure size 360x360 with 1 Axes>"
      ]
     },
     "metadata": {
      "needs_background": "light"
     },
     "output_type": "display_data"
    }
   ],
   "source": [
    "# Plot the ROC curve\n",
    "draw_roc(Y_train_us, Y_train_pred_proba)"
   ]
  },
  {
   "cell_type": "markdown",
   "id": "eb5f4ded",
   "metadata": {},
   "source": [
    "#### Prediction on the test set"
   ]
  },
  {
   "cell_type": "code",
   "execution_count": 103,
   "id": "211a5008",
   "metadata": {},
   "outputs": [],
   "source": [
    "# Predictions on the test set\n",
    "Y_test_us_pred = Tree_model2.predict(X_test_us)\n"
   ]
  },
  {
   "cell_type": "code",
   "execution_count": 104,
   "id": "f06993ef",
   "metadata": {},
   "outputs": [
    {
     "name": "stdout",
     "output_type": "stream",
     "text": [
      "[[86 13]\n",
      " [ 9 89]]\n"
     ]
    }
   ],
   "source": [
    "confusion = metrics.confusion_matrix(Y_test_us, Y_test_us_pred)\n",
    "print(confusion)"
   ]
  },
  {
   "cell_type": "code",
   "execution_count": 105,
   "id": "3d48d641",
   "metadata": {},
   "outputs": [],
   "source": [
    "TP = confusion[1,1] # True positive \n",
    "TN = confusion[0,0] # True negatives\n",
    "FP = confusion[0,1] # False positives\n",
    "FN = confusion[1,0] # False negatives"
   ]
  },
  {
   "cell_type": "code",
   "execution_count": 106,
   "id": "b94619d5",
   "metadata": {},
   "outputs": [
    {
     "name": "stdout",
     "output_type": "stream",
     "text": [
      "Accuracy:- 0.8883248730964467\n",
      "Sensitivity:- 0.9081632653061225\n",
      "Specificity:- 0.8686868686868687\n",
      "F1-Score:- 0.89\n"
     ]
    }
   ],
   "source": [
    "# Accuracy\n",
    "print(\"Accuracy:-\",metrics.accuracy_score(Y_test_us, Y_test_us_pred))\n",
    "# Sensitivity\n",
    "print(\"Sensitivity:-\",TP / float(TP+FN))\n",
    "\n",
    "# Specificity\n",
    "print(\"Specificity:-\", TN / float(TN+FP))\n",
    "\n",
    "# F1 score\n",
    "print(\"F1-Score:-\", f1_score(Y_test_us, Y_test_us_pred))"
   ]
  },
  {
   "cell_type": "code",
   "execution_count": 107,
   "id": "7adf6264",
   "metadata": {},
   "outputs": [
    {
     "name": "stdout",
     "output_type": "stream",
     "text": [
      "              precision    recall  f1-score   support\n",
      "\n",
      "           0       0.91      0.87      0.89        99\n",
      "           1       0.87      0.91      0.89        98\n",
      "\n",
      "    accuracy                           0.89       197\n",
      "   macro avg       0.89      0.89      0.89       197\n",
      "weighted avg       0.89      0.89      0.89       197\n",
      "\n"
     ]
    }
   ],
   "source": [
    "# classification_report\n",
    "print(classification_report(Y_test_us, Y_test_us_pred))"
   ]
  },
  {
   "cell_type": "code",
   "execution_count": 108,
   "id": "19fa5cba",
   "metadata": {},
   "outputs": [],
   "source": [
    "# Predicted probability\n",
    "Y_test_pred_proba = Tree_model2.predict_proba(X_test_us)[:,1]"
   ]
  },
  {
   "cell_type": "code",
   "execution_count": 109,
   "id": "3fa7fd5e",
   "metadata": {},
   "outputs": [
    {
     "data": {
      "text/plain": [
       "0.9517109874252732"
      ]
     },
     "execution_count": 109,
     "metadata": {},
     "output_type": "execute_result"
    }
   ],
   "source": [
    "# roc_auc\n",
    "auc = metrics.roc_auc_score(Y_test_us, Y_test_pred_proba)\n",
    "auc"
   ]
  },
  {
   "cell_type": "code",
   "execution_count": 110,
   "id": "0cbc6049",
   "metadata": {},
   "outputs": [
    {
     "data": {
      "image/png": "[encoded data removed]",
      "text/plain": [
       "<Figure size 360x360 with 1 Axes>"
      ]
     },
     "metadata": {
      "needs_background": "light"
     },
     "output_type": "display_data"
    }
   ],
   "source": [
    "# Plot the ROC curve\n",
    "draw_roc(Y_test_us, Y_test_pred_proba)"
   ]
  },
  {
   "cell_type": "markdown",
   "id": "ab9eb438",
   "metadata": {},
   "source": [
    "### Model Summary"
   ]
  },
  {
   "cell_type": "markdown",
   "id": "64354a94",
   "metadata": {},
   "source": [
    "\n",
    "Train set\n",
    "Accuracy = 0.96, Sensitivity = 0.96, Specificity=0.98, F1-Score = 0.96, Roc value= 0.98\n",
    "\n",
    "\n",
    "Test set\n",
    "Accuracy = 0.89, Sensitivity = 0.91, Specificity=0.96, F1-Score = 0.89, Roc value= 0.95\n"
   ]
  },
  {
   "cell_type": "markdown",
   "id": "a129c7e5",
   "metadata": {},
   "source": [
    "# Conclusion"
   ]
  },
  {
   "cell_type": "markdown",
   "id": "4ffe2da0",
   "metadata": {},
   "source": [
    "Performed two models(Logistic regression and Decision Tree Classifier) on both imbalanced and balanced data types. In case of imbalanced data set for both the models accuracy on Train and test data is approx 99 %, Roc value is in range(0.90-0.98) and f1 score is in range(0.67-0.87). In case of balanced data set for both the models accuracy on Train data set is approx 97% and on test data is in range (89-92) percentage, Roc value is in range (0.97-0.99) and f1 score is in range(0.89-0.92). Sensitivity(\"ability of model to predict true positive\") for both the model are in range (0.90-0.95) and Specifity(\"ability of model to predict true negative\") are in range (0.95-0.98).\n",
    "Both models are performing quite good so Both model can be used for checking wheather a transaction is ligit or fraud as both have accuracy approx 95% and highest value Roc value is 0.92 for test data set."
   ]
  }
 ],
 "metadata": {
  "kernelspec": {
   "display_name": "Python 3",
   "language": "python",
   "name": "python3"
  },
  "language_info": {
   "codemirror_mode": {
    "name": "ipython",
    "version": 3
   },
   "file_extension": ".py",
   "mimetype": "text/x-python",
   "name": "python",
   "nbconvert_exporter": "python",
   "pygments_lexer": "ipython3",
   "version": "3.8.8"
  }
 },
 "nbformat": 4,
 "nbformat_minor": 5
}
